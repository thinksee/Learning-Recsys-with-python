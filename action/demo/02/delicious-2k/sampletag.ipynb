{
 "cells": [
  {
   "cell_type": "code",
   "execution_count": 1,
   "metadata": {},
   "outputs": [],
   "source": [
    "import random\n",
    "import math\n",
    "import operator\n",
    "import pandas as pd"
   ]
  },
  {
   "cell_type": "code",
   "execution_count": 2,
   "metadata": {},
   "outputs": [],
   "source": [
    "file = open('user_taggedbookmarks-timestamps.dat')"
   ]
  },
  {
   "cell_type": "code",
   "execution_count": 3,
   "metadata": {},
   "outputs": [],
   "source": [
    "data = pd.read_csv('user_taggedbookmarks-timestamps.dat', delimiter='\\t')"
   ]
  },
  {
   "cell_type": "code",
   "execution_count": 8,
   "metadata": {},
   "outputs": [
    {
     "data": {
      "text/html": [
       "<div>\n",
       "<style scoped>\n",
       "    .dataframe tbody tr th:only-of-type {\n",
       "        vertical-align: middle;\n",
       "    }\n",
       "\n",
       "    .dataframe tbody tr th {\n",
       "        vertical-align: top;\n",
       "    }\n",
       "\n",
       "    .dataframe thead th {\n",
       "        text-align: right;\n",
       "    }\n",
       "</style>\n",
       "<table border=\"1\" class=\"dataframe\">\n",
       "  <thead>\n",
       "    <tr style=\"text-align: right;\">\n",
       "      <th></th>\n",
       "      <th>userID</th>\n",
       "      <th>bookmarkID</th>\n",
       "      <th>tagID</th>\n",
       "      <th>timestamp</th>\n",
       "    </tr>\n",
       "  </thead>\n",
       "  <tbody>\n",
       "    <tr>\n",
       "      <td>0</td>\n",
       "      <td>8</td>\n",
       "      <td>1</td>\n",
       "      <td>1</td>\n",
       "      <td>1289255362000</td>\n",
       "    </tr>\n",
       "    <tr>\n",
       "      <td>1</td>\n",
       "      <td>8</td>\n",
       "      <td>2</td>\n",
       "      <td>1</td>\n",
       "      <td>1289255159000</td>\n",
       "    </tr>\n",
       "    <tr>\n",
       "      <td>2</td>\n",
       "      <td>8</td>\n",
       "      <td>7</td>\n",
       "      <td>1</td>\n",
       "      <td>1289238901000</td>\n",
       "    </tr>\n",
       "    <tr>\n",
       "      <td>3</td>\n",
       "      <td>8</td>\n",
       "      <td>7</td>\n",
       "      <td>6</td>\n",
       "      <td>1289238901000</td>\n",
       "    </tr>\n",
       "    <tr>\n",
       "      <td>4</td>\n",
       "      <td>8</td>\n",
       "      <td>7</td>\n",
       "      <td>7</td>\n",
       "      <td>1289238901000</td>\n",
       "    </tr>\n",
       "  </tbody>\n",
       "</table>\n",
       "</div>"
      ],
      "text/plain": [
       "   userID  bookmarkID  tagID      timestamp\n",
       "0       8           1      1  1289255362000\n",
       "1       8           2      1  1289255159000\n",
       "2       8           7      1  1289238901000\n",
       "3       8           7      6  1289238901000\n",
       "4       8           7      7  1289238901000"
      ]
     },
     "execution_count": 8,
     "metadata": {},
     "output_type": "execute_result"
    }
   ],
   "source": [
    "data.head()"
   ]
  },
  {
   "cell_type": "code",
   "execution_count": 4,
   "metadata": {},
   "outputs": [
    {
     "name": "stdout",
     "output_type": "stream",
     "text": [
      "<class 'pandas.core.frame.DataFrame'>\n",
      "RangeIndex: 437593 entries, 0 to 437592\n",
      "Data columns (total 4 columns):\n",
      "userID        437593 non-null int64\n",
      "bookmarkID    437593 non-null int64\n",
      "tagID         437593 non-null int64\n",
      "timestamp     437593 non-null int64\n",
      "dtypes: int64(4)\n",
      "memory usage: 13.4 MB\n"
     ]
    }
   ],
   "source": [
    "data.info()"
   ]
  },
  {
   "cell_type": "code",
   "execution_count": 5,
   "metadata": {},
   "outputs": [
    {
     "name": "stdout",
     "output_type": "stream",
     "text": [
      "<class 'pandas.core.frame.DataFrame'>\n",
      "RangeIndex: 437593 entries, 0 to 437592\n",
      "Data columns (total 4 columns):\n",
      "userID        437593 non-null int64\n",
      "bookmarkID    437593 non-null int64\n",
      "tagID         437593 non-null int64\n",
      "timestamp     437593 non-null int64\n",
      "dtypes: int64(4)\n",
      "memory usage: 13.4 MB\n"
     ]
    }
   ],
   "source": [
    "data.info()"
   ]
  },
  {
   "cell_type": "code",
   "execution_count": 9,
   "metadata": {},
   "outputs": [],
   "source": [
    "class SimpleTagBased():\n",
    "    def __init__(self, filename):\n",
    "        self.filename = filename\n",
    "        self.load_data()\n",
    "        self.random_split_data(0.2)\n",
    "        self.init_state()\n",
    "        self.test_recommend()\n",
    "    \n",
    "    def load_data(self):\n",
    "        print('loading data.....')\n",
    "        filename = self.filename\n",
    "        self.records = {}\n",
    "        data = pd.read_csv(filename, delimiter='\\t')\n",
    "        for index, row in data.iterrows():\n",
    "            # user for some book setting tag\n",
    "            uid, bid, tid = row['userID'], row['bookmarkID'], row['tagID']\n",
    "            # graph or tree\n",
    "            self.records.setdefault(uid, {})\n",
    "            self.records[uid].setdefault(bid, [])\n",
    "            self.records[uid][bid].append(tid)\n",
    "        print('Size of Data Set', data.shape[0])\n",
    "        print('Number of person who sets tags', len(self.records))\n",
    "        print('Finish Loading Data')\n",
    "        \n",
    "    def random_split_data(self, ratio, seed=2020):\n",
    "        print('spliting data randomly.....')\n",
    "        random.seed(seed)\n",
    "        # build user-book according to tag\n",
    "        self.train = {}\n",
    "        self.test = {}\n",
    "        for user in self.records.keys():\n",
    "            for book in self.records[user].keys():\n",
    "                if random.random() < ratio:\n",
    "                    self.test.setdefault(user, {})\n",
    "                    self.test[user].setdefault(book, [])\n",
    "                    for tag in self.records[user][book]:\n",
    "                        self.test[user][book].append(tag)\n",
    "                else:\n",
    "                    self.train.setdefault(user, {})\n",
    "                    self.train[user].setdefault(book, [])\n",
    "                    for tag in self.records[user][book]:\n",
    "                        self.train[user][book].append(tag)\n",
    "        print('Size of train ', len(self.train), '\\nSize of test ', len(self.test))\n",
    "        \n",
    "    def init_state(self):\n",
    "        print('initing the mainly variable.......')\n",
    "        records = self.train\n",
    "        self.user_tags = {}\n",
    "        self.tag_books = {}\n",
    "        self.user_books = {}\n",
    "        for user, books in records.items():\n",
    "            for book, tags in books.items():\n",
    "                for tag in tags:\n",
    "                    # The relationship between user and tag\n",
    "                    self._add_value2mat(self.user_tags, user, tag, 1)\n",
    "                    # the relationship between tag and item\n",
    "                    self._add_value2mat(self.tag_books, tag, book, 1)\n",
    "                    # the relationship between user and item\n",
    "                    self._add_value2mat(self.user_books, user, book, 1)\n",
    "        print('user_tags, tag_books, user_books initialize finish.')\n",
    "        print('size of user_tags is {}, size of tag_books is {}, size of user_books is {}.'.format(len(self.user_tags), len(self.tag_books), len(self.user_books)))\n",
    "    \n",
    "    def _add_value2mat(self, dic, key, item, value=1):\n",
    "        # build the number of key-value\n",
    "        if key not in dic:\n",
    "            dic.setdefault(key, {})\n",
    "            dic[key].setdefault(item, value)\n",
    "        else:\n",
    "            if item not in dic[key]:\n",
    "                dic[key][item] = value\n",
    "            else:\n",
    "                dic[key][item] += value\n",
    "        \n",
    "    \n",
    "    def precision_and_recall(self, N):\n",
    "        print('calcing the precision and recall......')\n",
    "        hit = 0\n",
    "        h_recall = 0\n",
    "        h_precision = 0\n",
    "        for user, books in self.test.items():\n",
    "            # if user not in trainset, we can't get some important things\n",
    "            if user not in self.train:\n",
    "                continue\n",
    "            rank = self.recommend(user, N)\n",
    "            for book, rui in rank:\n",
    "                if book in books:\n",
    "                    hit += 1\n",
    "            h_recall += len(books)\n",
    "            h_precision += N\n",
    "        return 1. * hit / h_precision, 1. * hit / h_recall\n",
    "    # get Top N\n",
    "    def recommend(self, user, N):\n",
    "#         print('recommending top-N for user.........')\n",
    "        recommend_books = {}\n",
    "        # scored for book, scores for sum (times of user using tag, multipy times of book using the same tag.)\n",
    "        tagged_books= self.user_books[user]\n",
    "        for tag, wut in self.user_tags[user].items():\n",
    "            for book, wti in self.tag_books[tag].items():\n",
    "                if book in tagged_books:\n",
    "                    continue\n",
    "                if book not in recommend_books:\n",
    "                    recommend_books[book] = wti * wut\n",
    "                else:\n",
    "                    recommend_books[book] += wti * wut\n",
    "        return sorted(recommend_books.items(), key=operator.itemgetter(1), reverse=True)[0:N]\n",
    "\n",
    "    def test_recommend(self):\n",
    "        print('result for result evaluation:')\n",
    "        print(\"%3s %10s %10s\" % ('N',\"precision\",'recall'))\n",
    "        for n in [5,10,20,40,60,80,100]:\n",
    "            precision, recall = self.precision_and_recall(n)\n",
    "            print(precision, recall)\n",
    "            print(\"%3d %10.3f%% %10.3f%%\" % (n, precision * 100, recall * 100))"
   ]
  },
  {
   "cell_type": "code",
   "execution_count": null,
   "metadata": {},
   "outputs": [
    {
     "name": "stdout",
     "output_type": "stream",
     "text": [
      "loading data.....\n",
      "Size of Data Set 437593\n",
      "Number of person who sets tags 1867\n",
      "Finish Loading Data\n",
      "spliting data randomly.....\n",
      "Size of train  1864 \n",
      "Size of test  1775\n",
      "initing the mainly variable.......\n",
      "user_tags, tag_books, user_books initialize finish.\n",
      "size of user_tags is 1864, size of tag_books is 36798, size of user_books is 1864.\n",
      "result for result evaluation:\n",
      "  N  precision     recall\n",
      "calcing the precision and recall......\n",
      "0.009932279909706547 0.00421072778601847\n",
      "  5      0.993%      0.421%\n",
      "calcing the precision and recall......\n"
     ]
    }
   ],
   "source": [
    "stb = SimpleTagBased('user_taggedbookmarks-timestamps.dat')"
   ]
  },
  {
   "cell_type": "markdown",
   "metadata": {},
   "source": [
    "|     |  Positive   | Negative  |\n",
    "|:----: |  :----:  | :----: |\n",
    "|True | TP  | FP |\n",
    "|False| FN  | TN |\n",
    "\n",
    "$$Acc = \\frac{TP+TN}{TP+FP+FN+TN}$$\n",
    "$$Pre = \\frac{TP}{TP+FP}$$\n",
    "$$Recall = \\frac{TP}{TP+FN}$$\n",
    "$$rui = wui \\times wti$$"
   ]
  },
  {
   "cell_type": "code",
   "execution_count": null,
   "metadata": {},
   "outputs": [],
   "source": []
  }
 ],
 "metadata": {
  "kernelspec": {
   "display_name": "Python 3",
   "language": "python",
   "name": "python3"
  },
  "language_info": {
   "codemirror_mode": {
    "name": "ipython",
    "version": 3
   },
   "file_extension": ".py",
   "mimetype": "text/x-python",
   "name": "python",
   "nbconvert_exporter": "python",
   "pygments_lexer": "ipython3",
   "version": "3.7.4"
  }
 },
 "nbformat": 4,
 "nbformat_minor": 4
}
