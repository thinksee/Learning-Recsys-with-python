{
 "cells": [
  {
   "cell_type": "markdown",
   "metadata": {},
   "source": [
    "## Introduce\n",
    "word2vec的引入，由于one-hot编码无法准确表达不同词之间的相似度，因此为了解决这个问题，提出了Word2Vec，它将每个词表示成一个定长的向量，并通过在语料上预训练是的这些向量能较好的表达不同词之间的相似和类比关系，以引入一定的语义信息。基于两种概率模型的假设，可以定义两种word2vec模型。\n",
    "\n",
    "1. Skip-Gram跳字模型：假设背景词由中心词生成，即建模$P(w_0|w_c)$，其中$w_c$为中心词，$w_0$为任一背景词。 \n",
    "\n",
    "![skip-gram](imgs/skip-gram.png)\n",
    "\n",
    "2. CBOW (continuous bag-of-word)连续词袋模型：假设中心词由背景词生成，即建模 $P(w_c\\mid \\mathcal{W}_o)$，其中 $\\mathcal{W}_o$ 为背景词的集合。\n",
    "\n",
    "![Image Name](imgs/cbow.png)\n"
   ]
  },
  {
   "cell_type": "code",
   "execution_count": 67,
   "metadata": {},
   "outputs": [],
   "source": [
    "import collections\n",
    "import math\n",
    "import random\n",
    "import sys\n",
    "import time\n",
    "import os\n",
    "import numpy as np\n",
    "import torch\n",
    "from torch import nn\n",
    "import torch.utils.data as Data\n",
    "import jieba\n",
    "sys.path.append('.')\n",
    "from utils import files_processing\n",
    "from gensim.models import word2vec\n",
    "import multiprocessing\n",
    "from sklearn.decomposition import PCA\n",
    "from sklearn.manifold import TSNE\n",
    "from sklearn.metrics.pairwise import cosine_similarity\n",
    "import pandas as pd\n",
    "import matplotlib.pyplot as plt\n",
    "import matplotlib\n",
    "import seaborn as sns\n",
    "# 设置matplotlib正常显示中文和负号\n",
    "matplotlib.rcParams['font.sans-serif']=['SimHei']   # 用黑体显示中文\n",
    "matplotlib.rcParams['axes.unicode_minus']=False     # 正常显示负号"
   ]
  },
  {
   "cell_type": "markdown",
   "metadata": {},
   "source": [
    "## word2vec基本原理探究\n",
    "使用经典的PTB语料进行训练。[PTB (Penn Tree Bank)](https://catalog.ldc.upenn.edu/LDC99T42) 是一个常用的小型语料库，它采样自《华尔街日报》的文章，包括训练集、验证集和测试集。我们将在PTB训练集上训练词嵌入模型。"
   ]
  },
  {
   "cell_type": "markdown",
   "metadata": {},
   "source": [
    "### 加载数据集"
   ]
  },
  {
   "cell_type": "code",
   "execution_count": 7,
   "metadata": {},
   "outputs": [
    {
     "name": "stdout",
     "output_type": "stream",
     "text": [
      "# sentences: 42068\n",
      "# tokens 24 ['aer', 'banknote', 'berlitz', 'calloway', 'centrust']\n",
      "# tokens 15 ['pierre', '<unk>', 'N', 'years', 'old']\n",
      "# tokens 11 ['mr.', '<unk>', 'is', 'chairman', 'of']\n"
     ]
    }
   ],
   "source": [
    "with open('dataset/ptb/ptb.train.txt') as f:\n",
    "    lines = f.readlines()\n",
    "    raw_dataset = [st.split() for st in lines]\n",
    "\n",
    "print('# sentences: %d' % len(raw_dataset))\n",
    "\n",
    "# 查看前3个句子\n",
    "for st in raw_dataset[:3]:\n",
    "    print('# tokens', len(st), st[:5])"
   ]
  },
  {
   "cell_type": "markdown",
   "metadata": {},
   "source": [
    "### 建立词语索引"
   ]
  },
  {
   "cell_type": "code",
   "execution_count": 8,
   "metadata": {},
   "outputs": [
    {
     "name": "stdout",
     "output_type": "stream",
     "text": [
      "# tokens: 887100\n"
     ]
    }
   ],
   "source": [
    "counter = collections.Counter([tk for st in raw_dataset for tk in st]) # 依次遍历所有数据集、句子和词语\n",
    "counter = dict(filter(lambda x: x[1] >= 5, counter.items()))  # 保留在数据集中至少出现5词的词 词:词频\n",
    "\n",
    "idx_to_token = [tk for tk, _ in counter.items()]\n",
    "token_to_idx = {tk : idx for idx, tk in enumerate(idx_to_token)}\n",
    "\n",
    "dataset = [[token_to_idx[tk] for tk in st if tk in token_to_idx] for st in raw_dataset]  # 将数据中的词都转化为index\n",
    "\n",
    "num_tokens = sum([len(st) for st in dataset])\n",
    "print('# tokens: %d' % num_tokens)"
   ]
  },
  {
   "cell_type": "markdown",
   "metadata": {},
   "source": [
    "### 二次采样\n",
    "文本数据中一般会出现一些高频词，如英文中的‘the’,'a'和‘in’。通常来说，在一个背景窗口中，一个词（如‘chip’）和低频词（如‘microprocessor’）同时出现比和较高频词（如‘the’）同时出现对训练词嵌入模型更加有益。因此，训练词嵌入模型时可以对词进行二次采样。具体来说，数据集中每个单词$w_i$将有一定概率被丢弃，该被丢弃概率为\n",
    "$$P(w_i) = max(1 - \\sqrt{\\frac{t}{f(w_i)}}, 0)$$\n",
    "其中$f(w_i)$是数据集中词$w_i$的个数与总词数之比，常数$t$是一个超参数（实验中设为$10^{-4}$）。可见，只有当$f(w_i) > t$时，才有可能在二次采样中丢弃词$w_i$，并且越高频词被丢弃的概率越大。"
   ]
  },
  {
   "cell_type": "code",
   "execution_count": 9,
   "metadata": {},
   "outputs": [
    {
     "name": "stdout",
     "output_type": "stream",
     "text": [
      "# tokens: 375983\n",
      "# the: before=50770, after=2103\n",
      "# join: before=45, after=45\n"
     ]
    }
   ],
   "source": [
    "def discard(idx, t=1e-4):\n",
    "    \"\"\"\n",
    "    @params:\n",
    "        idx: 单词的下标\n",
    "    @return: True/False 表示是否丢弃该单词\n",
    "    \"\"\"\n",
    "    return random.uniform(0, 1) < 1 - math.sqrt(t / counter[idx_to_token[idx]] * num_tokens)\n",
    "\n",
    "subsampled_dataset = [[tk for tk in st if not discard(tk)] for st in dataset]\n",
    "print('# tokens: %d' % sum([len(st) for st in subsampled_dataset]))\n",
    "\n",
    "def compare_counts(token):\n",
    "    return '# %s: before=%d, after=%d' % (\n",
    "        token, \n",
    "        sum([st.count(token_to_idx[token]) for st in dataset]),\n",
    "        sum([st.count(token_to_idx[token]) for st in subsampled_dataset])\n",
    "    )\n",
    "\n",
    "print(compare_counts('the'))\n",
    "print(compare_counts('join'))"
   ]
  },
  {
   "cell_type": "markdown",
   "metadata": {},
   "source": [
    "### 提取中心词和背景词"
   ]
  },
  {
   "cell_type": "code",
   "execution_count": 10,
   "metadata": {},
   "outputs": [
    {
     "name": "stdout",
     "output_type": "stream",
     "text": [
      "dataset [[0, 1, 2, 3, 4, 5, 6], [7, 8, 9]]\n",
      "center 0 has contexts [1, 2]\n",
      "center 1 has contexts [0, 2, 3]\n",
      "center 2 has contexts [0, 1, 3, 4]\n",
      "center 3 has contexts [2, 4]\n",
      "center 4 has contexts [3, 5]\n",
      "center 5 has contexts [4, 6]\n",
      "center 6 has contexts [4, 5]\n",
      "center 7 has contexts [8]\n",
      "center 8 has contexts [7, 9]\n",
      "center 9 has contexts [7, 8]\n"
     ]
    }
   ],
   "source": [
    "def get_centers_and_contexts(dataset, max_window_size):\n",
    "    \"\"\"\n",
    "    @params:\n",
    "        dataset: 数据集为句子的集合，每个句子则为单词的集合，此时单词已经被转换相应的数字下标\n",
    "        max_window_size: 背景词的窗口大小的最大值\n",
    "    @return \n",
    "        all_negatives: 中心词的集合\n",
    "        contexts: 背景词窗口的集合，与中心词对应，每个背景词窗为背景词的集合\n",
    "    \"\"\"\n",
    "    centers, contexts = [], []\n",
    "    for st in dataset:\n",
    "        if len(st) < 2: # 每个句子至少要有2个词才能组成一对‘中心词-背景词’\n",
    "            continue\n",
    "        centers += st\n",
    "        for center_i in range(len(st)):\n",
    "            window_size = random.randint(1, max_window_size)  # 随机选取背景词窗大小\n",
    "            indices = list(range(max(0, center_i - window_size), min(len(st), center_i + 1 + window_size)))\n",
    "            indices.remove(center_i)  # 将中心词排除在背景词之外\n",
    "            contexts.append([st[idx] for idx in indices])\n",
    "    return centers, contexts\n",
    "\n",
    "all_centers, all_contexts = get_centers_and_contexts(subsampled_dataset, 5)\n",
    "tiny_dataset = [list(range(7)), list(range(7, 10))]\n",
    "print('dataset', tiny_dataset)\n",
    "\n",
    "for center, context in zip(*get_centers_and_contexts(tiny_dataset, 2)):\n",
    "    print('center', center, 'has contexts', context)"
   ]
  },
  {
   "cell_type": "markdown",
   "metadata": {},
   "source": [
    "### Skip-Gram跳字模型\n",
    "\n",
    "在跳字模型中，每个词被表示为两个$d$维向量，用来计算条件概率。假设这个词在词典中索引为$i$，当它为中心词时向量表示为$v_i \\in R^d$，而为背景词时向量表示为$u_i \\in R^d$。设中心词$w_c$在词典中索引为$c$，背景词$w_o$在词典中索引为$o$，我们假设给定中心词生成背景词的条件概率满足下式：\n",
    "$$P(w_o|w_c)=\\frac{exp(u_o^T v_c)}{\\sum_{i \\in V}exp(u_i^T v_c)}$$\n",
    "其中$V$表示词典。"
   ]
  },
  {
   "cell_type": "markdown",
   "metadata": {},
   "source": [
    "#### pytorch预置的embedding层"
   ]
  },
  {
   "cell_type": "code",
   "execution_count": 11,
   "metadata": {},
   "outputs": [
    {
     "name": "stdout",
     "output_type": "stream",
     "text": [
      "torch.Size([10, 4])\n",
      "torch.Size([2, 3, 4])\n"
     ]
    }
   ],
   "source": [
    "embed = nn.Embedding(num_embeddings=10, embedding_dim=4)  # num_embeddings=10，可以表示单词总数目，embedding_dim，可以表示为词嵌入维度\n",
    "print(embed.weight.shape)\n",
    "\n",
    "x = torch.tensor([[1, 2, 3], [4, 5, 6]], dtype=torch.long)  # 2x3\n",
    "\n",
    "print(embed(x).shape)"
   ]
  },
  {
   "cell_type": "markdown",
   "metadata": {},
   "source": [
    "#### pytorch预置的批量乘法"
   ]
  },
  {
   "cell_type": "code",
   "execution_count": 12,
   "metadata": {},
   "outputs": [
    {
     "name": "stdout",
     "output_type": "stream",
     "text": [
      "torch.Size([2, 1, 6])\n"
     ]
    }
   ],
   "source": [
    "X = torch.ones((2, 1, 4))  # 第一维为channal\n",
    "Y = torch.ones((2, 4, 6))\n",
    "print(torch.bmm(X, Y).shape)"
   ]
  },
  {
   "cell_type": "markdown",
   "metadata": {},
   "source": [
    "### skip-gram前向计算"
   ]
  },
  {
   "cell_type": "code",
   "execution_count": 13,
   "metadata": {},
   "outputs": [],
   "source": [
    "def skip_gram(center, contexts_and_negatives, embed_v, embed_u):\n",
    "    \"\"\"\n",
    "    @params:\n",
    "        center: 中心词，形状为（n,1）的张量\n",
    "        contexts_and_negatives: 背景词和噪音词下标，形状为（n,m）的整数张量\n",
    "        embed_v: 中心词embedding层\n",
    "        embed_u: 背景词embedding层\n",
    "    @return\n",
    "        pred: 中心词和背景词的内积，之后用于计算概率P(w_o|w_c)\n",
    "    \"\"\"\n",
    "    v = embed_v(center)    # n, 1, d\n",
    "    u = embed_u(contexts_and_negatives)  # n m d\n",
    "    pred = torch.bmm(v, u.permute(0, 2, 1)) # nx1xd nxdxm -> nx1xm\n",
    "    return pred"
   ]
  },
  {
   "cell_type": "markdown",
   "metadata": {},
   "source": [
    "### 负采样近似\n",
    "由于softmax运算考虑了背景词可能是词典中$V$的任一词，对应于含几十万或上百万词的较大词典，可能导致开销过大。采用负采样的方式可以近似条件概率$P(w_o|w_c)=\\frac{exp(u_o^T v_c)}{\\sum_{i \\in V} exp(u_i^T v_c)}$。\n",
    "\n",
    "**负采样解释**\n",
    "\n",
    "给定一个文本序列$w_1, w_2, \\cdots, w_{c-m}, \\cdots, w_c, \\cdots, w_{c+m}, \\cdots, w_T$，某个中心词$w_c$窗口大小为$m$。$\\{{w_c, w_{c-m}\\}, \\cdots, \\{{w_c, w_{c+m}\\}}}$称为正样本，我们按照一定的概率分布$P(\\bar{w})$从词典中抽取$K$个负样本$\\bar{w}_1, \\bar{w}_2, \\cdots, \\bar{w}_K$，那么$\\{{w_c, \\bar{w}_K}\\}(k=1,\\cdots, K)$称为负样本。那么给定中心词$w_c$，预测$w_j(j\\in (c-m, c+m))$由以下事件构成：\n",
    "- $w_c$和$w_j$共同出现\n",
    "- $w_c$没有$\\bar{w}_1$共同出现\n",
    "- $\\cdots$\n",
    "- $w_c$没有$\\bar{w}_K$共同出现\n",
    "\n",
    "在一个文本序列中，设$P(D=1|w_j, w_c)$为中心词$w_c$和词$w_j$在当前窗口中同时出现的概率，$w_j$是需要预测的词，可能是当前窗口中中心词的上下文，也有可能不是当前窗口中的上下文词。$P(D=0|w_j, w_c)$为中心词$w_c$和词$w_j$在没有当前窗口中同时出现的概率。以上事件的联合概率分布为：\n",
    "$$P(D=1|w_j, w_c)\\prod_{k=1}^K P(D=0|\\bar{w}_k, w_c)$$\n",
    "其中\n",
    "$$P(D=1|w_j, w_c) = 1 - P(D=0|w_j, w_c)$$\n",
    "取对数进一步可得\n",
    "$$log \\ P(D=1|w_j, w_c) + \\sum_{k=1}^K \\ log(1-P(D=1|\\bar{w}_k, w_c))$$\n",
    "\n",
    "其中中心词和负样本在同一窗口概率$u_j$表示输出词的词向量表示，$v_c$表示输入词（中心词）的词向量表示，由于结果只有两种情况（共现和非共现），则可以使用sigmoid函数来进行表示两个词共现的概率。\n",
    "\n",
    "![](imgs\\sigmoid.png)\n",
    "\n",
    "即原始的softmax预测概率转化为\n",
    "$log \\frac{1}{1+exp(-u_j^Tv_c)} + \\sum_{k=1}^K log\\frac{1}{1+exp(u_k^Tv_c)}$\n",
    "由上可知，上式为二分类的交叉熵函数，这样的话可以将softmax函数中的$O(W)$复杂度降低为$O(K)$。其中\n",
    "$$P(w_j|w_c)=P(D=1|w_j,w_c)=\\sigma(u_j^Tv_c)=\\frac{1}{1+exp(-u_j^Tv_c)}$$\n",
    "\n",
    "其中根据Word2vec论文建议$P(w)$设为$w$词频与总词频之比的0.75次方。"
   ]
  },
  {
   "cell_type": "code",
   "execution_count": 15,
   "metadata": {},
   "outputs": [],
   "source": [
    "def get_negatives(all_contexts, sampling_weights, K):\n",
    "    \"\"\"\n",
    "    @params:\n",
    "        all_contexts: [[w_o1, w_o2, ...], [...], ...]\n",
    "        sampling_weights: 每个单词的噪声词采样概率\n",
    "        K：随机采样个数\n",
    "    @return \n",
    "        all_negatives: [[w_n1, w_n2, ...], [...], ...]\n",
    "    \"\"\"\n",
    "    all_negatives, neg_candidates, i = [], [], 0\n",
    "    population = list(range(len(sampling_weights)))\n",
    "    for contexts in all_contexts:\n",
    "        negatives = []\n",
    "        while len(negatives) < len(contexts) * K:\n",
    "            if i == len(neg_candidates):\n",
    "                i, neg_candidates = 0, random.choices(population, sampling_weights, k=int(1e5))\n",
    "            neg, i = neg_candidates[i], i + 1\n",
    "            if neg not in set(contexts):\n",
    "                negatives.append(neg)\n",
    "        all_negatives.append(negatives)\n",
    "    return all_negatives\n",
    "\n",
    "sampling_weights = [counter[w] ** 0.75 for w in idx_to_token]\n",
    "all_negatives = get_negatives(all_contexts, sampling_weights, 5)"
   ]
  },
  {
   "cell_type": "code",
   "execution_count": 21,
   "metadata": {},
   "outputs": [
    {
     "data": {
      "text/plain": [
       "(375039, 35, 375039, [0, 1, 6, 8, 10, 11, 12], 375039, 0)"
      ]
     },
     "execution_count": 21,
     "metadata": {},
     "output_type": "execute_result"
    }
   ],
   "source": [
    "len(all_negatives), len(all_negatives[2]), len(all_contexts), all_contexts[2], len(all_centers), all_centers[0]"
   ]
  },
  {
   "cell_type": "markdown",
   "metadata": {},
   "source": [
    "### 批量读取数据"
   ]
  },
  {
   "cell_type": "code",
   "execution_count": 20,
   "metadata": {},
   "outputs": [
    {
     "name": "stdout",
     "output_type": "stream",
     "text": [
      "centers shape: torch.Size([512, 1])\n",
      "contexts_negatives shape: torch.Size([512, 60])\n",
      "masks shape: torch.Size([512, 60])\n",
      "labels shape: torch.Size([512, 60])\n"
     ]
    }
   ],
   "source": [
    "class MyDataset(torch.utils.data.Dataset):\n",
    "    def __init__(self, centers, contexts, negatives):\n",
    "        assert len(centers) == len(contexts) == len(negatives)\n",
    "        self.centers = centers\n",
    "        self.contexts = contexts\n",
    "        self.negatives = negatives\n",
    "        \n",
    "    def __getitem__(self, index):\n",
    "        return (self.centers[index], self.contexts[index], self.negatives[index])\n",
    "\n",
    "    def __len__(self):\n",
    "        return len(self.centers)\n",
    "    \n",
    "def batchify(data):\n",
    "    \"\"\"\n",
    "    用作DataLoader的参数collate_fn\n",
    "    @params:\n",
    "        data: 长为batch_size的列表，列表中的每个元素都是__getitem__得到的结果\n",
    "    @outputs:\n",
    "        batch: 批量化后得到 (centers, contexts_negatives, masks, labels) 元组\n",
    "            centers: 中心词下标，形状为 (n, 1) 的整数张量\n",
    "            contexts_negatives: 背景词和噪声词的下标，形状为 (n, m) 的整数张量\n",
    "            masks: 与补齐相对应的掩码，形状为 (n, m) 的0/1整数张量\n",
    "            labels: 指示中心词的标签，形状为 (n, m) 的0/1整数张量\n",
    "    \"\"\"\n",
    "    max_len = max(len(c) + len(n) for _, c, n in data)\n",
    "    centers, contexts_negatives, masks, labels = [], [], [], []\n",
    "    for center, context, negative in data:\n",
    "        cur_len = len(context) + len(negative)\n",
    "        centers += [center]\n",
    "        contexts_negatives += [context + negative + [0] * (max_len - cur_len)]\n",
    "        masks += [[1] * cur_len + [0] * (max_len - cur_len)] # 使用掩码变量mask来避免填充项对损失函数计算的影响\n",
    "        labels += [[1] * len(context) + [0] * (max_len - len(context))]  # 负样本除了采样的还有就是，使用0进行填充的\n",
    "        batch = (torch.tensor(centers).view(-1, 1), torch.tensor(contexts_negatives),\n",
    "            torch.tensor(masks), torch.tensor(labels))\n",
    "    return batch\n",
    "\n",
    "batch_size = 512\n",
    "num_workers = 0 if sys.platform.startswith('win32') else 4\n",
    "\n",
    "dataset = MyDataset(all_centers, all_contexts, all_negatives)\n",
    "data_iter = Data.DataLoader(dataset, batch_size, shuffle=True,\n",
    "                            collate_fn=batchify, \n",
    "                            num_workers=num_workers)\n",
    "for batch in data_iter:\n",
    "    for name, data in zip(['centers', 'contexts_negatives', 'masks',\n",
    "                           'labels'], batch):\n",
    "        print(name, 'shape:', data.shape)\n",
    "    break"
   ]
  },
  {
   "cell_type": "markdown",
   "metadata": {},
   "source": [
    "### 训练模型\n",
    "**损失函数**\n",
    "\n",
    "$$\n",
    "\\sum_{t=1}^T\\sum_{-m\\le j\\le m,j\\ne 0} [-\\log P(D=1\\mid w^{(t)},w^{(t+j)})-\\sum_{k=1,w_k\\sim P(w)^K}\\log P(D=0\\mid w^{(t)},w_k)]\n",
    "$$\n",
    "\n",
    "\n",
    "根据这个损失函数的定义，直接使用二元交叉熵损失函数进行计算："
   ]
  },
  {
   "cell_type": "code",
   "execution_count": 22,
   "metadata": {},
   "outputs": [
    {
     "name": "stdout",
     "output_type": "stream",
     "text": [
      "tensor([0.8740, 1.2100])\n",
      "0.8740\n",
      "1.2100\n"
     ]
    }
   ],
   "source": [
    "class SigmoidBinaryCrossEntropyLoss(nn.Module):\n",
    "    def __init__(self):\n",
    "        super(SigmoidBinaryCrossEntropyLoss, self).__init__()\n",
    "    def forward(self, inputs, targets, mask=None):\n",
    "        \"\"\"\n",
    "        @params:\n",
    "            inputs: 经过sigmoid层后为预测D=1的概率\n",
    "            targets: 0/1向量，1代表背景词，0代表噪音词\n",
    "        @return:\n",
    "            res: 平均到每个label的loss\n",
    "        \"\"\"\n",
    "        inputs, targets, mask = inputs.float(), targets.float(), mask.float()\n",
    "        res = nn.functional.binary_cross_entropy_with_logits(inputs, targets, reduction=\"none\", weight=mask)\n",
    "        res = res.sum(dim=1) / mask.float().sum(dim=1)\n",
    "        return res\n",
    "\n",
    "loss = SigmoidBinaryCrossEntropyLoss()\n",
    "\n",
    "pred = torch.tensor([[1.5, 0.3, -1, 2], [1.1, -0.6, 2.2, 0.4]])\n",
    "label = torch.tensor([[1, 0, 0, 0], [1, 1, 0, 0]]) # 标签变量label中的1和0分别代表背景词和噪声词\n",
    "mask = torch.tensor([[1, 1, 1, 1], [1, 1, 1, 0]])  # 掩码变量\n",
    "print(loss(pred, label, mask))\n",
    "\n",
    "def sigmd(x):\n",
    "    return - math.log(1 / (1 + math.exp(-x)))\n",
    "print('%.4f' % ((sigmd(1.5) + sigmd(-0.3) + sigmd(1) + sigmd(-2)) / 4)) # 注意1-sigmoid(x) = sigmoid(-x)\n",
    "print('%.4f' % ((sigmd(1.1) + sigmd(-0.6) + sigmd(-2.2)) / 3))"
   ]
  },
  {
   "cell_type": "markdown",
   "metadata": {},
   "source": [
    "### 初始化模型"
   ]
  },
  {
   "cell_type": "code",
   "execution_count": 26,
   "metadata": {},
   "outputs": [],
   "source": [
    "embed_size = 100\n",
    "net = nn.Sequential(nn.Embedding(num_embeddings=len(idx_to_token), embedding_dim=embed_size),\n",
    "                    nn.Embedding(num_embeddings=len(idx_to_token), embedding_dim=embed_size))"
   ]
  },
  {
   "cell_type": "markdown",
   "metadata": {},
   "source": [
    "### 训练模型"
   ]
  },
  {
   "cell_type": "code",
   "execution_count": null,
   "metadata": {},
   "outputs": [],
   "source": [
    "def train(net, lr, num_epochs):\n",
    "    device = torch.device('cuda' if torch.cuda.is_available() else 'cpu')\n",
    "    print(\"train on\", device)\n",
    "    net = net.to(device)\n",
    "    optimizer = torch.optim.Adam(net.parameters(), lr=lr)  # 优化器\n",
    "    for epoch in range(num_epochs):\n",
    "        start, l_sum, n = time.time(), 0.0, 0\n",
    "        for batch in data_iter:\n",
    "            center, context_negative, mask, label = [d.to(device) for d in batch]\n",
    "            \n",
    "            pred = skip_gram(center, context_negative, net[0], net[1])\n",
    "            \n",
    "            l = loss(pred.view(label.shape), label, mask).mean() # 一个batch的平均loss\n",
    "            optimizer.zero_grad()\n",
    "            l.backward()\n",
    "            optimizer.step()\n",
    "            l_sum += l.cpu().item()\n",
    "            n += 1\n",
    "        print('epoch %d, loss %.2f, time %.2fs'\n",
    "              % (epoch + 1, l_sum / n, time.time() - start))\n",
    "\n",
    "train(net, 0.01, 5)"
   ]
  },
  {
   "cell_type": "markdown",
   "metadata": {},
   "source": [
    "### 测试模型"
   ]
  },
  {
   "cell_type": "code",
   "execution_count": null,
   "metadata": {},
   "outputs": [],
   "source": [
    "def get_similar_tokens(query_token, k, embed):\n",
    "    '''\n",
    "    @params:\n",
    "        query_token: 给定的词语\n",
    "        k: 近义词的个数\n",
    "        embed: 预训练词向量\n",
    "    '''\n",
    "    W = embed.weight.data\n",
    "    x = W[token_to_idx[query_token]]\n",
    "    # 添加的1e-9是为了数值稳定性\n",
    "    cos = torch.matmul(W, x) / (torch.sum(W * W, dim=1) * torch.sum(x * x) + 1e-9).sqrt()  # 余弦相似度\n",
    "    _, topk = torch.topk(cos, k=k+1)\n",
    "    topk = topk.cpu().numpy()\n",
    "    for i in topk[1:]:  # 除去输入词\n",
    "        print('cosine sim=%.3f: %s' % (cos[i], (idx_to_token[i])))\n",
    "        \n",
    "get_similar_tokens('chip', 3, net[0])  # v 中心词"
   ]
  },
  {
   "cell_type": "markdown",
   "metadata": {},
   "source": [
    "## 三国演义分析"
   ]
  },
  {
   "cell_type": "code",
   "execution_count": 9,
   "metadata": {},
   "outputs": [],
   "source": [
    "source_folder = 'dataset/three_kingdoms/source/'\n",
    "segment_folder = 'dataset/three_kingdoms/segment/'\n",
    "stopwords_file = 'dataset/three_kingdoms/stopwords.txt'\n",
    "model_file = 'dataset/three_kingdoms/models/'"
   ]
  },
  {
   "cell_type": "code",
   "execution_count": 3,
   "metadata": {},
   "outputs": [
    {
     "name": "stderr",
     "output_type": "stream",
     "text": [
      "Building prefix dict from the default dictionary ...\n",
      "Dumping model to file cache C:\\Users\\thinksee\\AppData\\Local\\Temp\\jieba.cache\n",
      "Loading model cost 2.076 seconds.\n",
      "Prefix dict has been built successfully.\n"
     ]
    }
   ],
   "source": [
    "def segment_lines(file_list,segment_out_dir,stopwords=[]):\n",
    "    for i,file in enumerate(file_list):\n",
    "        segment_out_name=os.path.join(segment_out_dir,'segment_{}.txt'.format(i))\n",
    "        with open(file, 'rb') as f:\n",
    "            document = f.read()\n",
    "            document_cut = jieba.cut(document)\n",
    "            sentence_segment=[]\n",
    "            for word in document_cut:\n",
    "                if word not in stopwords:\n",
    "                    sentence_segment.append(word)\n",
    "            result = ' '.join(sentence_segment)\n",
    "            result = result.encode('utf-8')\n",
    "            with open(segment_out_name, 'wb') as f2:\n",
    "                f2.write(result)\n",
    "\n",
    "# 对source中的txt文件进行分词，输出到segment目录中\n",
    "file_list=files_processing.get_files_list(source_folder, postfix='*.txt')\n",
    "with open(stopwords_file, 'rb') as f:\n",
    "    stopwords = [word.strip() for word in f.readlines()]\n",
    "segment_lines(file_list, segment_folder, stopwords)"
   ]
  },
  {
   "cell_type": "code",
   "execution_count": 53,
   "metadata": {},
   "outputs": [],
   "source": [
    "# 如果目录中有多个文件，可以使用PathLineSentences\n",
    "sentences = word2vec.PathLineSentences(segment_folder)\n",
    "# 设置模型参数，进行训练\n",
    "model = word2vec.Word2Vec(sentences, size=256, window=7, min_count=5, workers=multiprocessing.cpu_count())\n",
    "# 保存模型\n",
    "model.save(model_file + 'word2Vec.model')"
   ]
  },
  {
   "cell_type": "code",
   "execution_count": 54,
   "metadata": {},
   "outputs": [],
   "source": [
    "key = '曹操'"
   ]
  },
  {
   "cell_type": "code",
   "execution_count": 55,
   "metadata": {},
   "outputs": [],
   "source": [
    "key_similar = model.wv.most_similar(positive=[key])"
   ]
  },
  {
   "cell_type": "code",
   "execution_count": 60,
   "metadata": {},
   "outputs": [],
   "source": [
    "def tsnescatterplot(model, word, list_names):\n",
    "    \"\"\" Plot in seaborn the results from the t-SNE dimensionality reduction algorithm of the vectors of a query word,\n",
    "    its list of most similar words, and a list of words.\n",
    "    \"\"\"\n",
    "    arrays = np.empty((0, 256), dtype='f')\n",
    "    word_labels = [word]\n",
    "    color_list  = ['red']\n",
    "\n",
    "    # adds the vector of the query word\n",
    "    arrays = np.append(arrays, model.wv.__getitem__([word]), axis=0)\n",
    "    \n",
    "    # gets list of most similar words\n",
    "    close_words = model.wv.most_similar([word])\n",
    "    \n",
    "    # adds the vector for each of the closest words to the array\n",
    "    for wrd_score in close_words:\n",
    "        wrd_vector = model.wv.__getitem__([wrd_score[0]])\n",
    "        word_labels.append(wrd_score[0])\n",
    "        color_list.append('blue')\n",
    "        arrays = np.append(arrays, wrd_vector, axis=0)\n",
    "    \n",
    "    # adds the vector for each of the words from list_names to the array\n",
    "    for wrd in list_names:\n",
    "        wrd_vector = model.wv.__getitem__([wrd])\n",
    "        word_labels.append(wrd)\n",
    "        color_list.append('green')\n",
    "        arrays = np.append(arrays, wrd_vector, axis=0)\n",
    "        \n",
    "    # Reduces the dimensionality from 128 to 50 dimensions with PCA\n",
    "    reduc = PCA(n_components=20).fit_transform(arrays)\n",
    "    \n",
    "    # Finds t-SNE coordinates for 2 dimensions\n",
    "    np.set_printoptions(suppress=True)\n",
    "    \n",
    "    Y = TSNE(n_components=2, random_state=0, perplexity=15).fit_transform(reduc)\n",
    "    \n",
    "    # Sets everything up to plot\n",
    "    df = pd.DataFrame({'x': [x for x in Y[:, 0]],\n",
    "                       'y': [y for y in Y[:, 1]],\n",
    "                       'words': word_labels,\n",
    "                       'color': color_list})\n",
    "    \n",
    "    fig, _ = plt.subplots()\n",
    "    fig.set_size_inches(9, 9)\n",
    "    \n",
    "    # Basic plot\n",
    "    p1 = sns.regplot(data=df,\n",
    "                     x=\"x\",\n",
    "                     y=\"y\",\n",
    "                     fit_reg=False,\n",
    "                     marker=\"o\",\n",
    "                     scatter_kws={'s': 40,\n",
    "                                  'facecolors': df['color']\n",
    "                                 }\n",
    "                    )\n",
    "    \n",
    "    # Adds annotations one by one with a loop\n",
    "    for line in range(0, df.shape[0]):\n",
    "         p1.text(df[\"x\"][line],\n",
    "                 df['y'][line],\n",
    "                 '  ' + df[\"words\"][line].title(),\n",
    "                 horizontalalignment='left',\n",
    "                 verticalalignment='bottom', size='medium',\n",
    "                 color=df['color'][line],\n",
    "                 weight='normal'\n",
    "                ).set_size(15)\n",
    "\n",
    "    \n",
    "    plt.xlim(Y[:, 0].min()-50, Y[:, 0].max()+50)\n",
    "    plt.ylim(Y[:, 1].min()-50, Y[:, 1].max()+50)\n",
    "            \n",
    "    plt.title('t-SNE visualization for {}'.format(word.title()))"
   ]
  },
  {
   "cell_type": "code",
   "execution_count": 61,
   "metadata": {},
   "outputs": [
    {
     "data": {
      "image/png": "[encoded data removed]",
      "text/plain": [
       "<Figure size 648x648 with 1 Axes>"
      ]
     },
     "metadata": {
      "needs_background": "light"
     },
     "output_type": "display_data"
    }
   ],
   "source": [
    "tsnescatterplot(model, key , [val for val, sim in key_similar])"
   ]
  },
  {
   "cell_type": "code",
   "execution_count": 62,
   "metadata": {},
   "outputs": [
    {
     "data": {
      "text/plain": [
       "(7576, 256)"
      ]
     },
     "execution_count": 62,
     "metadata": {},
     "output_type": "execute_result"
    }
   ],
   "source": [
    "model.wv.vectors.shape"
   ]
  },
  {
   "cell_type": "code",
   "execution_count": 63,
   "metadata": {},
   "outputs": [],
   "source": [
    "diff = model.wv.vectors[model.wv.vocab['曹操'].index] + model.wv.vectors[model.wv.vocab['刘备'].index] - model.wv.vectors[model.wv.vocab['张飞'].index]"
   ]
  },
  {
   "cell_type": "code",
   "execution_count": 64,
   "metadata": {},
   "outputs": [
    {
     "data": {
      "text/plain": [
       "array([ 0.49460888,  0.7077824 , -0.20553754,  0.01666102, -0.7367102 ,\n",
       "       -1.6063187 ,  0.06006914, -0.6465473 , -0.25196746, -0.2383393 ,\n",
       "        0.26354122, -0.2547242 ,  0.03313252,  0.44526428,  0.0052729 ,\n",
       "        0.41189876, -0.3148582 ,  0.07270121,  0.25936133, -0.4799904 ,\n",
       "       -0.16791664, -0.11199747, -0.18375838, -0.02909552,  0.6317071 ,\n",
       "       -0.00445095, -0.55216163,  0.15906657, -0.22643057,  0.17075293,\n",
       "       -0.5421487 , -0.14504106,  0.81612587, -0.8833269 , -0.18587877,\n",
       "        0.9971214 , -0.11514871,  0.84644663,  0.98394686,  0.33239824,\n",
       "       -0.1598773 , -0.6571071 , -0.28300947,  0.6336794 , -0.39398032,\n",
       "       -0.22683221,  0.6803193 , -0.41576332,  0.4157681 ,  0.6830084 ,\n",
       "        0.57932675, -0.02631037,  0.43965936, -0.39018217, -0.505124  ,\n",
       "       -0.685711  , -0.11210967, -0.63473225,  0.85132617,  0.28266877,\n",
       "       -0.16004938, -0.674787  ,  0.32271555,  0.34791705,  0.13810757,\n",
       "        0.24735314, -0.22097842,  0.31083485,  0.1323286 ,  1.0995773 ,\n",
       "        0.45735106,  0.56171924, -0.16607748, -0.8516158 , -0.25196883,\n",
       "        0.39328352, -0.46792164, -0.7115457 , -0.07549411, -0.36248177,\n",
       "       -0.5211896 , -0.20285988,  0.07566038,  0.03587866,  0.5544514 ,\n",
       "       -0.06962425, -0.25827122,  0.0984689 , -0.02495068, -0.36426884,\n",
       "        0.29559577, -0.35444924,  1.1123182 , -0.16990983,  0.2944348 ,\n",
       "        0.0913403 ,  0.13527155,  0.33407244,  0.5945088 ,  0.17848727,\n",
       "       -0.41456702, -0.13835251, -0.48418808, -0.35991436, -0.17419735,\n",
       "        0.02419569, -0.05641356, -0.38576424, -0.46630213, -0.24801403,\n",
       "        0.60455257, -0.5854451 ,  0.40502375,  0.1254641 ,  0.37913746,\n",
       "        1.1453626 , -0.9344995 , -0.20414662, -0.65931714,  0.2032263 ,\n",
       "       -0.16127002, -0.3156898 , -0.740217  ,  0.46967012, -0.6523179 ,\n",
       "        0.13098466, -0.08153903,  0.02118763, -0.6293225 ,  0.27789676,\n",
       "       -0.03263983, -0.5692675 ,  0.0678933 ,  0.2815427 , -0.0311147 ,\n",
       "       -0.5123155 ,  0.698615  ,  0.14500956, -0.2875347 , -0.76406527,\n",
       "       -0.2973834 ,  0.04608661,  0.14939988, -0.5592159 ,  0.61710745,\n",
       "       -0.3569427 ,  1.120535  , -1.1207575 ,  0.5974395 , -0.48048535,\n",
       "       -0.24479455, -0.29983407, -0.35432902, -0.43997234,  0.25705034,\n",
       "        0.22309616, -0.106475  ,  0.18849975,  0.18581194,  0.17767797,\n",
       "        0.838045  ,  0.05431068, -0.78528535,  0.2866832 ,  0.38631105,\n",
       "       -0.19749632, -0.27792764,  0.04363567, -0.37026536,  0.24080494,\n",
       "       -0.5712056 , -0.06749873, -0.1543405 ,  0.32234222,  0.06517152,\n",
       "        0.19583312,  0.3771335 , -0.83222616, -0.04019743,  0.37340224,\n",
       "        0.5591756 ,  0.30948722,  0.19935812,  0.03922351,  0.1611987 ,\n",
       "       -0.35411674,  0.36846924, -0.08927718, -0.36680317,  0.09662078,\n",
       "        0.4661158 ,  0.08359475,  0.06237033,  0.13774884, -0.42249662,\n",
       "        0.07281591,  0.10293941, -0.17750624,  0.05955239,  0.02246447,\n",
       "       -0.1532485 , -0.07326035, -0.04740007,  0.08021873,  0.00992498,\n",
       "       -0.8574652 , -0.08643071,  0.6811901 , -0.33957112, -0.29656017,\n",
       "       -0.23907652, -0.2632612 , -0.16294426,  0.11950473,  0.16830453,\n",
       "       -0.2362122 , -0.4769034 , -0.2779964 ,  0.1888229 ,  1.0088117 ,\n",
       "       -0.3911894 , -0.6349929 ,  1.0086908 , -0.01115185,  0.36255175,\n",
       "       -0.10777315, -0.662956  ,  0.07915786,  0.521209  ,  0.48668686,\n",
       "       -0.06988075, -0.5289684 , -0.09592268,  0.7444483 , -0.5390147 ,\n",
       "        0.01366665, -0.99721277,  0.3373554 , -0.1626623 ,  0.2331091 ,\n",
       "        0.6609358 ,  0.11249875,  0.15975127,  0.49749544, -0.7865612 ,\n",
       "        0.41262823, -0.98620087, -0.80572736, -0.04716735,  0.3736417 ,\n",
       "        0.47758806,  0.8858019 ,  0.14926046, -0.04835427,  0.42483473,\n",
       "        0.45237982], dtype=float32)"
      ]
     },
     "execution_count": 64,
     "metadata": {},
     "output_type": "execute_result"
    }
   ],
   "source": [
    "diff"
   ]
  },
  {
   "cell_type": "code",
   "execution_count": 68,
   "metadata": {},
   "outputs": [],
   "source": [
    "def cos_sim(vector_a, vector_b):\n",
    "    \"\"\"\n",
    "    计算两个向量之间的余弦相似度\n",
    "    :param vector_a: 向量 a \n",
    "    :param vector_b: 向量 b\n",
    "    :return: sim\n",
    "    \"\"\"\n",
    "    vector_a = np.mat(vector_a)\n",
    "    vector_b = np.mat(vector_b)\n",
    "    num = float(vector_a * vector_b.T)\n",
    "    denom = np.linalg.norm(vector_a) * np.linalg.norm(vector_b)\n",
    "    cos = num / denom\n",
    "    sim = 0.5 + 0.5 * cos\n",
    "    return sim"
   ]
  },
  {
   "cell_type": "code",
   "execution_count": 78,
   "metadata": {},
   "outputs": [],
   "source": [
    "idx = [(i, cos_sim(diff, other)) for i, other in enumerate(model.wv.vectors)]\n",
    "idx.sort(key=lambda x: x[1], reverse=True)"
   ]
  },
  {
   "cell_type": "code",
   "execution_count": 95,
   "metadata": {},
   "outputs": [
    {
     "data": {
      "text/plain": [
       "'结束'"
      ]
     },
     "execution_count": 95,
     "metadata": {},
     "output_type": "execute_result"
    }
   ],
   "source": [
    "list(model.wv.vocab.keys())[idx[0][0]]"
   ]
  },
  {
   "cell_type": "markdown",
   "metadata": {},
   "source": [
    "- 当计算不同元素/单词之间相加减时，基本思路是使用词向量直接做运算，然后利用余弦相似度找出最相近的单词。\n",
    "- 需要注意的是，每次模型的输出结果不同的原因，模型中使用了采样技术或者使用了一定的概率技术进行了样本的处理"
   ]
  },
  {
   "cell_type": "code",
   "execution_count": null,
   "metadata": {},
   "outputs": [],
   "source": []
  }
 ],
 "metadata": {
  "kernelspec": {
   "display_name": "Python 3",
   "language": "python",
   "name": "python3"
  },
  "language_info": {
   "codemirror_mode": {
    "name": "ipython",
    "version": 3
   },
   "file_extension": ".py",
   "mimetype": "text/x-python",
   "name": "python",
   "nbconvert_exporter": "python",
   "pygments_lexer": "ipython3",
   "version": "3.7.4"
  }
 },
 "nbformat": 4,
 "nbformat_minor": 4
}
