{
 "cells": [
  {
   "cell_type": "code",
   "execution_count": 1,
   "metadata": {},
   "outputs": [],
   "source": [
    "import tensorflow as tf"
   ]
  },
  {
   "cell_type": "markdown",
   "metadata": {},
   "source": [
    "**Embedding向量**\n",
    "\n",
    "- 按照索（常数）引查表；\n",
    "- 按照one-hot编码进行乘法取出相应的数值；"
   ]
  },
  {
   "cell_type": "code",
   "execution_count": 2,
   "metadata": {},
   "outputs": [],
   "source": [
    "embedding = tf.constant(\n",
    "    [\n",
    "        [0.21, 0.41, 0.51, 0.11],\n",
    "        [0.22, 0.42, 0.52, 0.12],\n",
    "        [0.23, 0.43, 0.53, 0.13],\n",
    "        [0.24, 0.44, 0.54, 0.14],\n",
    "    ], dtype=tf.float32\n",
    ")"
   ]
  },
  {
   "cell_type": "code",
   "execution_count": 3,
   "metadata": {},
   "outputs": [],
   "source": [
    "feature_batch = tf.constant([2, 3, 1, 0])"
   ]
  },
  {
   "cell_type": "code",
   "execution_count": 4,
   "metadata": {},
   "outputs": [],
   "source": [
    "get_embedding1 = tf.nn.embedding_lookup(embedding, feature_batch)"
   ]
  },
  {
   "cell_type": "code",
   "execution_count": 5,
   "metadata": {},
   "outputs": [
    {
     "data": {
      "text/plain": [
       "<tf.Tensor 'embedding_lookup/Identity:0' shape=(4, 4) dtype=float32>"
      ]
     },
     "execution_count": 5,
     "metadata": {},
     "output_type": "execute_result"
    }
   ],
   "source": [
    "get_embedding1"
   ]
  },
  {
   "cell_type": "code",
   "execution_count": 6,
   "metadata": {},
   "outputs": [],
   "source": [
    "feature_batch_one_hot = tf.one_hot(feature_batch, depth=4)"
   ]
  },
  {
   "cell_type": "code",
   "execution_count": 7,
   "metadata": {},
   "outputs": [
    {
     "data": {
      "text/plain": [
       "<tf.Tensor 'one_hot:0' shape=(4, 4) dtype=float32>"
      ]
     },
     "execution_count": 7,
     "metadata": {},
     "output_type": "execute_result"
    }
   ],
   "source": [
    "feature_batch_one_hot"
   ]
  },
  {
   "cell_type": "code",
   "execution_count": 8,
   "metadata": {},
   "outputs": [],
   "source": [
    "get_embedding2 = tf.matmul(feature_batch_one_hot, embedding)"
   ]
  },
  {
   "cell_type": "code",
   "execution_count": 9,
   "metadata": {},
   "outputs": [
    {
     "name": "stdout",
     "output_type": "stream",
     "text": [
      "[[0.23 0.43 0.53 0.13]\n",
      " [0.24 0.44 0.54 0.14]\n",
      " [0.22 0.42 0.52 0.12]\n",
      " [0.21 0.41 0.51 0.11]]\n",
      "[[0.23 0.43 0.53 0.13]\n",
      " [0.24 0.44 0.54 0.14]\n",
      " [0.22 0.42 0.52 0.12]\n",
      " [0.21 0.41 0.51 0.11]]\n",
      "[[0. 0. 1. 0.]\n",
      " [0. 0. 0. 1.]\n",
      " [0. 1. 0. 0.]\n",
      " [1. 0. 0. 0.]]\n"
     ]
    }
   ],
   "source": [
    "with tf.Session() as sess:\n",
    "    sess.run(tf.global_variables_initializer())\n",
    "    embedding1, embedding2 = sess.run([get_embedding1, get_embedding2])\n",
    "    print(embedding1)\n",
    "    print(embedding2)\n",
    "    print(sess.run(feature_batch_one_hot))"
   ]
  },
  {
   "cell_type": "code",
   "execution_count": 10,
   "metadata": {},
   "outputs": [],
   "source": [
    "# 随机初始化embedding向量\n",
    "embedding = tf.get_variable(name='embedding', shape=[4, 4], dtype=tf.float32, initializer=tf.random_normal_initializer)"
   ]
  },
  {
   "cell_type": "code",
   "execution_count": 11,
   "metadata": {},
   "outputs": [
    {
     "data": {
      "text/plain": [
       "<tf.Variable 'embedding:0' shape=(4, 4) dtype=float32_ref>"
      ]
     },
     "execution_count": 11,
     "metadata": {},
     "output_type": "execute_result"
    }
   ],
   "source": [
    "embedding"
   ]
  },
  {
   "cell_type": "code",
   "execution_count": 12,
   "metadata": {},
   "outputs": [],
   "source": [
    "feature_batch = tf.constant([2, 3, 1, 0])"
   ]
  },
  {
   "cell_type": "code",
   "execution_count": 13,
   "metadata": {},
   "outputs": [],
   "source": [
    "get_embedding1 = tf.nn.embedding_lookup(embedding, feature_batch)"
   ]
  },
  {
   "cell_type": "code",
   "execution_count": 14,
   "metadata": {},
   "outputs": [],
   "source": [
    "feature_batch_one_hot = tf.one_hot(feature_batch, depth=4)"
   ]
  },
  {
   "cell_type": "code",
   "execution_count": 15,
   "metadata": {},
   "outputs": [],
   "source": [
    "get_embedding2 = tf.matmul(feature_batch_one_hot, embedding)"
   ]
  },
  {
   "cell_type": "code",
   "execution_count": 24,
   "metadata": {},
   "outputs": [
    {
     "name": "stdout",
     "output_type": "stream",
     "text": [
      "[[ 0.03057877  0.833631    0.5891976  -0.25846544]\n",
      " [ 1.4779516  -1.4665494  -0.93241465  0.6418597 ]\n",
      " [ 0.2655276   0.24751423 -0.57023716  0.64956355]\n",
      " [-2.6789153  -0.3966026   0.3470999  -1.3673408 ]]\n",
      "[[ 0.2655276   0.24751423 -0.57023716  0.64956355]\n",
      " [-2.6789153  -0.3966026   0.3470999  -1.3673408 ]\n",
      " [ 1.4779516  -1.4665494  -0.93241465  0.6418597 ]\n",
      " [ 0.03057877  0.833631    0.5891976  -0.25846544]]\n",
      "[[ 0.2655276   0.24751423 -0.57023716  0.64956355]\n",
      " [-2.6789153  -0.3966026   0.3470999  -1.3673408 ]\n",
      " [ 1.4779516  -1.4665494  -0.93241465  0.6418597 ]\n",
      " [ 0.03057877  0.833631    0.5891976  -0.25846544]]\n"
     ]
    }
   ],
   "source": [
    "with tf.Session() as sess:\n",
    "    sess.run(tf.global_variables_initializer())\n",
    "    embedding, embedding1, embedding2 = sess.run([embedding, get_embedding1, get_embedding2])\n",
    "    print(embedding)\n",
    "    print(embedding1)\n",
    "    print(embedding2)"
   ]
  },
  {
   "cell_type": "markdown",
   "metadata": {},
   "source": [
    "## 单维索引\n",
    "- **slice** 按照指定的下标范围抽取连续区域的子集\n",
    "- **gather** 按照指定的下标集合从axis=0中抽取子集，适合抽取不连续区域的子集。"
   ]
  },
  {
   "cell_type": "code",
   "execution_count": 31,
   "metadata": {},
   "outputs": [],
   "source": [
    "embedding = tf.constant(\n",
    "    [\n",
    "        [0.21,0.41,0.51,0.11],\n",
    "        [0.22,0.42,0.52,0.12],\n",
    "        [0.23,0.43,0.53,0.13],\n",
    "        [0.24,0.44,0.54,0.14]\n",
    "    ],dtype=tf.float32)"
   ]
  },
  {
   "cell_type": "code",
   "execution_count": 32,
   "metadata": {},
   "outputs": [
    {
     "data": {
      "text/plain": [
       "<tf.Variable 'Variable_6:0' shape=(4,) dtype=int32_ref>"
      ]
     },
     "execution_count": 32,
     "metadata": {},
     "output_type": "execute_result"
    }
   ],
   "source": [
    "index_a = tf.Variable([2, 3, 1, 0])\n",
    "index_a"
   ]
  },
  {
   "cell_type": "code",
   "execution_count": 33,
   "metadata": {},
   "outputs": [
    {
     "data": {
      "text/plain": [
       "<tf.Tensor 'GatherV2_3:0' shape=(4, 4) dtype=float32>"
      ]
     },
     "execution_count": 33,
     "metadata": {},
     "output_type": "execute_result"
    }
   ],
   "source": [
    "gather_a = tf.gather(embedding, index_a)\n",
    "gather_a"
   ]
  },
  {
   "cell_type": "code",
   "execution_count": 34,
   "metadata": {},
   "outputs": [],
   "source": [
    "gather_a_axis1 = tf.gather(embedding, index_a, axis=1)"
   ]
  },
  {
   "cell_type": "code",
   "execution_count": 35,
   "metadata": {},
   "outputs": [],
   "source": [
    "b = tf.Variable([1, 2, 3, 4, 5, 6, 7, 8, 9, 10])\n",
    "index_b = tf.Variable([2, 4, 6, 8])\n",
    "gather_b = tf.gather(b, index_b)"
   ]
  },
  {
   "cell_type": "code",
   "execution_count": 36,
   "metadata": {},
   "outputs": [
    {
     "name": "stdout",
     "output_type": "stream",
     "text": [
      "[[0.23 0.43 0.53 0.13]\n",
      " [0.24 0.44 0.54 0.14]\n",
      " [0.22 0.42 0.52 0.12]\n",
      " [0.21 0.41 0.51 0.11]]\n",
      "[3 5 7 9]\n",
      "[[0.51 0.11 0.41 0.21]\n",
      " [0.52 0.12 0.42 0.22]\n",
      " [0.53 0.13 0.43 0.23]\n",
      " [0.54 0.14 0.44 0.24]]\n"
     ]
    }
   ],
   "source": [
    "with tf.Session() as sess:\n",
    "    sess.run(tf.global_variables_initializer())\n",
    "#     print(sess.run(embedding))\n",
    "    print(sess.run(gather_a))\n",
    "    print(sess.run(gather_b))\n",
    "    print(sess.run(gather_a_axis1))"
   ]
  },
  {
   "cell_type": "markdown",
   "metadata": {},
   "source": [
    "**多维索引**"
   ]
  },
  {
   "cell_type": "code",
   "execution_count": 28,
   "metadata": {},
   "outputs": [],
   "source": [
    "a = tf.Variable([[1, 2, 3, 4, 5], [6, 7, 8, 9, 10], [11, 12, 13, 14, 15]])\n",
    "index_a = tf.Variable([2])"
   ]
  },
  {
   "cell_type": "code",
   "execution_count": 37,
   "metadata": {},
   "outputs": [],
   "source": [
    "b = tf.get_variable(name='b',shape=[3,3,2],initializer=tf.random_normal_initializer)\n",
    "index_b = tf.Variable([[0,1,1],[2,2,0]])"
   ]
  },
  {
   "cell_type": "markdown",
   "metadata": {},
   "source": [
    "**gather_nd**\n",
    "- 将params索引为indices指定形状的切片数组中(indices代表索引后的数组形状)"
   ]
  },
  {
   "cell_type": "code",
   "execution_count": null,
   "metadata": {},
   "outputs": [],
   "source": []
  },
  {
   "cell_type": "markdown",
   "metadata": {},
   "source": [
    "**Sparse embedding**\n"
   ]
  },
  {
   "cell_type": "code",
   "execution_count": 44,
   "metadata": {},
   "outputs": [],
   "source": [
    "a = tf.SparseTensor(indices=[[0, 0],[1, 2],[1,3]], values=[1, 2, 3], dense_shape=[2, 4])\n",
    "b = tf.sparse_tensor_to_dense(a)"
   ]
  },
  {
   "cell_type": "code",
   "execution_count": 45,
   "metadata": {},
   "outputs": [],
   "source": [
    "embedding = tf.constant(\n",
    "    [\n",
    "        [0.21,0.41,0.51,0.11],\n",
    "        [0.22,0.42,0.52,0.12],\n",
    "        [0.23,0.43,0.53,0.13],\n",
    "        [0.24,0.44,0.54,0.14]\n",
    "    ],dtype=tf.float32)"
   ]
  },
  {
   "cell_type": "code",
   "execution_count": 46,
   "metadata": {},
   "outputs": [
    {
     "name": "stdout",
     "output_type": "stream",
     "text": [
      "WARNING:tensorflow:The default value of combiner will change from \"mean\" to \"sqrtn\" after 2016/11/01.\n"
     ]
    }
   ],
   "source": [
    "embedding_sparse = tf.nn.embedding_lookup_sparse(embedding, sp_ids=a, sp_weights=None)"
   ]
  },
  {
   "cell_type": "code",
   "execution_count": 47,
   "metadata": {},
   "outputs": [
    {
     "name": "stdout",
     "output_type": "stream",
     "text": [
      "[[0.22       0.42       0.52       0.12      ]\n",
      " [0.235      0.435      0.53499997 0.13499999]]\n",
      "[[1 0 0 0]\n",
      " [0 0 2 3]]\n"
     ]
    }
   ],
   "source": [
    "with tf.Session() as sess:\n",
    "    sess.run(tf.global_variables_initializer())\n",
    "    print(sess.run(embedding_sparse))\n",
    "    print(sess.run(b))"
   ]
  },
  {
   "cell_type": "code",
   "execution_count": null,
   "metadata": {},
   "outputs": [],
   "source": []
  }
 ],
 "metadata": {
  "kernelspec": {
   "display_name": "Python 3",
   "language": "python",
   "name": "python3"
  },
  "language_info": {
   "codemirror_mode": {
    "name": "ipython",
    "version": 3
   },
   "file_extension": ".py",
   "mimetype": "text/x-python",
   "name": "python",
   "nbconvert_exporter": "python",
   "pygments_lexer": "ipython3",
   "version": "3.7.4"
  }
 },
 "nbformat": 4,
 "nbformat_minor": 4
}
