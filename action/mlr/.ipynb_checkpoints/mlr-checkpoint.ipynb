{
 "cells": [
  {
   "cell_type": "code",
   "execution_count": 2,
   "metadata": {},
   "outputs": [],
   "source": [
    "import tensorflow as tf\n",
    "import time\n",
    "from sklearn.metrics import roc_auc_score\n",
    "import pandas as pd\n",
    "from get_data import get_data"
   ]
  },
  {
   "cell_type": "code",
   "execution_count": 6,
   "metadata": {},
   "outputs": [],
   "source": [
    "x = tf.placeholder(tf.float32,shape=[None,108])\n",
    "y = tf.placeholder(tf.float32,shape=[None])"
   ]
  },
  {
   "cell_type": "markdown",
   "metadata": {},
   "source": [
    "**MLR算法**\n",
    "\n",
    "$$p(y=1|x)=g(\\sum_{j=1}^m \\sigma(u_j^T x) \\mu(w_j^T x))$$\n",
    "常用softmax函数作为分片函数：\n",
    "$$p(y=1|x)=\\sum_{i=1}^m \\frac{exp(u_i^Tx)}{\\sum_{j=1}^m exp(u_j^Tx)} \\cdot \\frac{1}{1 + exp(-w_i^Tx)}$$\n",
    "\n",
    "**FtrlOptimizer (Follow The Regularized Leader)**\n",
    "FtrlOptimizer更新方法主要用于广告点击预测,广告点击预测通常千万级别的维度,因此有巨量的稀疏权重.其主要特点是将接近0 的权重直接置0,这样计算时可以直接跳过,从而简化计算.这个方法已经验证过在股票数据上较有效。"
   ]
  },
  {
   "cell_type": "code",
   "execution_count": 4,
   "metadata": {},
   "outputs": [],
   "source": [
    "m = 2\n",
    "learning_rate = 0.3\n",
    "u = tf.Variable(tf.random_normal([108,m],0.0,0.5),name='u')\n",
    "w = tf.Variable(tf.random_normal([108,m],0.0,0.5),name='w')"
   ]
  },
  {
   "cell_type": "code",
   "execution_count": 7,
   "metadata": {},
   "outputs": [],
   "source": [
    "U = tf.matmul(x,u)\n",
    "p1 = tf.nn.softmax(U)"
   ]
  },
  {
   "cell_type": "code",
   "execution_count": 8,
   "metadata": {},
   "outputs": [],
   "source": [
    "W = tf.matmul(x,w)\n",
    "p2 = tf.nn.sigmoid(W)"
   ]
  },
  {
   "cell_type": "code",
   "execution_count": 9,
   "metadata": {},
   "outputs": [],
   "source": [
    "pred = tf.reduce_sum(tf.multiply(p1,p2),1)"
   ]
  },
  {
   "cell_type": "code",
   "execution_count": 10,
   "metadata": {},
   "outputs": [
    {
     "name": "stdout",
     "output_type": "stream",
     "text": [
      "WARNING:tensorflow:From C:\\ProgramData\\Anaconda3\\lib\\site-packages\\tensorflow_core\\python\\ops\\nn_impl.py:183: where (from tensorflow.python.ops.array_ops) is deprecated and will be removed in a future version.\n",
      "Instructions for updating:\n",
      "Use tf.where in 2.0, which has the same broadcast rule as np.where\n"
     ]
    }
   ],
   "source": [
    "cost1=tf.reduce_mean(tf.nn.sigmoid_cross_entropy_with_logits(logits=pred, labels=y))\n",
    "cost=tf.add_n([cost1])\n",
    "train_op = tf.train.FtrlOptimizer(learning_rate).minimize(cost)"
   ]
  },
  {
   "cell_type": "code",
   "execution_count": 11,
   "metadata": {},
   "outputs": [],
   "source": [
    "train_x,train_y,test_x,test_y = get_data()"
   ]
  },
  {
   "cell_type": "code",
   "execution_count": null,
   "metadata": {},
   "outputs": [
    {
     "name": "stdout",
     "output_type": "stream",
     "text": [
      "0 1 cost:0.844245,train_auc:0.546987,test_auc:0.758541\n",
      "100 22 cost:0.694244,train_auc:0.826318,test_auc:0.824048\n",
      "200 44 cost:0.688313,train_auc:0.847975,test_auc:0.845930\n",
      "300 67 cost:0.684391,train_auc:0.861430,test_auc:0.859873\n",
      "400 88 cost:0.681675,train_auc:0.869072,test_auc:0.868000\n",
      "500 112 cost:0.679850,train_auc:0.873585,test_auc:0.872885\n",
      "600 144 cost:0.678534,train_auc:0.876737,test_auc:0.876306\n",
      "700 174 cost:0.677526,train_auc:0.879168,test_auc:0.878936\n",
      "800 207 cost:0.676715,train_auc:0.881167,test_auc:0.881084\n",
      "900 233 cost:0.676040,train_auc:0.882862,test_auc:0.882867\n",
      "1000 254 cost:0.675464,train_auc:0.884308,test_auc:0.884401\n",
      "1100 274 cost:0.674962,train_auc:0.885587,test_auc:0.885733\n",
      "1200 295 cost:0.674517,train_auc:0.886717,test_auc:0.886907\n",
      "1300 315 cost:0.674117,train_auc:0.887724,test_auc:0.887965\n",
      "1400 335 cost:0.673756,train_auc:0.888624,test_auc:0.888899\n",
      "1500 355 cost:0.673427,train_auc:0.889443,test_auc:0.889743\n",
      "1600 375 cost:0.673126,train_auc:0.890180,test_auc:0.890488\n",
      "1700 395 cost:0.672850,train_auc:0.890846,test_auc:0.891165\n",
      "1800 416 cost:0.672595,train_auc:0.891451,test_auc:0.891775\n",
      "1900 441 cost:0.672360,train_auc:0.891997,test_auc:0.892320\n",
      "2000 468 cost:0.672142,train_auc:0.892487,test_auc:0.892810\n",
      "2100 495 cost:0.671939,train_auc:0.892940,test_auc:0.893264\n",
      "2200 517 cost:0.671750,train_auc:0.893353,test_auc:0.893668\n",
      "2300 539 cost:0.671574,train_auc:0.893726,test_auc:0.894038\n",
      "2400 557 cost:0.671409,train_auc:0.894064,test_auc:0.894372\n",
      "2500 574 cost:0.671255,train_auc:0.894373,test_auc:0.894683\n",
      "2600 591 cost:0.671111,train_auc:0.894659,test_auc:0.894963\n",
      "2700 610 cost:0.670975,train_auc:0.894918,test_auc:0.895222\n",
      "2800 629 cost:0.670847,train_auc:0.895157,test_auc:0.895462\n",
      "2900 655 cost:0.670726,train_auc:0.895381,test_auc:0.895687\n",
      "3000 675 cost:0.670612,train_auc:0.895588,test_auc:0.895885\n",
      "3100 694 cost:0.670504,train_auc:0.895780,test_auc:0.896065\n",
      "3200 716 cost:0.670402,train_auc:0.895959,test_auc:0.896233\n",
      "3300 738 cost:0.670306,train_auc:0.896124,test_auc:0.896392\n",
      "3400 759 cost:0.670214,train_auc:0.896279,test_auc:0.896534\n",
      "3500 778 cost:0.670127,train_auc:0.896421,test_auc:0.896670\n",
      "3600 803 cost:0.670044,train_auc:0.896557,test_auc:0.896799\n",
      "3700 823 cost:0.669966,train_auc:0.896682,test_auc:0.896924\n",
      "3800 841 cost:0.669890,train_auc:0.896804,test_auc:0.897031\n",
      "3900 859 cost:0.669819,train_auc:0.896917,test_auc:0.897132\n",
      "4000 877 cost:0.669750,train_auc:0.897020,test_auc:0.897224\n",
      "4100 895 cost:0.669685,train_auc:0.897117,test_auc:0.897317\n",
      "4200 916 cost:0.669622,train_auc:0.897211,test_auc:0.897399\n",
      "4300 936 cost:0.669563,train_auc:0.897299,test_auc:0.897472\n",
      "4400 954 cost:0.669505,train_auc:0.897381,test_auc:0.897548\n",
      "4500 975 cost:0.669450,train_auc:0.897463,test_auc:0.897622\n",
      "4600 995 cost:0.669397,train_auc:0.897536,test_auc:0.897690\n",
      "4700 1014 cost:0.669347,train_auc:0.897605,test_auc:0.897751\n",
      "4800 1033 cost:0.669298,train_auc:0.897671,test_auc:0.897810\n",
      "4900 1052 cost:0.669251,train_auc:0.897735,test_auc:0.897859\n",
      "5000 1070 cost:0.669206,train_auc:0.897798,test_auc:0.897910\n",
      "5100 1088 cost:0.669162,train_auc:0.897854,test_auc:0.897962\n",
      "5200 1105 cost:0.669120,train_auc:0.897909,test_auc:0.898007\n",
      "5300 1123 cost:0.669080,train_auc:0.897961,test_auc:0.898052\n",
      "5400 1142 cost:0.669041,train_auc:0.898009,test_auc:0.898093\n",
      "5500 1160 cost:0.669003,train_auc:0.898058,test_auc:0.898136\n",
      "5600 1177 cost:0.668966,train_auc:0.898102,test_auc:0.898173\n",
      "5700 1194 cost:0.668931,train_auc:0.898144,test_auc:0.898209\n",
      "5800 1212 cost:0.668897,train_auc:0.898187,test_auc:0.898242\n",
      "5900 1230 cost:0.668864,train_auc:0.898228,test_auc:0.898276\n",
      "6000 1248 cost:0.668832,train_auc:0.898267,test_auc:0.898305\n",
      "6100 1266 cost:0.668801,train_auc:0.898304,test_auc:0.898333\n",
      "6200 1284 cost:0.668771,train_auc:0.898339,test_auc:0.898364\n",
      "6300 1301 cost:0.668741,train_auc:0.898372,test_auc:0.898395\n",
      "6400 1319 cost:0.668713,train_auc:0.898405,test_auc:0.898418\n",
      "6500 1336 cost:0.668686,train_auc:0.898437,test_auc:0.898443\n",
      "6600 1357 cost:0.668659,train_auc:0.898468,test_auc:0.898465\n",
      "6700 1374 cost:0.668633,train_auc:0.898497,test_auc:0.898488\n",
      "6800 1391 cost:0.668608,train_auc:0.898525,test_auc:0.898509\n",
      "6900 1408 cost:0.668583,train_auc:0.898550,test_auc:0.898532\n",
      "7000 1425 cost:0.668559,train_auc:0.898574,test_auc:0.898550\n",
      "7100 1442 cost:0.668536,train_auc:0.898601,test_auc:0.898571\n",
      "7200 1459 cost:0.668513,train_auc:0.898624,test_auc:0.898591\n"
     ]
    }
   ],
   "source": [
    "time_s=time.time()\n",
    "result = []\n",
    "with tf.Session() as sess:\n",
    "    sess.run(tf.global_variables_initializer())\n",
    "    for epoch in range(0, 10000):\n",
    "        f_dict = {x: train_x, y: train_y}\n",
    "\n",
    "        _, cost_, predict_ = sess.run([train_op, cost, pred], feed_dict=f_dict)\n",
    "\n",
    "        auc = roc_auc_score(train_y, predict_)\n",
    "        time_t = time.time()\n",
    "        if epoch % 100 == 0:\n",
    "            f_dict = {x: test_x, y: test_y}\n",
    "            _, cost_, predict_test = sess.run([train_op, cost, pred], feed_dict=f_dict)\n",
    "            test_auc = roc_auc_score(test_y, predict_test)\n",
    "            print(\"%d %ld cost:%f,train_auc:%f,test_auc:%f\" % (epoch, (time_t - time_s), cost_, auc, test_auc))\n",
    "            result.append([epoch,(time_t - time_s),auc,test_auc])\n",
    "\n",
    "pd.DataFrame(result,columns=['epoch','time','train_auc','test_auc']).to_csv(\"mlr_\"+str(m)+'.csv')"
   ]
  },
  {
   "cell_type": "code",
   "execution_count": null,
   "metadata": {},
   "outputs": [],
   "source": []
  }
 ],
 "metadata": {
  "kernelspec": {
   "display_name": "Python 3",
   "language": "python",
   "name": "python3"
  },
  "language_info": {
   "codemirror_mode": {
    "name": "ipython",
    "version": 3
   },
   "file_extension": ".py",
   "mimetype": "text/x-python",
   "name": "python",
   "nbconvert_exporter": "python",
   "pygments_lexer": "ipython3",
   "version": "3.7.4"
  }
 },
 "nbformat": 4,
 "nbformat_minor": 4
}
