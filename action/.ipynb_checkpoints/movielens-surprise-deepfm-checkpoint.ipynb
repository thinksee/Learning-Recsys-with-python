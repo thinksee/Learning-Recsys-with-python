{
 "cells": [
  {
   "cell_type": "code",
   "execution_count": 3,
   "metadata": {
    "colab": {
     "base_uri": "https://localhost:8080/",
     "height": 35
    },
    "colab_type": "code",
    "id": "ug7_JBTCLgmu",
    "outputId": "0d591989-086a-40af-fe11-0b4ca54736b8"
   },
   "outputs": [
    {
     "name": "stdout",
     "output_type": "stream",
     "text": [
      "Drive already mounted at /content/drive; to attempt to forcibly remount, call drive.mount(\"/content/drive\", force_remount=True).\n"
     ]
    }
   ],
   "source": [
    "from google.colab import drive\n",
    "drive.mount('/content/drive')\n",
    "import os\n",
    "os.chdir('/content/drive/My Drive/')"
   ]
  },
  {
   "cell_type": "code",
   "execution_count": null,
   "metadata": {
    "colab": {},
    "colab_type": "code",
    "id": "NvbY19SfFZkK"
   },
   "outputs": [],
   "source": [
    "# # 连接Kaggle\n",
    "# !pip install -U -q kaggle\n",
    "# !mkdir -p ~/.kaggle\n",
    "# !echo '{\"username\":\"whs2018\",\"key\":\"7c7b79288ebbf2b31cf55b3dd0e8f295\"}' > ~/.kaggle/kaggle.json\n",
    "# !chmod 600 ~/.kaggle/kaggle.json\n",
    "# # !kaggle competitions download -c pubg-finish-placement-prediction\n",
    "# !kaggle datasets download -d rounakbanik/the-movies-dataset"
   ]
  },
  {
   "cell_type": "code",
   "execution_count": 3,
   "metadata": {
    "colab": {
     "base_uri": "https://localhost:8080/",
     "height": 251
    },
    "colab_type": "code",
    "id": "IUIeD-RoQJrV",
    "outputId": "e735c047-cbf2-4d3e-e50f-e62388ce556d"
   },
   "outputs": [
    {
     "name": "stdout",
     "output_type": "stream",
     "text": [
      "Collecting deepctr\n",
      "\u001b[?25l  Downloading https://files.pythonhosted.org/packages/f2/f8/6980aa97741a6b7a1548116cb968d3bd3cf5f48bf5afe23b1a8024ddd3ba/deepctr-0.7.4-py3-none-any.whl (81kB)\n",
      "\u001b[K     |████████████████████████████████| 92kB 3.0MB/s eta 0:00:011\n",
      "\u001b[?25hRequirement already satisfied: requests in /usr/local/lib/python3.6/dist-packages (from deepctr) (2.21.0)\n",
      "Requirement already satisfied: h5py in /usr/local/lib/python3.6/dist-packages (from deepctr) (2.8.0)\n",
      "Requirement already satisfied: idna<2.9,>=2.5 in /usr/local/lib/python3.6/dist-packages (from requests->deepctr) (2.8)\n",
      "Requirement already satisfied: chardet<3.1.0,>=3.0.2 in /usr/local/lib/python3.6/dist-packages (from requests->deepctr) (3.0.4)\n",
      "Requirement already satisfied: urllib3<1.25,>=1.21.1 in /usr/local/lib/python3.6/dist-packages (from requests->deepctr) (1.24.3)\n",
      "Requirement already satisfied: certifi>=2017.4.17 in /usr/local/lib/python3.6/dist-packages (from requests->deepctr) (2019.11.28)\n",
      "Requirement already satisfied: numpy>=1.7 in /usr/local/lib/python3.6/dist-packages (from h5py->deepctr) (1.18.1)\n",
      "Requirement already satisfied: six in /usr/local/lib/python3.6/dist-packages (from h5py->deepctr) (1.12.0)\n",
      "Installing collected packages: deepctr\n",
      "Successfully installed deepctr-0.7.4\n"
     ]
    }
   ],
   "source": [
    "!pip install deepctr"
   ]
  },
  {
   "cell_type": "code",
   "execution_count": 4,
   "metadata": {
    "colab": {
     "base_uri": "https://localhost:8080/",
     "height": 305
    },
    "colab_type": "code",
    "id": "nPk_HP7jRZph",
    "outputId": "cb5d61c5-6adf-4b67-fee0-3b75189b7ffb"
   },
   "outputs": [
    {
     "name": "stdout",
     "output_type": "stream",
     "text": [
      "Collecting surprise\n",
      "  Downloading https://files.pythonhosted.org/packages/61/de/e5cba8682201fcf9c3719a6fdda95693468ed061945493dea2dd37c5618b/surprise-0.1-py2.py3-none-any.whl\n",
      "Collecting scikit-surprise\n",
      "\u001b[?25l  Downloading https://files.pythonhosted.org/packages/f5/da/b5700d96495fb4f092be497f02492768a3d96a3f4fa2ae7dea46d4081cfa/scikit-surprise-1.1.0.tar.gz (6.4MB)\n",
      "\u001b[K     |████████████████████████████████| 6.5MB 2.8MB/s \n",
      "\u001b[?25hRequirement already satisfied: joblib>=0.11 in /usr/local/lib/python3.6/dist-packages (from scikit-surprise->surprise) (0.14.1)\n",
      "Requirement already satisfied: numpy>=1.11.2 in /usr/local/lib/python3.6/dist-packages (from scikit-surprise->surprise) (1.18.1)\n",
      "Requirement already satisfied: scipy>=1.0.0 in /usr/local/lib/python3.6/dist-packages (from scikit-surprise->surprise) (1.4.1)\n",
      "Requirement already satisfied: six>=1.10.0 in /usr/local/lib/python3.6/dist-packages (from scikit-surprise->surprise) (1.12.0)\n",
      "Building wheels for collected packages: scikit-surprise\n",
      "  Building wheel for scikit-surprise (setup.py) ... \u001b[?25l\u001b[?25hdone\n",
      "  Created wheel for scikit-surprise: filename=scikit_surprise-1.1.0-cp36-cp36m-linux_x86_64.whl size=1678212 sha256=a1b475e5ec404d147020cdbdec6ecf86df4445b106f45da66f539a5a0b93ed64\n",
      "  Stored in directory: /root/.cache/pip/wheels/cc/fa/8c/16c93fccce688ae1bde7d979ff102f7bee980d9cfeb8641bcf\n",
      "Successfully built scikit-surprise\n",
      "Installing collected packages: scikit-surprise, surprise\n",
      "Successfully installed scikit-surprise-1.1.0 surprise-0.1\n"
     ]
    }
   ],
   "source": [
    "!pip install surprise"
   ]
  },
  {
   "cell_type": "code",
   "execution_count": 1,
   "metadata": {
    "colab": {
     "base_uri": "https://localhost:8080/",
     "height": 64
    },
    "colab_type": "code",
    "id": "ZD6Ds6hmN4Se",
    "outputId": "b2eab66b-ab45-4313-d2ea-8419407c58e1"
   },
   "outputs": [
    {
     "data": {
      "text/html": [
       "<p style=\"color: red;\">\n",
       "The default version of TensorFlow in Colab will soon switch to TensorFlow 2.x.<br>\n",
       "We recommend you <a href=\"https://www.tensorflow.org/guide/migrate\" target=\"_blank\">upgrade</a> now \n",
       "or ensure your notebook will continue to use TensorFlow 1.x via the <code>%tensorflow_version 1.x</code> magic:\n",
       "<a href=\"https://colab.research.google.com/notebooks/tensorflow_version.ipynb\" target=\"_blank\">more info</a>.</p>\n"
      ],
      "text/plain": [
       "<IPython.core.display.HTML object>"
      ]
     },
     "metadata": {
      "tags": []
     },
     "output_type": "display_data"
    }
   ],
   "source": [
    "import pandas as pd\n",
    "import torch\n",
    "\n",
    "import numpy as np\n",
    "\n",
    "import matplotlib.pyplot as plt\n",
    "from tqdm import tqdm\n",
    "\n",
    "from sklearn.metrics import mean_squared_error\n",
    "from sklearn.model_selection import train_test_split\n",
    "from sklearn.preprocessing import LabelEncoder\n",
    "\n",
    "from sklearn.model_selection import KFold, StratifiedKFold\n",
    "\n",
    "from tensorflow.python.keras.preprocessing.sequence import pad_sequences\n",
    "\n",
    "import surprise as sp\n",
    "from surprise.model_selection import cross_validate\n",
    "\n",
    "from deepctr.inputs import SparseFeat, DenseFeat,VarLenSparseFeat, get_feature_names\n",
    "from deepctr.models import DeepFM, xDeepFM, AutoInt, FGCNN, FiBiNET, DIN, DIEN, DSIN, WDL, ONN\n",
    "\n",
    "import gc"
   ]
  },
  {
   "cell_type": "markdown",
   "metadata": {
    "colab_type": "text",
    "id": "iXbBaIB2S0bw"
   },
   "source": [
    "## 基于矩阵分解的Surprise"
   ]
  },
  {
   "cell_type": "code",
   "execution_count": null,
   "metadata": {
    "colab": {},
    "colab_type": "code",
    "id": "KXelOImxRJWi"
   },
   "outputs": [],
   "source": [
    "movieslens_rating = pd.read_csv('movieslens-data/ratings.csv')"
   ]
  },
  {
   "cell_type": "code",
   "execution_count": 7,
   "metadata": {
    "colab": {
     "base_uri": "https://localhost:8080/",
     "height": 53
    },
    "colab_type": "code",
    "id": "qKL2vs7RTU0C",
    "outputId": "b4733172-3b91-43f0-cd60-c0bd52cc69ce"
   },
   "outputs": [
    {
     "data": {
      "text/plain": [
       "((26024289, 4),\n",
       " Index(['userId', 'movieId', 'rating', 'timestamp'], dtype='object'))"
      ]
     },
     "execution_count": 7,
     "metadata": {
      "tags": []
     },
     "output_type": "execute_result"
    }
   ],
   "source": [
    "movieslens_rating.shape, movieslens_rating.columns"
   ]
  },
  {
   "cell_type": "code",
   "execution_count": null,
   "metadata": {
    "colab": {},
    "colab_type": "code",
    "id": "euAw_X-pTo8V"
   },
   "outputs": [],
   "source": [
    "def filter_user_item(user_item_rating, min_nb_item_ratings=500, min_nb_user_ratings=300):\n",
    "    filter_items = (user_item_rating['movieId'].value_counts() > min_nb_item_ratings)\n",
    "    filter_items = filter_items[filter_items].index.tolist()\n",
    "    \n",
    "    filter_users = (user_item_rating['userId'].value_counts() > min_nb_user_ratings)\n",
    "    filter_users = filter_users[filter_users].index.tolist()\n",
    "    filter_ret = user_item_rating[(user_item_rating['movieId'].isin(filter_items)) & (user_item_rating['userId'].isin(filter_users))]\n",
    "    print('Shape User-Ratings unfiltered:\\t{}'.format(user_item_rating.shape))\n",
    "    print('Shape User-Ratings filtered:\\t{}'.format(filter_ret.shape))\n",
    "    return filter_ret"
   ]
  },
  {
   "cell_type": "code",
   "execution_count": null,
   "metadata": {
    "colab": {},
    "colab_type": "code",
    "id": "XrXJm88qTsNs"
   },
   "outputs": [],
   "source": [
    "def get_train_test(filtered_user_item, test_size=0.5):\n",
    "    X_train, X_test, _, _ = train_test_split(filtered_user_item.reset_index(), filtered_user_item['movieId'].values, test_size=test_size, random_state=2020, stratify=filtered_user_item['movieId'].values)\n",
    "    return X_train, X_test"
   ]
  },
  {
   "cell_type": "code",
   "execution_count": null,
   "metadata": {
    "colab": {},
    "colab_type": "code",
    "id": "3U1e01GrTbQC"
   },
   "outputs": [],
   "source": [
    "def get_user_item_rating_mat(data):\n",
    "    return data.pivot_table(index='userId', columns='movieId', values='rating')"
   ]
  },
  {
   "cell_type": "code",
   "execution_count": 11,
   "metadata": {
    "colab": {
     "base_uri": "https://localhost:8080/",
     "height": 71
    },
    "colab_type": "code",
    "id": "Kz3t_Ii2T21g",
    "outputId": "14e006b8-4b28-4218-de18-b36fe4bdda25"
   },
   "outputs": [
    {
     "name": "stdout",
     "output_type": "stream",
     "text": [
      "Shape User-Ratings unfiltered:\t(26024289, 4)\n",
      "Shape User-Ratings filtered:\t(11405024, 4)\n"
     ]
    },
    {
     "data": {
      "text/plain": [
       "(11405024, 4)"
      ]
     },
     "execution_count": 11,
     "metadata": {
      "tags": []
     },
     "output_type": "execute_result"
    }
   ],
   "source": [
    "filter_data = filter_user_item(movieslens_rating)\n",
    "filter_data.shape"
   ]
  },
  {
   "cell_type": "code",
   "execution_count": null,
   "metadata": {
    "colab": {},
    "colab_type": "code",
    "id": "6e4x-YkfUJp_"
   },
   "outputs": [],
   "source": [
    "train_data, test_data = get_train_test(filter_data)"
   ]
  },
  {
   "cell_type": "code",
   "execution_count": null,
   "metadata": {
    "colab": {},
    "colab_type": "code",
    "id": "UJVXKtnYUdUN"
   },
   "outputs": [],
   "source": [
    "matrix_train_data = get_user_item_rating_mat(train_data)"
   ]
  },
  {
   "cell_type": "code",
   "execution_count": 14,
   "metadata": {
    "colab": {
     "base_uri": "https://localhost:8080/",
     "height": 284
    },
    "colab_type": "code",
    "id": "o-j_-W1VUtH1",
    "outputId": "d003bd19-0866-4c80-8c02-a586a52aa775"
   },
   "outputs": [
    {
     "data": {
      "text/html": [
       "<div>\n",
       "<style scoped>\n",
       "    .dataframe tbody tr th:only-of-type {\n",
       "        vertical-align: middle;\n",
       "    }\n",
       "\n",
       "    .dataframe tbody tr th {\n",
       "        vertical-align: top;\n",
       "    }\n",
       "\n",
       "    .dataframe thead th {\n",
       "        text-align: right;\n",
       "    }\n",
       "</style>\n",
       "<table border=\"1\" class=\"dataframe\">\n",
       "  <thead>\n",
       "    <tr style=\"text-align: right;\">\n",
       "      <th>movieId</th>\n",
       "      <th>1</th>\n",
       "      <th>2</th>\n",
       "      <th>3</th>\n",
       "      <th>4</th>\n",
       "      <th>5</th>\n",
       "      <th>6</th>\n",
       "      <th>7</th>\n",
       "      <th>8</th>\n",
       "      <th>9</th>\n",
       "      <th>10</th>\n",
       "      <th>11</th>\n",
       "      <th>12</th>\n",
       "      <th>13</th>\n",
       "      <th>14</th>\n",
       "      <th>15</th>\n",
       "      <th>16</th>\n",
       "      <th>17</th>\n",
       "      <th>18</th>\n",
       "      <th>19</th>\n",
       "      <th>20</th>\n",
       "      <th>21</th>\n",
       "      <th>22</th>\n",
       "      <th>23</th>\n",
       "      <th>24</th>\n",
       "      <th>25</th>\n",
       "      <th>26</th>\n",
       "      <th>27</th>\n",
       "      <th>28</th>\n",
       "      <th>29</th>\n",
       "      <th>30</th>\n",
       "      <th>31</th>\n",
       "      <th>32</th>\n",
       "      <th>34</th>\n",
       "      <th>35</th>\n",
       "      <th>36</th>\n",
       "      <th>38</th>\n",
       "      <th>39</th>\n",
       "      <th>40</th>\n",
       "      <th>41</th>\n",
       "      <th>42</th>\n",
       "      <th>...</th>\n",
       "      <th>157296</th>\n",
       "      <th>157699</th>\n",
       "      <th>158238</th>\n",
       "      <th>158813</th>\n",
       "      <th>158872</th>\n",
       "      <th>158966</th>\n",
       "      <th>159093</th>\n",
       "      <th>159415</th>\n",
       "      <th>159817</th>\n",
       "      <th>159858</th>\n",
       "      <th>160080</th>\n",
       "      <th>160271</th>\n",
       "      <th>160438</th>\n",
       "      <th>160563</th>\n",
       "      <th>160718</th>\n",
       "      <th>160954</th>\n",
       "      <th>160980</th>\n",
       "      <th>161131</th>\n",
       "      <th>161582</th>\n",
       "      <th>161634</th>\n",
       "      <th>162350</th>\n",
       "      <th>162414</th>\n",
       "      <th>162578</th>\n",
       "      <th>162600</th>\n",
       "      <th>162602</th>\n",
       "      <th>162606</th>\n",
       "      <th>163645</th>\n",
       "      <th>164179</th>\n",
       "      <th>164909</th>\n",
       "      <th>165549</th>\n",
       "      <th>165551</th>\n",
       "      <th>166461</th>\n",
       "      <th>166528</th>\n",
       "      <th>166534</th>\n",
       "      <th>166635</th>\n",
       "      <th>166643</th>\n",
       "      <th>168248</th>\n",
       "      <th>168250</th>\n",
       "      <th>168252</th>\n",
       "      <th>168366</th>\n",
       "    </tr>\n",
       "    <tr>\n",
       "      <th>userId</th>\n",
       "      <th></th>\n",
       "      <th></th>\n",
       "      <th></th>\n",
       "      <th></th>\n",
       "      <th></th>\n",
       "      <th></th>\n",
       "      <th></th>\n",
       "      <th></th>\n",
       "      <th></th>\n",
       "      <th></th>\n",
       "      <th></th>\n",
       "      <th></th>\n",
       "      <th></th>\n",
       "      <th></th>\n",
       "      <th></th>\n",
       "      <th></th>\n",
       "      <th></th>\n",
       "      <th></th>\n",
       "      <th></th>\n",
       "      <th></th>\n",
       "      <th></th>\n",
       "      <th></th>\n",
       "      <th></th>\n",
       "      <th></th>\n",
       "      <th></th>\n",
       "      <th></th>\n",
       "      <th></th>\n",
       "      <th></th>\n",
       "      <th></th>\n",
       "      <th></th>\n",
       "      <th></th>\n",
       "      <th></th>\n",
       "      <th></th>\n",
       "      <th></th>\n",
       "      <th></th>\n",
       "      <th></th>\n",
       "      <th></th>\n",
       "      <th></th>\n",
       "      <th></th>\n",
       "      <th></th>\n",
       "      <th></th>\n",
       "      <th></th>\n",
       "      <th></th>\n",
       "      <th></th>\n",
       "      <th></th>\n",
       "      <th></th>\n",
       "      <th></th>\n",
       "      <th></th>\n",
       "      <th></th>\n",
       "      <th></th>\n",
       "      <th></th>\n",
       "      <th></th>\n",
       "      <th></th>\n",
       "      <th></th>\n",
       "      <th></th>\n",
       "      <th></th>\n",
       "      <th></th>\n",
       "      <th></th>\n",
       "      <th></th>\n",
       "      <th></th>\n",
       "      <th></th>\n",
       "      <th></th>\n",
       "      <th></th>\n",
       "      <th></th>\n",
       "      <th></th>\n",
       "      <th></th>\n",
       "      <th></th>\n",
       "      <th></th>\n",
       "      <th></th>\n",
       "      <th></th>\n",
       "      <th></th>\n",
       "      <th></th>\n",
       "      <th></th>\n",
       "      <th></th>\n",
       "      <th></th>\n",
       "      <th></th>\n",
       "      <th></th>\n",
       "      <th></th>\n",
       "      <th></th>\n",
       "      <th></th>\n",
       "      <th></th>\n",
       "    </tr>\n",
       "  </thead>\n",
       "  <tbody>\n",
       "    <tr>\n",
       "      <th>24</th>\n",
       "      <td>NaN</td>\n",
       "      <td>NaN</td>\n",
       "      <td>NaN</td>\n",
       "      <td>NaN</td>\n",
       "      <td>NaN</td>\n",
       "      <td>4.0</td>\n",
       "      <td>NaN</td>\n",
       "      <td>NaN</td>\n",
       "      <td>NaN</td>\n",
       "      <td>NaN</td>\n",
       "      <td>NaN</td>\n",
       "      <td>NaN</td>\n",
       "      <td>NaN</td>\n",
       "      <td>NaN</td>\n",
       "      <td>NaN</td>\n",
       "      <td>3.0</td>\n",
       "      <td>NaN</td>\n",
       "      <td>NaN</td>\n",
       "      <td>NaN</td>\n",
       "      <td>NaN</td>\n",
       "      <td>4.0</td>\n",
       "      <td>NaN</td>\n",
       "      <td>NaN</td>\n",
       "      <td>NaN</td>\n",
       "      <td>NaN</td>\n",
       "      <td>NaN</td>\n",
       "      <td>NaN</td>\n",
       "      <td>NaN</td>\n",
       "      <td>NaN</td>\n",
       "      <td>NaN</td>\n",
       "      <td>NaN</td>\n",
       "      <td>4.0</td>\n",
       "      <td>3.0</td>\n",
       "      <td>NaN</td>\n",
       "      <td>NaN</td>\n",
       "      <td>NaN</td>\n",
       "      <td>4.0</td>\n",
       "      <td>NaN</td>\n",
       "      <td>NaN</td>\n",
       "      <td>NaN</td>\n",
       "      <td>...</td>\n",
       "      <td>NaN</td>\n",
       "      <td>NaN</td>\n",
       "      <td>NaN</td>\n",
       "      <td>NaN</td>\n",
       "      <td>NaN</td>\n",
       "      <td>NaN</td>\n",
       "      <td>NaN</td>\n",
       "      <td>NaN</td>\n",
       "      <td>NaN</td>\n",
       "      <td>NaN</td>\n",
       "      <td>NaN</td>\n",
       "      <td>NaN</td>\n",
       "      <td>NaN</td>\n",
       "      <td>NaN</td>\n",
       "      <td>NaN</td>\n",
       "      <td>NaN</td>\n",
       "      <td>NaN</td>\n",
       "      <td>NaN</td>\n",
       "      <td>NaN</td>\n",
       "      <td>NaN</td>\n",
       "      <td>NaN</td>\n",
       "      <td>NaN</td>\n",
       "      <td>NaN</td>\n",
       "      <td>NaN</td>\n",
       "      <td>NaN</td>\n",
       "      <td>NaN</td>\n",
       "      <td>NaN</td>\n",
       "      <td>NaN</td>\n",
       "      <td>NaN</td>\n",
       "      <td>NaN</td>\n",
       "      <td>NaN</td>\n",
       "      <td>NaN</td>\n",
       "      <td>NaN</td>\n",
       "      <td>NaN</td>\n",
       "      <td>NaN</td>\n",
       "      <td>NaN</td>\n",
       "      <td>NaN</td>\n",
       "      <td>NaN</td>\n",
       "      <td>NaN</td>\n",
       "      <td>NaN</td>\n",
       "    </tr>\n",
       "    <tr>\n",
       "      <th>46</th>\n",
       "      <td>4.5</td>\n",
       "      <td>NaN</td>\n",
       "      <td>3.5</td>\n",
       "      <td>NaN</td>\n",
       "      <td>NaN</td>\n",
       "      <td>NaN</td>\n",
       "      <td>NaN</td>\n",
       "      <td>NaN</td>\n",
       "      <td>NaN</td>\n",
       "      <td>NaN</td>\n",
       "      <td>NaN</td>\n",
       "      <td>NaN</td>\n",
       "      <td>NaN</td>\n",
       "      <td>NaN</td>\n",
       "      <td>NaN</td>\n",
       "      <td>NaN</td>\n",
       "      <td>NaN</td>\n",
       "      <td>NaN</td>\n",
       "      <td>3.5</td>\n",
       "      <td>NaN</td>\n",
       "      <td>NaN</td>\n",
       "      <td>NaN</td>\n",
       "      <td>NaN</td>\n",
       "      <td>NaN</td>\n",
       "      <td>NaN</td>\n",
       "      <td>NaN</td>\n",
       "      <td>NaN</td>\n",
       "      <td>NaN</td>\n",
       "      <td>NaN</td>\n",
       "      <td>NaN</td>\n",
       "      <td>NaN</td>\n",
       "      <td>NaN</td>\n",
       "      <td>NaN</td>\n",
       "      <td>NaN</td>\n",
       "      <td>NaN</td>\n",
       "      <td>NaN</td>\n",
       "      <td>NaN</td>\n",
       "      <td>NaN</td>\n",
       "      <td>NaN</td>\n",
       "      <td>NaN</td>\n",
       "      <td>...</td>\n",
       "      <td>NaN</td>\n",
       "      <td>NaN</td>\n",
       "      <td>NaN</td>\n",
       "      <td>NaN</td>\n",
       "      <td>NaN</td>\n",
       "      <td>NaN</td>\n",
       "      <td>NaN</td>\n",
       "      <td>NaN</td>\n",
       "      <td>NaN</td>\n",
       "      <td>NaN</td>\n",
       "      <td>NaN</td>\n",
       "      <td>NaN</td>\n",
       "      <td>NaN</td>\n",
       "      <td>NaN</td>\n",
       "      <td>NaN</td>\n",
       "      <td>NaN</td>\n",
       "      <td>NaN</td>\n",
       "      <td>NaN</td>\n",
       "      <td>NaN</td>\n",
       "      <td>NaN</td>\n",
       "      <td>NaN</td>\n",
       "      <td>NaN</td>\n",
       "      <td>NaN</td>\n",
       "      <td>NaN</td>\n",
       "      <td>NaN</td>\n",
       "      <td>NaN</td>\n",
       "      <td>NaN</td>\n",
       "      <td>NaN</td>\n",
       "      <td>NaN</td>\n",
       "      <td>NaN</td>\n",
       "      <td>NaN</td>\n",
       "      <td>NaN</td>\n",
       "      <td>NaN</td>\n",
       "      <td>NaN</td>\n",
       "      <td>NaN</td>\n",
       "      <td>NaN</td>\n",
       "      <td>NaN</td>\n",
       "      <td>NaN</td>\n",
       "      <td>NaN</td>\n",
       "      <td>NaN</td>\n",
       "    </tr>\n",
       "    <tr>\n",
       "      <th>49</th>\n",
       "      <td>5.0</td>\n",
       "      <td>NaN</td>\n",
       "      <td>NaN</td>\n",
       "      <td>NaN</td>\n",
       "      <td>NaN</td>\n",
       "      <td>NaN</td>\n",
       "      <td>NaN</td>\n",
       "      <td>NaN</td>\n",
       "      <td>NaN</td>\n",
       "      <td>5.0</td>\n",
       "      <td>NaN</td>\n",
       "      <td>NaN</td>\n",
       "      <td>NaN</td>\n",
       "      <td>NaN</td>\n",
       "      <td>NaN</td>\n",
       "      <td>NaN</td>\n",
       "      <td>NaN</td>\n",
       "      <td>NaN</td>\n",
       "      <td>NaN</td>\n",
       "      <td>NaN</td>\n",
       "      <td>NaN</td>\n",
       "      <td>NaN</td>\n",
       "      <td>NaN</td>\n",
       "      <td>NaN</td>\n",
       "      <td>NaN</td>\n",
       "      <td>NaN</td>\n",
       "      <td>NaN</td>\n",
       "      <td>NaN</td>\n",
       "      <td>NaN</td>\n",
       "      <td>NaN</td>\n",
       "      <td>NaN</td>\n",
       "      <td>4.0</td>\n",
       "      <td>3.5</td>\n",
       "      <td>NaN</td>\n",
       "      <td>NaN</td>\n",
       "      <td>NaN</td>\n",
       "      <td>3.0</td>\n",
       "      <td>NaN</td>\n",
       "      <td>NaN</td>\n",
       "      <td>NaN</td>\n",
       "      <td>...</td>\n",
       "      <td>NaN</td>\n",
       "      <td>NaN</td>\n",
       "      <td>NaN</td>\n",
       "      <td>NaN</td>\n",
       "      <td>NaN</td>\n",
       "      <td>NaN</td>\n",
       "      <td>NaN</td>\n",
       "      <td>NaN</td>\n",
       "      <td>NaN</td>\n",
       "      <td>NaN</td>\n",
       "      <td>NaN</td>\n",
       "      <td>NaN</td>\n",
       "      <td>NaN</td>\n",
       "      <td>NaN</td>\n",
       "      <td>NaN</td>\n",
       "      <td>NaN</td>\n",
       "      <td>NaN</td>\n",
       "      <td>NaN</td>\n",
       "      <td>NaN</td>\n",
       "      <td>NaN</td>\n",
       "      <td>NaN</td>\n",
       "      <td>NaN</td>\n",
       "      <td>NaN</td>\n",
       "      <td>NaN</td>\n",
       "      <td>NaN</td>\n",
       "      <td>NaN</td>\n",
       "      <td>NaN</td>\n",
       "      <td>NaN</td>\n",
       "      <td>NaN</td>\n",
       "      <td>NaN</td>\n",
       "      <td>NaN</td>\n",
       "      <td>NaN</td>\n",
       "      <td>NaN</td>\n",
       "      <td>NaN</td>\n",
       "      <td>NaN</td>\n",
       "      <td>NaN</td>\n",
       "      <td>NaN</td>\n",
       "      <td>NaN</td>\n",
       "      <td>NaN</td>\n",
       "      <td>NaN</td>\n",
       "    </tr>\n",
       "    <tr>\n",
       "      <th>62</th>\n",
       "      <td>3.0</td>\n",
       "      <td>2.0</td>\n",
       "      <td>NaN</td>\n",
       "      <td>NaN</td>\n",
       "      <td>NaN</td>\n",
       "      <td>NaN</td>\n",
       "      <td>NaN</td>\n",
       "      <td>NaN</td>\n",
       "      <td>NaN</td>\n",
       "      <td>4.0</td>\n",
       "      <td>NaN</td>\n",
       "      <td>NaN</td>\n",
       "      <td>NaN</td>\n",
       "      <td>NaN</td>\n",
       "      <td>NaN</td>\n",
       "      <td>NaN</td>\n",
       "      <td>NaN</td>\n",
       "      <td>NaN</td>\n",
       "      <td>NaN</td>\n",
       "      <td>NaN</td>\n",
       "      <td>NaN</td>\n",
       "      <td>NaN</td>\n",
       "      <td>NaN</td>\n",
       "      <td>NaN</td>\n",
       "      <td>NaN</td>\n",
       "      <td>NaN</td>\n",
       "      <td>NaN</td>\n",
       "      <td>NaN</td>\n",
       "      <td>NaN</td>\n",
       "      <td>NaN</td>\n",
       "      <td>NaN</td>\n",
       "      <td>NaN</td>\n",
       "      <td>NaN</td>\n",
       "      <td>NaN</td>\n",
       "      <td>NaN</td>\n",
       "      <td>NaN</td>\n",
       "      <td>NaN</td>\n",
       "      <td>NaN</td>\n",
       "      <td>NaN</td>\n",
       "      <td>NaN</td>\n",
       "      <td>...</td>\n",
       "      <td>NaN</td>\n",
       "      <td>NaN</td>\n",
       "      <td>NaN</td>\n",
       "      <td>NaN</td>\n",
       "      <td>NaN</td>\n",
       "      <td>NaN</td>\n",
       "      <td>NaN</td>\n",
       "      <td>NaN</td>\n",
       "      <td>NaN</td>\n",
       "      <td>NaN</td>\n",
       "      <td>NaN</td>\n",
       "      <td>NaN</td>\n",
       "      <td>NaN</td>\n",
       "      <td>NaN</td>\n",
       "      <td>NaN</td>\n",
       "      <td>NaN</td>\n",
       "      <td>NaN</td>\n",
       "      <td>NaN</td>\n",
       "      <td>NaN</td>\n",
       "      <td>NaN</td>\n",
       "      <td>NaN</td>\n",
       "      <td>NaN</td>\n",
       "      <td>NaN</td>\n",
       "      <td>NaN</td>\n",
       "      <td>NaN</td>\n",
       "      <td>NaN</td>\n",
       "      <td>NaN</td>\n",
       "      <td>NaN</td>\n",
       "      <td>NaN</td>\n",
       "      <td>NaN</td>\n",
       "      <td>NaN</td>\n",
       "      <td>NaN</td>\n",
       "      <td>NaN</td>\n",
       "      <td>NaN</td>\n",
       "      <td>NaN</td>\n",
       "      <td>NaN</td>\n",
       "      <td>NaN</td>\n",
       "      <td>NaN</td>\n",
       "      <td>NaN</td>\n",
       "      <td>NaN</td>\n",
       "    </tr>\n",
       "    <tr>\n",
       "      <th>65</th>\n",
       "      <td>4.0</td>\n",
       "      <td>NaN</td>\n",
       "      <td>NaN</td>\n",
       "      <td>NaN</td>\n",
       "      <td>NaN</td>\n",
       "      <td>NaN</td>\n",
       "      <td>NaN</td>\n",
       "      <td>NaN</td>\n",
       "      <td>NaN</td>\n",
       "      <td>NaN</td>\n",
       "      <td>3.0</td>\n",
       "      <td>NaN</td>\n",
       "      <td>NaN</td>\n",
       "      <td>NaN</td>\n",
       "      <td>NaN</td>\n",
       "      <td>NaN</td>\n",
       "      <td>NaN</td>\n",
       "      <td>NaN</td>\n",
       "      <td>NaN</td>\n",
       "      <td>NaN</td>\n",
       "      <td>3.0</td>\n",
       "      <td>NaN</td>\n",
       "      <td>NaN</td>\n",
       "      <td>NaN</td>\n",
       "      <td>NaN</td>\n",
       "      <td>NaN</td>\n",
       "      <td>NaN</td>\n",
       "      <td>NaN</td>\n",
       "      <td>NaN</td>\n",
       "      <td>NaN</td>\n",
       "      <td>NaN</td>\n",
       "      <td>5.0</td>\n",
       "      <td>4.0</td>\n",
       "      <td>NaN</td>\n",
       "      <td>NaN</td>\n",
       "      <td>NaN</td>\n",
       "      <td>4.0</td>\n",
       "      <td>NaN</td>\n",
       "      <td>NaN</td>\n",
       "      <td>NaN</td>\n",
       "      <td>...</td>\n",
       "      <td>NaN</td>\n",
       "      <td>NaN</td>\n",
       "      <td>NaN</td>\n",
       "      <td>NaN</td>\n",
       "      <td>NaN</td>\n",
       "      <td>NaN</td>\n",
       "      <td>NaN</td>\n",
       "      <td>NaN</td>\n",
       "      <td>NaN</td>\n",
       "      <td>NaN</td>\n",
       "      <td>NaN</td>\n",
       "      <td>NaN</td>\n",
       "      <td>NaN</td>\n",
       "      <td>NaN</td>\n",
       "      <td>NaN</td>\n",
       "      <td>NaN</td>\n",
       "      <td>NaN</td>\n",
       "      <td>NaN</td>\n",
       "      <td>NaN</td>\n",
       "      <td>NaN</td>\n",
       "      <td>NaN</td>\n",
       "      <td>NaN</td>\n",
       "      <td>NaN</td>\n",
       "      <td>NaN</td>\n",
       "      <td>NaN</td>\n",
       "      <td>NaN</td>\n",
       "      <td>NaN</td>\n",
       "      <td>NaN</td>\n",
       "      <td>NaN</td>\n",
       "      <td>NaN</td>\n",
       "      <td>NaN</td>\n",
       "      <td>NaN</td>\n",
       "      <td>NaN</td>\n",
       "      <td>NaN</td>\n",
       "      <td>NaN</td>\n",
       "      <td>NaN</td>\n",
       "      <td>NaN</td>\n",
       "      <td>NaN</td>\n",
       "      <td>NaN</td>\n",
       "      <td>NaN</td>\n",
       "    </tr>\n",
       "  </tbody>\n",
       "</table>\n",
       "<p>5 rows × 5291 columns</p>\n",
       "</div>"
      ],
      "text/plain": [
       "movieId  1       2       3       4       ...  168248  168250  168252  168366\n",
       "userId                                   ...                                \n",
       "24          NaN     NaN     NaN     NaN  ...     NaN     NaN     NaN     NaN\n",
       "46          4.5     NaN     3.5     NaN  ...     NaN     NaN     NaN     NaN\n",
       "49          5.0     NaN     NaN     NaN  ...     NaN     NaN     NaN     NaN\n",
       "62          3.0     2.0     NaN     NaN  ...     NaN     NaN     NaN     NaN\n",
       "65          4.0     NaN     NaN     NaN  ...     NaN     NaN     NaN     NaN\n",
       "\n",
       "[5 rows x 5291 columns]"
      ]
     },
     "execution_count": 14,
     "metadata": {
      "tags": []
     },
     "output_type": "execute_result"
    }
   ],
   "source": [
    "matrix_train_data.head()"
   ]
  },
  {
   "cell_type": "markdown",
   "metadata": {
    "colab_type": "text",
    "id": "G28wdMypXgBX"
   },
   "source": [
    "#### funkSVD算法\n",
    "- 原始的SVD算法是不加偏置的即\n",
    "$$\\bar{r_{ui}}=q_i^Tp_u$$\n",
    "其中$p_u$表示用户因子（embedding向量），$q_i$表示item因子（embedding向量）。\n",
    "\n",
    "在[Surprise](https://surprise.readthedocs.io/en/stable/matrix_factorization.html#surprise.prediction_algorithms.matrix_factorization.SVD)中调用'classsurprise.prediction_algorithms.matrix_factorization.SVD'方法并设置其中参数'biased'为False即为原始的funkSVD算法"
   ]
  },
  {
   "cell_type": "code",
   "execution_count": null,
   "metadata": {
    "colab": {},
    "colab_type": "code",
    "id": "RNvQ61eFY8nw"
   },
   "outputs": [],
   "source": [
    "sampled_data = sp.Dataset.load_from_df(movieslens_rating[['userId', 'movieId', 'rating']].sample(200000), sp.Reader())"
   ]
  },
  {
   "cell_type": "code",
   "execution_count": 5,
   "metadata": {
    "colab": {
     "base_uri": "https://localhost:8080/",
     "height": 35
    },
    "colab_type": "code",
    "id": "gVc_8_aE6cyB",
    "outputId": "1f8bc480-76a6-497f-a06a-072ec518c397"
   },
   "outputs": [
    {
     "data": {
      "text/plain": [
       "41"
      ]
     },
     "execution_count": 5,
     "metadata": {
      "tags": []
     },
     "output_type": "execute_result"
    }
   ],
   "source": [
    "# del movieslens_rating\n",
    "# gc.collect()"
   ]
  },
  {
   "cell_type": "code",
   "execution_count": null,
   "metadata": {
    "colab": {},
    "colab_type": "code",
    "id": "rt7acyS-ZXDu"
   },
   "outputs": [],
   "source": [
    "results = cross_validate(sp.SVD(biased=False, n_factors=150, n_epochs=100), sampled_data, measures=['RMSE', 'MAE'], cv=5, verbose=False)"
   ]
  },
  {
   "cell_type": "code",
   "execution_count": 17,
   "metadata": {
    "colab": {
     "base_uri": "https://localhost:8080/",
     "height": 107
    },
    "colab_type": "code",
    "id": "UNgp8pZZZssp",
    "outputId": "b77d642f-1114-48ce-d4d7-1af80834e099"
   },
   "outputs": [
    {
     "data": {
      "text/plain": [
       "test_rmse     2.309618\n",
       "test_mae      1.987920\n",
       "fit_time     59.203200\n",
       "test_time     0.258414\n",
       "dtype: float64"
      ]
     },
     "execution_count": 17,
     "metadata": {
      "tags": []
     },
     "output_type": "execute_result"
    }
   ],
   "source": [
    "funkSVD_ret = pd.DataFrame.from_dict(results).mean(axis=0)\n",
    "funkSVD_ret"
   ]
  },
  {
   "cell_type": "markdown",
   "metadata": {
    "colab_type": "text",
    "id": "-tfwq5oRaQ8e"
   },
   "source": [
    "#### BiasSVD算法\n",
    "BiasSVD在funkSVD的基础上添加了用户和item惩罚项，即\n",
    "$$\\bar{r}_{ui}=\\mu+b_u+b_i+q_i^Tp_u$$\n",
    "其中正则化的平方误差损失可以写为\n",
    "$$\\sum_{r_{ui} \\in R_{train}} (r_{ui}-\\bar{r}_{ui})^2 + \\lambda(b_i^2+b_u^2+||q_i||^2 + ||p_u||^2)$$\n",
    "其中在[Surprise](https://surprise.readthedocs.io/en/stable/matrix_factorization.html#surprise.prediction_algorithms.matrix_factorization.SVD)中可设置的参数有'lr_bu','lr_bi','lr_pu','lr_qi','reg_bu','reg_bi','reg_pu'和'reg_qi'，为了简单设置可以仅考虑'lr_all'和'reg_all'。"
   ]
  },
  {
   "cell_type": "code",
   "execution_count": null,
   "metadata": {
    "colab": {},
    "colab_type": "code",
    "id": "eDxAvqGzaP4U"
   },
   "outputs": [],
   "source": [
    "results = cross_validate(sp.SVD(n_factors=150, n_epochs=30, lr_all=0.001, reg_all=0.01), sampled_data, measures=['RMSE', 'MAE'], cv=5, verbose=False)"
   ]
  },
  {
   "cell_type": "code",
   "execution_count": 19,
   "metadata": {
    "colab": {
     "base_uri": "https://localhost:8080/",
     "height": 107
    },
    "colab_type": "code",
    "id": "ilLMFNM0dSWn",
    "outputId": "3a5d7c73-d01e-4bf4-f6f6-4ed6d19b4057"
   },
   "outputs": [
    {
     "data": {
      "text/plain": [
       "test_rmse     0.983223\n",
       "test_mae      0.764089\n",
       "fit_time     18.292508\n",
       "test_time     0.279914\n",
       "dtype: float64"
      ]
     },
     "execution_count": 19,
     "metadata": {
      "tags": []
     },
     "output_type": "execute_result"
    }
   ],
   "source": [
    "biasSVD_ret = pd.DataFrame.from_dict(results).mean(axis=0)\n",
    "biasSVD_ret"
   ]
  },
  {
   "cell_type": "markdown",
   "metadata": {
    "colab_type": "text",
    "id": "YsCcmdymdhal"
   },
   "source": [
    "#### SVD++算法\n",
    "其是对BiasSVD的基础上添加了用户的隐式反馈信息，即\n",
    "$$\\bar{r}_{ui}=\\mu + b_u + b_i + q_i^T (p_u + |I_u|^{-\\frac{1}{2}}\\sum_{j \\in I_u})y_j$$\n",
    "其中$y_j$是隐式反馈（没有具体评分，但可能有点击、浏览等行为），$I(i)$表示他的隐式反馈集合，可以用是否评分进行表示（而与评分值无关）。在[Surprise](https://surprise.readthedocs.io/en/stable/matrix_factorization.html#surprise.prediction_algorithms.matrix_factorization.SVDpp)中的具体调用类函数为'classsurprise.prediction_algorithms.matrix_factorization.SVDpp'。"
   ]
  },
  {
   "cell_type": "code",
   "execution_count": null,
   "metadata": {
    "colab": {},
    "colab_type": "code",
    "id": "09JvnjtLhGbS"
   },
   "outputs": [],
   "source": [
    "results = cross_validate(sp.SVDpp(n_factors=150, n_epochs=30, lr_all=0.001, reg_all=0.01), sampled_data, measures=['RMSE', 'MAE'], cv=5, verbose=False)"
   ]
  },
  {
   "cell_type": "code",
   "execution_count": 21,
   "metadata": {
    "colab": {
     "base_uri": "https://localhost:8080/",
     "height": 107
    },
    "colab_type": "code",
    "id": "ZENWUcUohqND",
    "outputId": "9ca837df-df99-477f-b461-a441ee4caf1a"
   },
   "outputs": [
    {
     "data": {
      "text/plain": [
       "test_rmse     1.004389\n",
       "test_mae      0.791526\n",
       "fit_time     87.552662\n",
       "test_time     0.625192\n",
       "dtype: float64"
      ]
     },
     "execution_count": 21,
     "metadata": {
      "tags": []
     },
     "output_type": "execute_result"
    }
   ],
   "source": [
    "SVDpp_ret = pd.DataFrame.from_dict(results).mean(axis=0)\n",
    "SVDpp_ret"
   ]
  },
  {
   "cell_type": "markdown",
   "metadata": {
    "colab_type": "text",
    "id": "0hfk_9iyhySr"
   },
   "source": [
    "#### 探究向量维度n_factors对评价指标RMSE的影响\n",
    "\n",
    "若原始rating矩阵维度为$N\\times M$，其中rating可以分为两个矩阵p和q，其中p的维度$n\\_factors\\times M$，q的维度为$n\\_factors \\times N$。$n\\_factor$的维度可以表示物品的类别等隐藏信息。"
   ]
  },
  {
   "cell_type": "code",
   "execution_count": null,
   "metadata": {
    "colab": {},
    "colab_type": "code",
    "id": "jlmLP-4PhxY0"
   },
   "outputs": [],
   "source": [
    "n_factors = [3, 5, 10, 50, 500]"
   ]
  },
  {
   "cell_type": "code",
   "execution_count": 23,
   "metadata": {
    "colab": {
     "base_uri": "https://localhost:8080/",
     "height": 35
    },
    "colab_type": "code",
    "id": "ZENJX1mDjBgV",
    "outputId": "118802b5-92d4-4a18-e6d9-0edc2028ad72"
   },
   "outputs": [
    {
     "name": "stderr",
     "output_type": "stream",
     "text": [
      "100%|██████████| 5/5 [29:51<00:00, 479.30s/it]\n"
     ]
    }
   ],
   "source": [
    "results = []\n",
    "for nf in tqdm(n_factors):\n",
    "  results.append(cross_validate(sp.SVDpp(n_factors=nf), sampled_data, measures=['RMSE', 'MAE'], cv=5, verbose=False))"
   ]
  },
  {
   "cell_type": "code",
   "execution_count": null,
   "metadata": {
    "colab": {},
    "colab_type": "code",
    "id": "Bgnq4OLBjbL7"
   },
   "outputs": [],
   "source": [
    "rmses = []\n",
    "mses = []\n",
    "for ret in results:\n",
    "  rmses.append(np.mean(ret['test_rmse']))\n",
    "  mses.append(np.mean(ret['test_mae']))"
   ]
  },
  {
   "cell_type": "code",
   "execution_count": 25,
   "metadata": {
    "colab": {
     "base_uri": "https://localhost:8080/",
     "height": 283
    },
    "colab_type": "code",
    "id": "RIVdrXgQjxva",
    "outputId": "7e1eac6a-3fa9-41d9-f6c8-d57175bc3431"
   },
   "outputs": [
    {
     "data": {
      "text/plain": [
       "<matplotlib.legend.Legend at 0x7f1725375278>"
      ]
     },
     "execution_count": 25,
     "metadata": {
      "tags": []
     },
     "output_type": "execute_result"
    },
    {
     "data": {
      "image/png": "[encoded data removed]",
      "text/plain": [
       "<Figure size 432x288 with 1 Axes>"
      ]
     },
     "metadata": {
      "tags": []
     },
     "output_type": "display_data"
    }
   ],
   "source": [
    "plt.plot(n_factors, rmses, label='RMSE')\n",
    "plt.plot(n_factors, mses, label='MSE')\n",
    "plt.legend()"
   ]
  },
  {
   "cell_type": "markdown",
   "metadata": {
    "colab_type": "text",
    "id": "pDMjmB-t2155"
   },
   "source": [
    "## 基于协同过滤的Surprise算法\n",
    "\n",
    "**协同过滤算法**\n",
    "\n",
    "**基于邻域的协同过滤算法**"
   ]
  },
  {
   "cell_type": "code",
   "execution_count": null,
   "metadata": {
    "colab": {},
    "colab_type": "code",
    "id": "uQIy4U57AKmz"
   },
   "outputs": [],
   "source": [
    "sampled_data = sp.Dataset.load_from_df(movieslens_rating[['userId', 'movieId', 'rating']].sample(20000), sp.Reader())"
   ]
  },
  {
   "cell_type": "markdown",
   "metadata": {
    "colab_type": "text",
    "id": "S6LDGeJi5CDA"
   },
   "source": [
    "### KNNBasic算法"
   ]
  },
  {
   "cell_type": "code",
   "execution_count": null,
   "metadata": {
    "colab": {},
    "colab_type": "code",
    "id": "3Gc-GeoW4G4z"
   },
   "outputs": [],
   "source": [
    "results = cross_validate(sp.KNNBasic(k=20, min_k=1, verbose=False), sampled_data, measures=['RMSE', 'MAE'], cv=3, verbose=False)\n",
    "# 参数classsurprise.prediction_algorithms.knns.KNNBasic(k=40, min_k=1, sim_options={}, verbose=True, **kwargs)"
   ]
  },
  {
   "cell_type": "code",
   "execution_count": 7,
   "metadata": {
    "colab": {
     "base_uri": "https://localhost:8080/",
     "height": 107
    },
    "colab_type": "code",
    "id": "t5zupE0N4zdQ",
    "outputId": "289591b6-1ddd-4e1c-ce6c-d053c8299382"
   },
   "outputs": [
    {
     "data": {
      "text/plain": [
       "test_rmse    1.075544\n",
       "test_mae     0.856744\n",
       "fit_time     5.111553\n",
       "test_time    0.049296\n",
       "dtype: float64"
      ]
     },
     "execution_count": 7,
     "metadata": {
      "tags": []
     },
     "output_type": "execute_result"
    }
   ],
   "source": [
    "knnbasic_ret = pd.DataFrame.from_dict(results).mean(axis=0)\n",
    "knnbasic_ret"
   ]
  },
  {
   "cell_type": "markdown",
   "metadata": {
    "colab_type": "text",
    "id": "6OapzBhE5JLZ"
   },
   "source": [
    "### KNNWithMeans算法"
   ]
  },
  {
   "cell_type": "code",
   "execution_count": null,
   "metadata": {
    "colab": {},
    "colab_type": "code",
    "id": "c96Watd75PVc"
   },
   "outputs": [],
   "source": [
    "results = cross_validate(sp.KNNWithMeans(k=20, min_k=1, verbose=False), sampled_data, measures=['RMSE', 'MAE'], cv=3, verbose=False)\n",
    "# classsurprise.prediction_algorithms.knns.KNNWithMeans(k=40, min_k=1, sim_options={}, verbose=True, **kwargs)"
   ]
  },
  {
   "cell_type": "code",
   "execution_count": 9,
   "metadata": {
    "colab": {
     "base_uri": "https://localhost:8080/",
     "height": 107
    },
    "colab_type": "code",
    "id": "afb0Yf2d4-Gm",
    "outputId": "a4f694bf-b7f8-41a9-cd7c-a0fc77b8f7fa"
   },
   "outputs": [
    {
     "data": {
      "text/plain": [
       "test_rmse    1.113804\n",
       "test_mae     0.879361\n",
       "fit_time     4.589478\n",
       "test_time    0.050304\n",
       "dtype: float64"
      ]
     },
     "execution_count": 9,
     "metadata": {
      "tags": []
     },
     "output_type": "execute_result"
    }
   ],
   "source": [
    "knnwithmeans_ret = pd.DataFrame.from_dict(results).mean(axis=0)\n",
    "knnwithmeans_ret"
   ]
  },
  {
   "cell_type": "markdown",
   "metadata": {
    "colab_type": "text",
    "id": "KU-MyCBw5sML"
   },
   "source": [
    "### KNNWithZScore算法"
   ]
  },
  {
   "cell_type": "code",
   "execution_count": null,
   "metadata": {
    "colab": {},
    "colab_type": "code",
    "id": "87KBLS-m5qau"
   },
   "outputs": [],
   "source": [
    "results = cross_validate(sp.KNNWithZScore(k=20, min_k=1, verbose=False), sampled_data, measures=['RMSE', 'MAE'], cv=3, verbose=False)\n",
    "# classsurprise.prediction_algorithms.knns.KNNWithZScore(k=40, min_k=1, sim_options={}, verbose=True, **kwargs)"
   ]
  },
  {
   "cell_type": "code",
   "execution_count": 11,
   "metadata": {
    "colab": {
     "base_uri": "https://localhost:8080/",
     "height": 107
    },
    "colab_type": "code",
    "id": "P7YXioZ_518K",
    "outputId": "f5d1915c-54fc-4087-a402-8f3a837ade34"
   },
   "outputs": [
    {
     "data": {
      "text/plain": [
       "test_rmse    1.118128\n",
       "test_mae     0.881744\n",
       "fit_time     4.884853\n",
       "test_time    0.050729\n",
       "dtype: float64"
      ]
     },
     "execution_count": 11,
     "metadata": {
      "tags": []
     },
     "output_type": "execute_result"
    }
   ],
   "source": [
    "knnwithzscore_ret = pd.DataFrame.from_dict(results).mean(axis=0)\n",
    "knnwithzscore_ret"
   ]
  },
  {
   "cell_type": "markdown",
   "metadata": {
    "colab_type": "text",
    "id": "rjSdVIXY7zYr"
   },
   "source": [
    "### KNNBaseline算法"
   ]
  },
  {
   "cell_type": "code",
   "execution_count": null,
   "metadata": {
    "colab": {},
    "colab_type": "code",
    "id": "f9qu-4n472zO"
   },
   "outputs": [],
   "source": [
    "results = cross_validate(sp.KNNWithZScore(k=20, min_k=1, verbose=False), sampled_data, measures=['RMSE', 'MAE'], cv=3, verbose=False)\n",
    "# classsurprise.prediction_algorithms.knns.KNNBaseline(k=40, min_k=1, sim_options={}, bsl_options={}, verbose=True, **kwargs)"
   ]
  },
  {
   "cell_type": "code",
   "execution_count": 13,
   "metadata": {
    "colab": {
     "base_uri": "https://localhost:8080/",
     "height": 107
    },
    "colab_type": "code",
    "id": "T4s-g7n77886",
    "outputId": "24953714-9f06-4315-a8cd-3d50a2a777f0"
   },
   "outputs": [
    {
     "data": {
      "text/plain": [
       "test_rmse    1.122761\n",
       "test_mae     0.885895\n",
       "fit_time     4.744078\n",
       "test_time    0.050567\n",
       "dtype: float64"
      ]
     },
     "execution_count": 13,
     "metadata": {
      "tags": []
     },
     "output_type": "execute_result"
    }
   ],
   "source": [
    "knnbaseline_ret = pd.DataFrame.from_dict(results).mean(axis=0)\n",
    "knnbaseline_ret"
   ]
  },
  {
   "cell_type": "code",
   "execution_count": 23,
   "metadata": {
    "colab": {
     "base_uri": "https://localhost:8080/",
     "height": 313
    },
    "colab_type": "code",
    "id": "fnxFyibQ8L_V",
    "outputId": "54d9d66a-a371-4cf8-9c9a-192db1254a2d"
   },
   "outputs": [
    {
     "data": {
      "text/plain": [
       "<matplotlib.legend.Legend at 0x7fb341641748>"
      ]
     },
     "execution_count": 23,
     "metadata": {
      "tags": []
     },
     "output_type": "execute_result"
    },
    {
     "data": {
      "image/png": "[encoded data removed]",
      "text/plain": [
       "<Figure size 432x288 with 1 Axes>"
      ]
     },
     "metadata": {
      "tags": []
     },
     "output_type": "display_data"
    }
   ],
   "source": [
    "# KNNBasic, KNNWithMeans, KNNWithZScore, KNNBaseline\n",
    "labels = ['KNNBasic', 'KNNWithMeans', 'KNNWithZScore', 'KNNBaseline']\n",
    "value_rmse = [knnbasic_ret.iloc[0], knnwithmeans_ret.iloc[0], knnwithzscore_ret.iloc[0], knnbaseline_ret.iloc[0]]\n",
    "value_mae = [knnbasic_ret.iloc[1], knnwithmeans_ret.iloc[1], knnwithzscore_ret.iloc[1], knnbaseline_ret.iloc[1]]\n",
    "\n",
    "plt.title(\"Different Algorithm of deepctr\")\n",
    "\n",
    "plt.plot(np.arange(0, len(labels)), value_rmse, linewidth=3, color='r', marker='o', label='RMSE',\n",
    "         markerfacecolor='blue', markersize=20)\n",
    "\n",
    "plt.plot(np.arange(0, len(labels)), value_mae, linewidth=3, color='r', marker='o', label='MAE',\n",
    "         markerfacecolor='blue', markersize=20)\n",
    "\n",
    "plt.xlabel('Surprise algorithm with KNN*')\n",
    "plt.ylabel('Result of RMSE')\n",
    "for idx, (a, b) in enumerate(zip(labels, value_rmse)):\n",
    "  plt.text(idx, b, a, ha='center', va='bottom', fontsize=20)\n",
    " \n",
    "plt.legend()"
   ]
  },
  {
   "cell_type": "markdown",
   "metadata": {
    "colab_type": "text",
    "id": "z2nWA0k2BTjS"
   },
   "source": [
    "### 探究不同K值对RMSE的影响\n",
    "- KNNBasic/KNNBaseline 几乎不受k值影响\n",
    "- KNNWithMeans/KNNWithZScore 在k至较小的时，较受影响"
   ]
  },
  {
   "cell_type": "code",
   "execution_count": 30,
   "metadata": {
    "colab": {
     "base_uri": "https://localhost:8080/",
     "height": 1000
    },
    "colab_type": "code",
    "id": "zlp7FH7WCbB0",
    "outputId": "06a3fef0-c29c-4188-ff82-54f2ee4e30f5"
   },
   "outputs": [
    {
     "name": "stderr",
     "output_type": "stream",
     "text": [
      "\n",
      "  0%|          | 0/5 [00:00<?, ?it/s]\u001b[A"
     ]
    },
    {
     "name": "stdout",
     "output_type": "stream",
     "text": [
      "Estimating biases using als...\n",
      "Computing the msd similarity matrix...\n",
      "Done computing similarity matrix.\n",
      "Estimating biases using als...\n",
      "Computing the msd similarity matrix...\n",
      "Done computing similarity matrix.\n",
      "Estimating biases using als...\n",
      "Computing the msd similarity matrix...\n"
     ]
    },
    {
     "name": "stderr",
     "output_type": "stream",
     "text": [
      "\n",
      " 20%|██        | 1/5 [00:14<00:56, 14.20s/it]\u001b[A"
     ]
    },
    {
     "name": "stdout",
     "output_type": "stream",
     "text": [
      "Done computing similarity matrix.\n",
      "Estimating biases using als...\n",
      "Computing the msd similarity matrix...\n",
      "Done computing similarity matrix.\n",
      "Estimating biases using als...\n",
      "Computing the msd similarity matrix...\n",
      "Done computing similarity matrix.\n",
      "Estimating biases using als...\n",
      "Computing the msd similarity matrix...\n",
      "Done computing similarity matrix.\n"
     ]
    },
    {
     "name": "stderr",
     "output_type": "stream",
     "text": [
      "\n",
      " 40%|████      | 2/5 [00:28<00:42, 14.15s/it]\u001b[A"
     ]
    },
    {
     "name": "stdout",
     "output_type": "stream",
     "text": [
      "Estimating biases using als...\n",
      "Computing the msd similarity matrix...\n",
      "Done computing similarity matrix.\n",
      "Estimating biases using als...\n",
      "Computing the msd similarity matrix...\n",
      "Done computing similarity matrix.\n",
      "Estimating biases using als...\n",
      "Computing the msd similarity matrix...\n"
     ]
    },
    {
     "name": "stderr",
     "output_type": "stream",
     "text": [
      "\n",
      " 60%|██████    | 3/5 [00:42<00:28, 14.15s/it]\u001b[A"
     ]
    },
    {
     "name": "stdout",
     "output_type": "stream",
     "text": [
      "Done computing similarity matrix.\n",
      "Estimating biases using als...\n",
      "Computing the msd similarity matrix...\n",
      "Done computing similarity matrix.\n",
      "Estimating biases using als...\n",
      "Computing the msd similarity matrix...\n",
      "Done computing similarity matrix.\n",
      "Estimating biases using als...\n",
      "Computing the msd similarity matrix...\n"
     ]
    },
    {
     "name": "stderr",
     "output_type": "stream",
     "text": [
      "\n",
      " 80%|████████  | 4/5 [00:56<00:14, 14.14s/it]\u001b[A"
     ]
    },
    {
     "name": "stdout",
     "output_type": "stream",
     "text": [
      "Done computing similarity matrix.\n",
      "Estimating biases using als...\n",
      "Computing the msd similarity matrix...\n",
      "Done computing similarity matrix.\n",
      "Estimating biases using als...\n",
      "Computing the msd similarity matrix...\n",
      "Done computing similarity matrix.\n",
      "Estimating biases using als...\n",
      "Computing the msd similarity matrix...\n"
     ]
    },
    {
     "name": "stderr",
     "output_type": "stream",
     "text": [
      "\n",
      "100%|██████████| 5/5 [01:10<00:00, 14.11s/it]\u001b[A\n",
      "\u001b[A"
     ]
    },
    {
     "name": "stdout",
     "output_type": "stream",
     "text": [
      "Done computing similarity matrix.\n"
     ]
    },
    {
     "data": {
      "text/plain": [
       "<matplotlib.legend.Legend at 0x7fb341702748>"
      ]
     },
     "execution_count": 30,
     "metadata": {
      "tags": []
     },
     "output_type": "execute_result"
    },
    {
     "data": {
      "image/png": "[encoded data removed]",
      "text/plain": [
       "<Figure size 432x288 with 1 Axes>"
      ]
     },
     "metadata": {
      "tags": []
     },
     "output_type": "display_data"
    }
   ],
   "source": [
    "n_k = [5, 30, 50, 100, 500]\n",
    "results = []\n",
    "for k in tqdm(n_k):\n",
    "  results.append(cross_validate(sp.KNNBaseline(k=k), sampled_data, measures=['RMSE', 'MAE'], cv=3, verbose=False))\n",
    "\n",
    "rmses = []\n",
    "mses = []\n",
    "for ret in results:\n",
    "  rmses.append(np.mean(ret['test_rmse']))\n",
    "  mses.append(np.mean(ret['test_mae']))\n",
    "\n",
    "plt.plot(n_k, rmses, label='RMSE')\n",
    "plt.plot(n_k, mses, label='MSE')\n",
    "plt.xlabel('Different of k')\n",
    "plt.ylabel('Evalution value')\n",
    "plt.legend()"
   ]
  },
  {
   "cell_type": "markdown",
   "metadata": {
    "colab_type": "text",
    "id": "S420NNXB2p9z"
   },
   "source": [
    "## 基于deepctr的算法"
   ]
  },
  {
   "cell_type": "markdown",
   "metadata": {
    "colab_type": "text",
    "id": "AHG9YiXgk8c8"
   },
   "source": [
    "### DeepFM算法\n",
    "利用NN的方式拟合结果，具体分为两个model（并行）：使用FM提取低阶特征；使用DNN提取高阶，是一种端到端（end-to-end）的模式，共享隐变量（embedding）参数的输入，即每个特征都单独有一个embedding向量（共享学习）。函数化表示如下：\n",
    "$$\\bar{y}=sigmoid(y_{FM}+y_{DNN})$$\n",
    "采用concat的方式对结果进行sigmoid。\n",
    "\n",
    "为了简单验证算法，使用[shenweichen](https://github.com/shenweichen/DeepCTR-Torch)的[examples](https://github.com/shenweichen/DeepCTR-Torch/tree/master/examples)中的'movielens_sample.txt'。"
   ]
  },
  {
   "cell_type": "code",
   "execution_count": null,
   "metadata": {
    "colab": {},
    "colab_type": "code",
    "id": "tCBI6zyqkzM6"
   },
   "outputs": [],
   "source": [
    "def split(x):\n",
    "    key_ans = x.split('|')\n",
    "    for key in key_ans:\n",
    "        if key not in key2index:\n",
    "            # Notice : input value 0 is a special \"padding\",so we do not use 0 to encode valid feature for sequence input\n",
    "            key2index[key] = len(key2index) + 1\n",
    "    return list(map(lambda x: key2index[x], key_ans))"
   ]
  },
  {
   "cell_type": "code",
   "execution_count": null,
   "metadata": {
    "colab": {},
    "colab_type": "code",
    "id": "SP7bHy-JpjEl"
   },
   "outputs": [],
   "source": [
    "data = pd.read_csv('movieslens-data/movielens_sample.txt')"
   ]
  },
  {
   "cell_type": "code",
   "execution_count": 28,
   "metadata": {
    "colab": {
     "base_uri": "https://localhost:8080/",
     "height": 204
    },
    "colab_type": "code",
    "id": "vfEHY8WIq2K9",
    "outputId": "2ffebf4c-be46-4a0b-daff-abd52fd9a506"
   },
   "outputs": [
    {
     "data": {
      "text/html": [
       "<div>\n",
       "<style scoped>\n",
       "    .dataframe tbody tr th:only-of-type {\n",
       "        vertical-align: middle;\n",
       "    }\n",
       "\n",
       "    .dataframe tbody tr th {\n",
       "        vertical-align: top;\n",
       "    }\n",
       "\n",
       "    .dataframe thead th {\n",
       "        text-align: right;\n",
       "    }\n",
       "</style>\n",
       "<table border=\"1\" class=\"dataframe\">\n",
       "  <thead>\n",
       "    <tr style=\"text-align: right;\">\n",
       "      <th></th>\n",
       "      <th>user_id</th>\n",
       "      <th>movie_id</th>\n",
       "      <th>rating</th>\n",
       "      <th>timestamp</th>\n",
       "      <th>title</th>\n",
       "      <th>genres</th>\n",
       "      <th>gender</th>\n",
       "      <th>age</th>\n",
       "      <th>occupation</th>\n",
       "      <th>zip</th>\n",
       "    </tr>\n",
       "  </thead>\n",
       "  <tbody>\n",
       "    <tr>\n",
       "      <th>0</th>\n",
       "      <td>3299</td>\n",
       "      <td>235</td>\n",
       "      <td>4</td>\n",
       "      <td>968035345</td>\n",
       "      <td>Ed Wood (1994)</td>\n",
       "      <td>Comedy|Drama</td>\n",
       "      <td>F</td>\n",
       "      <td>25</td>\n",
       "      <td>4</td>\n",
       "      <td>19119</td>\n",
       "    </tr>\n",
       "    <tr>\n",
       "      <th>1</th>\n",
       "      <td>3630</td>\n",
       "      <td>3256</td>\n",
       "      <td>3</td>\n",
       "      <td>966536874</td>\n",
       "      <td>Patriot Games (1992)</td>\n",
       "      <td>Action|Thriller</td>\n",
       "      <td>M</td>\n",
       "      <td>18</td>\n",
       "      <td>4</td>\n",
       "      <td>77005</td>\n",
       "    </tr>\n",
       "    <tr>\n",
       "      <th>2</th>\n",
       "      <td>517</td>\n",
       "      <td>105</td>\n",
       "      <td>4</td>\n",
       "      <td>976203603</td>\n",
       "      <td>Bridges of Madison County, The (1995)</td>\n",
       "      <td>Drama|Romance</td>\n",
       "      <td>F</td>\n",
       "      <td>25</td>\n",
       "      <td>14</td>\n",
       "      <td>55408</td>\n",
       "    </tr>\n",
       "    <tr>\n",
       "      <th>3</th>\n",
       "      <td>785</td>\n",
       "      <td>2115</td>\n",
       "      <td>3</td>\n",
       "      <td>975430389</td>\n",
       "      <td>Indiana Jones and the Temple of Doom (1984)</td>\n",
       "      <td>Action|Adventure</td>\n",
       "      <td>M</td>\n",
       "      <td>18</td>\n",
       "      <td>19</td>\n",
       "      <td>29307</td>\n",
       "    </tr>\n",
       "    <tr>\n",
       "      <th>4</th>\n",
       "      <td>5848</td>\n",
       "      <td>909</td>\n",
       "      <td>5</td>\n",
       "      <td>957782527</td>\n",
       "      <td>Apartment, The (1960)</td>\n",
       "      <td>Comedy|Drama</td>\n",
       "      <td>M</td>\n",
       "      <td>50</td>\n",
       "      <td>20</td>\n",
       "      <td>20009</td>\n",
       "    </tr>\n",
       "  </tbody>\n",
       "</table>\n",
       "</div>"
      ],
      "text/plain": [
       "   user_id  movie_id  rating  timestamp  ... gender age occupation    zip\n",
       "0     3299       235       4  968035345  ...      F  25          4  19119\n",
       "1     3630      3256       3  966536874  ...      M  18          4  77005\n",
       "2      517       105       4  976203603  ...      F  25         14  55408\n",
       "3      785      2115       3  975430389  ...      M  18         19  29307\n",
       "4     5848       909       5  957782527  ...      M  50         20  20009\n",
       "\n",
       "[5 rows x 10 columns]"
      ]
     },
     "execution_count": 28,
     "metadata": {
      "tags": []
     },
     "output_type": "execute_result"
    }
   ],
   "source": [
    "data.head()"
   ]
  },
  {
   "cell_type": "code",
   "execution_count": null,
   "metadata": {
    "colab": {},
    "colab_type": "code",
    "id": "2kbAtN1KpsD7"
   },
   "outputs": [],
   "source": [
    "sparse_features = [\"movie_id\", \"user_id\", \"gender\", \"age\", \"occupation\", \"zip\", ]\n",
    "target = ['rating']"
   ]
  },
  {
   "cell_type": "code",
   "execution_count": null,
   "metadata": {
    "colab": {},
    "colab_type": "code",
    "id": "Y1wcICGjpxtq"
   },
   "outputs": [],
   "source": [
    "## Label编码稀疏特征\n",
    "for feat in sparse_features:\n",
    "  lbe = LabelEncoder()\n",
    "  data[feat] = lbe.fit_transform(data[feat])\n",
    "## 序列特征genres处理\n",
    "key2index = {}\n",
    "genres_list = list(map(split, data['genres'].values)) # 对genres列每个值进行key-idx的处理，即genres中每个单一值都对应一个index，生成一个二维数组。每一行表示genres的values对应的index。\n",
    "genres_length = np.array(list(map(len, genres_list))) # 统计每个genres中的长度\n",
    "max_len = max(genres_length) # 获取最大长度\n",
    "genres_list = pad_sequences(genres_list, maxlen=max_len, padding='post')  # https://blog.csdn.net/wcy23580/article/details/84957471，两个重要参数padding和truncating"
   ]
  },
  {
   "cell_type": "markdown",
   "metadata": {
    "colab_type": "text",
    "id": "N25iM6U6vIw9"
   },
   "source": [
    "**代码解读**\n",
    "```\n",
    "class SparseFeat(namedtuple('SparseFeat',['name', 'vocabulary_size', 'embedding_dim', 'use_hash', 'dtype', 'embedding_name','group_name'])):\n",
    "    __slots__ = ()\n",
    "    def __new__(cls, name, vocabulary_size, embedding_dim=4, use_hash=False，dtype=\"int32\", embedding_name=None, group_name=DEFAULT_GROUP_NAME):\n",
    "        if embedding_name is None:\n",
    "            embedding_name = name\n",
    "        if embedding_dim == \"auto\":\n",
    "            embedding_dim = 6 * int(pow(vocabulary_size, 0.25))\n",
    "        if use_hash:\n",
    "            print(\"Notice! Feature Hashing on the fly currently is not supported in torch version,you can use tensorflow version!\")\n",
    "        return super(SparseFeat, cls).__new__(cls, name, vocabulary_size, embedding_dim, use_hash, dtype, embedding_name, group_name)\n",
    "\n",
    "    def __hash__(self):\n",
    "        return self.name.__hash__()\n",
    "\n",
    "\n",
    "class VarLenSparseFeat(namedtuple('VarLenSparseFeat', ['sparsefeat', 'maxlen', 'combiner', 'length_name'])):\n",
    "    __slots__ = ()\n",
    "\n",
    "    def __new__(cls, sparsefeat, maxlen, combiner=\"mean\", length_name=None):\n",
    "        return super(VarLenSparseFeat, cls).__new__(cls, sparsefeat, maxlen, combiner, length_name)\n",
    "\n",
    "    @property\n",
    "    def name(self):\n",
    "        return self.sparsefeat.name\n",
    "\n",
    "    @property\n",
    "    def vocabulary_size(self):\n",
    "        return self.sparsefeat.vocabulary_size\n",
    "\n",
    "    @property\n",
    "    def embedding_dim(self):\n",
    "        return self.sparsefeat.embedding_dim\n",
    "\n",
    "    @property\n",
    "    def dtype(self):\n",
    "        return self.sparsefeat.dtype\n",
    "\n",
    "    @property\n",
    "    def embedding_name(self):\n",
    "        return self.sparsefeat.embedding_name\n",
    "\n",
    "    @property\n",
    "    def group_name(self):\n",
    "        return self.sparsefeat.group_name\n",
    "\n",
    "    def __hash__(self):\n",
    "        return self.name.__hash__()\n",
    "\n",
    "\n",
    "class DenseFeat(namedtuple('DenseFeat', ['name', 'dimension', 'dtype'])):\n",
    "    __slots__ = ()\n",
    "\n",
    "    def __new__(cls, name, dimension=1, dtype=\"float32\"):\n",
    "        return super(DenseFeat, cls).__new__(cls, name, dimension, dtype)\n",
    "\n",
    "    def __hash__(self):\n",
    "        return self.name.__hash__()\n",
    "\n",
    "\n",
    "def get_feature_names(feature_columns):\n",
    "    features = build_input_features(feature_columns)\n",
    "    return list(features.keys())\n",
    "```\n",
    "**\\_\\_new\\_\\_**\n",
    "\n",
    "Python的新类允许用户重载\\__new__和\\__init__方法，且这两个方法具有不同的作用。\\__new__作为构造器，起创建一个类实例的作用。而\\__init__作为初始化器，起初始化一个已被创建的实例的作用。\n",
    "\n",
    "**\\_\\_hash__**\n",
    "\n",
    "python3中，在set，frozenset，dict这三种数据结构中，都要求键值key是可hash的，因为要保证key的唯一性。而\\__hash__实际上是返回一个int值，用来唯一标记这个对象。\n",
    "\n",
    "**namedtuple**\n",
    "\n",
    "继承于tuple，它们可以用于任何普通元组，并添加了通过名字获取值的能力，通过索引值也是可以的。\n",
    "\n",
    "可以知道'SparseFeat'类的主要作用是为利用SparseFeat对稀疏矩阵的基本信息进行命名，并使用特征name对稀疏矩阵中每个特征所对应的信息进行命名。\n",
    "\n",
    "DenseFeat仅是对类型进行了转化（没有进行内存降低处理）。\n",
    "\n",
    "VarLenSparseFeat是借助了word2vec的思想，把每个多值特征当成一个句子（vocabulary_size表示词典的大小），其中每个单词（单个向量）都有一个embedding向量，'combiner'表示的神经网络池化层的池化方式。和一般SparseFeat的区别是，vocabulary_size大小的设置，使用VarLenSparseFeat需要设置，SparseFeat可以设置（设置的话表示隐变量）。"
   ]
  },
  {
   "cell_type": "code",
   "execution_count": null,
   "metadata": {
    "colab": {},
    "colab_type": "code",
    "id": "JGarwh5jr0z5"
   },
   "outputs": [],
   "source": [
    "fixlen_feature_columns = [SparseFeat(feat, data[feat].nunique(), embedding_dim=4) for feat in sparse_features]  # 对每个稀疏域进行embedding编码\n",
    "varlen_feature_columns = [VarLenSparseFeat(SparseFeat('genres', vocabulary_size=len(key2index) + 1, embedding_dim=4), maxlen=max_len, combiner='mean', weight_name=None)]  # 对于每个VarLen长度进行编码"
   ]
  },
  {
   "cell_type": "code",
   "execution_count": null,
   "metadata": {
    "colab": {},
    "colab_type": "code",
    "id": "pVEgobMZyzao"
   },
   "outputs": [],
   "source": [
    "linear_feature_columns = fixlen_feature_columns + varlen_feature_columns\n",
    "dnn_feature_columns = fixlen_feature_columns + varlen_feature_columns\n",
    "\n",
    "feature_names = get_feature_names(linear_feature_columns + dnn_feature_columns)"
   ]
  },
  {
   "cell_type": "code",
   "execution_count": null,
   "metadata": {
    "colab": {},
    "colab_type": "code",
    "id": "1Hr0UjCS8yM4"
   },
   "outputs": [],
   "source": [
    "device = 'cpu'\n",
    "use_cuda = True\n",
    "if use_cuda and torch.cuda.is_available():\n",
    "  print('cuda ready...')\n",
    "  device = 'cuda:0'"
   ]
  },
  {
   "cell_type": "code",
   "execution_count": null,
   "metadata": {
    "colab": {},
    "colab_type": "code",
    "id": "W3WZBl22M8uB"
   },
   "outputs": [],
   "source": [
    "n_folds = 5\n",
    "kfold = KFold(n_splits=n_folds, shuffle=True, random_state=2020)\n",
    "def test_deepctr(algo):\n",
    "\n",
    "  final_ret = 0.0\n",
    "  for fold_idx, (trn_idx, val_idx) in tqdm(enumerate(kfold.split(data[feature_names]))):\n",
    "    X_train, X_val = data[feature_names].iloc[trn_idx], data[feature_names].iloc[val_idx]\n",
    "    y_train, y_val = data[target].iloc[trn_idx], data[target].iloc[val_idx]\n",
    "    \n",
    "    train_model_input = {name:X_train[name] for name in feature_names}\n",
    "    train_model_input['genres'] = genres_list[trn_idx]\n",
    "    val_model_input = {name:X_val[name] for name in feature_names}\n",
    "    val_model_input['genres'] = genres_list[val_idx]\n",
    "\n",
    "    model = DeepFM(linear_feature_columns, dnn_feature_columns, dnn_hidden_units=(256, 256, 256), dnn_dropout=0.0, dnn_activation='tanh', dnn_use_bn=False, task='regression')#, device=device) \n",
    "\n",
    "    model.compile(\"adam\", \"mse\", metrics=['mse'], )\n",
    "    history = model.fit(train_model_input, y_train, batch_size=64, epochs=100, verbose=0, validation_data=(val_model_input, y_val))\n",
    "\n",
    "    val_pred = model.predict(val_model_input, batch_size=256)\n",
    "    ret = round(np.sqrt(mean_squared_error(y_val, val_pred)), 5)\n",
    "    print(f'validation rmse fold {fold_idx+1} : {ret}')\n",
    "    final_ret += ret\n",
    "  final_ret /= n_folds\n",
    "  return final_ret"
   ]
  },
  {
   "cell_type": "code",
   "execution_count": 35,
   "metadata": {
    "colab": {
     "base_uri": "https://localhost:8080/",
     "height": 253
    },
    "colab_type": "code",
    "id": "eToU3CdwN-Ej",
    "outputId": "65b89530-cb08-4d94-fa13-867e0d27a9ce"
   },
   "outputs": [
    {
     "name": "stdout",
     "output_type": "stream",
     "text": [
      "WARNING:tensorflow:From /tensorflow-1.15.0/python3.6/tensorflow_core/python/keras/initializers.py:143: calling RandomNormal.__init__ (from tensorflow.python.ops.init_ops) with dtype is deprecated and will be removed in a future version.\n",
      "Instructions for updating:\n",
      "Call initializer instance with the dtype argument instead of passing it to the constructor\n",
      "WARNING:tensorflow:From /tensorflow-1.15.0/python3.6/tensorflow_core/python/ops/resource_variable_ops.py:1630: calling BaseResourceVariable.__init__ (from tensorflow.python.ops.resource_variable_ops) with constraint is deprecated and will be removed in a future version.\n",
      "Instructions for updating:\n",
      "If using Keras pass *_constraint arguments to layers.\n",
      "WARNING:tensorflow:From /usr/local/lib/python3.6/dist-packages/deepctr/layers/utils.py:163: calling reduce_sum_v1 (from tensorflow.python.ops.math_ops) with keep_dims is deprecated and will be removed in a future version.\n",
      "Instructions for updating:\n",
      "keep_dims is deprecated, use keepdims instead\n",
      "WARNING:tensorflow:From /usr/local/lib/python3.6/dist-packages/deepctr/layers/utils.py:193: div (from tensorflow.python.ops.math_ops) is deprecated and will be removed in a future version.\n",
      "Instructions for updating:\n",
      "Deprecated in favor of operator or tf.math.divide.\n"
     ]
    }
   ],
   "source": [
    "model = DeepFM(linear_feature_columns, dnn_feature_columns, dnn_hidden_units=(256, 256, 256), dnn_dropout=0.0, dnn_activation='tanh', dnn_use_bn=False, task='regression')#, device=device) "
   ]
  },
  {
   "cell_type": "code",
   "execution_count": 36,
   "metadata": {
    "colab": {
     "base_uri": "https://localhost:8080/",
     "height": 125
    },
    "colab_type": "code",
    "id": "JMeBCKjeOMCv",
    "outputId": "fb318c4b-2a1f-4e37-afa4-bc94375e1c3b"
   },
   "outputs": [
    {
     "name": "stderr",
     "output_type": "stream",
     "text": [
      "1it [00:05,  5.31s/it]"
     ]
    },
    {
     "name": "stdout",
     "output_type": "stream",
     "text": [
      "validation rmse fold 1 : 1.25309\n"
     ]
    },
    {
     "name": "stderr",
     "output_type": "stream",
     "text": [
      "2it [00:10,  5.22s/it]"
     ]
    },
    {
     "name": "stdout",
     "output_type": "stream",
     "text": [
      "validation rmse fold 2 : 1.14033\n"
     ]
    },
    {
     "name": "stderr",
     "output_type": "stream",
     "text": [
      "3it [00:15,  5.25s/it]"
     ]
    },
    {
     "name": "stdout",
     "output_type": "stream",
     "text": [
      "validation rmse fold 3 : 1.19073\n"
     ]
    },
    {
     "name": "stderr",
     "output_type": "stream",
     "text": [
      "4it [00:21,  5.54s/it]"
     ]
    },
    {
     "name": "stdout",
     "output_type": "stream",
     "text": [
      "validation rmse fold 4 : 1.06371\n"
     ]
    },
    {
     "name": "stderr",
     "output_type": "stream",
     "text": [
      "5it [00:28,  5.84s/it]"
     ]
    },
    {
     "name": "stdout",
     "output_type": "stream",
     "text": [
      "validation rmse fold 5 : 1.3102\n"
     ]
    },
    {
     "name": "stderr",
     "output_type": "stream",
     "text": [
      "\n"
     ]
    }
   ],
   "source": [
    "deepfm_ret = test_deepctr(model)"
   ]
  },
  {
   "cell_type": "markdown",
   "metadata": {
    "colab_type": "text",
    "id": "lXWpfjbHDavT"
   },
   "source": [
    "### xDeepFM算法\n",
    "\n",
    "xDeepFM是基于vector-wise的，其中已知的DCN网络是基于bit-wise，而xDeepFM的CIN网络是基于vector-wise。\n",
    "\n",
    "**DCN网络简介**\n",
    "\n",
    "在DCN网络中使用CrossNet来进行特征提取，具体表示为：\n",
    "$$y=x_0*x^{\\prime}*w + b+ x$$\n",
    "CrossNet深层网络使用的是函数迭代的形式，具体表示为：\n",
    "$$x_{l+1} =x_0 x_l^Tw_l + b + x_l = f(x_l, w_l, b_l) + x_l$$，其中$x_{l+1},x_{l},x_0 \\in R^d$。\n",
    "\n",
    "公式推导如下(如CrossNet有2层，且$x_0=[x_{0,1},x_{0,2}]^T$，这个表示)：\n",
    "$$x_1=x_0x_0^Tw_0 + x_0 = [x_{0,1},x_{0,2}]^T[x_{0,1},x_{0,2}][w_{0,1},w_{0,2}]^T + [x_{0,1},x_{0,2}]^T = [w_{0,1}x^2_{0,1} + w_{0,2}x_{0,1}x_{0,1} + x_{0,1},w_{0,1}x_{0,2}x_{0,1}+w_{0,2}x_{0,2}^2+x_{0,2} ]^T$$\n",
    "进一步可推到$x_2=\\cdots$[link](https://zhuanlan.zhihu.com/p/96827361)\n",
    "\n",
    "公式可以简化为\n",
    "$$x_{i+1}=x_0x_i^Tw_{i+1}+x_i=x_0((\\alpha^ix_0)^Tw_{i+1}) + \\alpha^ix_0=a^{i+1}x_0$$\n",
    "\n",
    "其中$x_0=$"
   ]
  },
  {
   "cell_type": "code",
   "execution_count": null,
   "metadata": {
    "colab": {},
    "colab_type": "code",
    "id": "Y5CAKnzB_hZv"
   },
   "outputs": [],
   "source": [
    "model = xDeepFM(linear_feature_columns, dnn_feature_columns, dnn_hidden_units=(256, 256, 256), dnn_dropout=0.0, dnn_activation='tanh', dnn_use_bn=False, task='regression')#, device=device) "
   ]
  },
  {
   "cell_type": "code",
   "execution_count": 38,
   "metadata": {
    "colab": {
     "base_uri": "https://localhost:8080/",
     "height": 125
    },
    "colab_type": "code",
    "id": "SuC615i3OhKw",
    "outputId": "bc83293f-218b-4fda-c4b0-a4242ed7f800"
   },
   "outputs": [
    {
     "name": "stderr",
     "output_type": "stream",
     "text": [
      "1it [00:06,  6.88s/it]"
     ]
    },
    {
     "name": "stdout",
     "output_type": "stream",
     "text": [
      "validation rmse fold 1 : 1.26487\n"
     ]
    },
    {
     "name": "stderr",
     "output_type": "stream",
     "text": [
      "2it [00:14,  7.11s/it]"
     ]
    },
    {
     "name": "stdout",
     "output_type": "stream",
     "text": [
      "validation rmse fold 2 : 1.13112\n"
     ]
    },
    {
     "name": "stderr",
     "output_type": "stream",
     "text": [
      "3it [00:22,  7.34s/it]"
     ]
    },
    {
     "name": "stdout",
     "output_type": "stream",
     "text": [
      "validation rmse fold 3 : 1.203\n"
     ]
    },
    {
     "name": "stderr",
     "output_type": "stream",
     "text": [
      "4it [00:30,  7.62s/it]"
     ]
    },
    {
     "name": "stdout",
     "output_type": "stream",
     "text": [
      "validation rmse fold 4 : 1.05269\n"
     ]
    },
    {
     "name": "stderr",
     "output_type": "stream",
     "text": [
      "5it [00:39,  8.02s/it]"
     ]
    },
    {
     "name": "stdout",
     "output_type": "stream",
     "text": [
      "validation rmse fold 5 : 1.28618\n"
     ]
    },
    {
     "name": "stderr",
     "output_type": "stream",
     "text": [
      "\n"
     ]
    }
   ],
   "source": [
    "xdeepfm_ret = test_deepctr(model)"
   ]
  },
  {
   "cell_type": "markdown",
   "metadata": {
    "colab_type": "text",
    "id": "wOHB8voVKhGa"
   },
   "source": [
    "### AutoInt算法"
   ]
  },
  {
   "cell_type": "code",
   "execution_count": 39,
   "metadata": {
    "colab": {
     "base_uri": "https://localhost:8080/",
     "height": 181
    },
    "colab_type": "code",
    "id": "r-lHryHLKZuF",
    "outputId": "5db2d724-d17a-4421-bc6d-cfbc01bedd4a"
   },
   "outputs": [
    {
     "name": "stdout",
     "output_type": "stream",
     "text": [
      "WARNING:tensorflow:From /usr/local/lib/python3.6/dist-packages/deepctr/layers/interaction.py:565: The name tf.keras.initializers.TruncatedNormal is deprecated. Please use tf.compat.v1.keras.initializers.TruncatedNormal instead.\n",
      "\n",
      "WARNING:tensorflow:From /tensorflow-1.15.0/python3.6/tensorflow_core/python/keras/initializers.py:94: calling TruncatedNormal.__init__ (from tensorflow.python.ops.init_ops) with dtype is deprecated and will be removed in a future version.\n",
      "Instructions for updating:\n",
      "Call initializer instance with the dtype argument instead of passing it to the constructor\n",
      "WARNING:tensorflow:From /usr/local/lib/python3.6/dist-packages/deepctr/layers/utils.py:199: calling softmax (from tensorflow.python.ops.nn_ops) with dim is deprecated and will be removed in a future version.\n",
      "Instructions for updating:\n",
      "dim is deprecated, use axis instead\n"
     ]
    }
   ],
   "source": [
    "model = AutoInt(linear_feature_columns, dnn_feature_columns, dnn_hidden_units=(256, 256, 256), dnn_dropout=0.0, dnn_activation='tanh', dnn_use_bn=False, task='regression', att_layer_num=4, att_embedding_size=10, att_head_num=3)#, device=device) "
   ]
  },
  {
   "cell_type": "code",
   "execution_count": 40,
   "metadata": {
    "colab": {
     "base_uri": "https://localhost:8080/",
     "height": 125
    },
    "colab_type": "code",
    "id": "sO3cMvPxOpwZ",
    "outputId": "24470a64-8422-4b51-e76a-a6cd6d769c8f"
   },
   "outputs": [
    {
     "name": "stderr",
     "output_type": "stream",
     "text": [
      "1it [00:09,  9.91s/it]"
     ]
    },
    {
     "name": "stdout",
     "output_type": "stream",
     "text": [
      "validation rmse fold 1 : 1.27315\n"
     ]
    },
    {
     "name": "stderr",
     "output_type": "stream",
     "text": [
      "2it [00:20,  9.99s/it]"
     ]
    },
    {
     "name": "stdout",
     "output_type": "stream",
     "text": [
      "validation rmse fold 2 : 1.13388\n"
     ]
    },
    {
     "name": "stderr",
     "output_type": "stream",
     "text": [
      "3it [00:30, 10.17s/it]"
     ]
    },
    {
     "name": "stdout",
     "output_type": "stream",
     "text": [
      "validation rmse fold 3 : 1.21029\n"
     ]
    },
    {
     "name": "stderr",
     "output_type": "stream",
     "text": [
      "4it [00:41, 10.45s/it]"
     ]
    },
    {
     "name": "stdout",
     "output_type": "stream",
     "text": [
      "validation rmse fold 4 : 1.05462\n"
     ]
    },
    {
     "name": "stderr",
     "output_type": "stream",
     "text": [
      "5it [00:53, 10.88s/it]"
     ]
    },
    {
     "name": "stdout",
     "output_type": "stream",
     "text": [
      "validation rmse fold 5 : 1.30019\n"
     ]
    },
    {
     "name": "stderr",
     "output_type": "stream",
     "text": [
      "\n"
     ]
    }
   ],
   "source": [
    "autoint_ret = test_deepctr(model)"
   ]
  },
  {
   "cell_type": "markdown",
   "metadata": {
    "colab_type": "text",
    "id": "Q_mJ3uxSLAot"
   },
   "source": [
    "### FiBiNET算法"
   ]
  },
  {
   "cell_type": "code",
   "execution_count": null,
   "metadata": {
    "colab": {},
    "colab_type": "code",
    "id": "OarX1x08LHE3"
   },
   "outputs": [],
   "source": [
    "model = FiBiNET(linear_feature_columns, dnn_feature_columns, dnn_hidden_units=(256, 256, 256), dnn_dropout=0.0, dnn_activation='tanh', task='regression',)#, device=device) "
   ]
  },
  {
   "cell_type": "code",
   "execution_count": 42,
   "metadata": {
    "colab": {
     "base_uri": "https://localhost:8080/",
     "height": 125
    },
    "colab_type": "code",
    "id": "Erjq7WhrOxsi",
    "outputId": "163ce6b4-b9be-4e22-c356-d9143dbfe942"
   },
   "outputs": [
    {
     "name": "stderr",
     "output_type": "stream",
     "text": [
      "1it [00:12, 12.79s/it]"
     ]
    },
    {
     "name": "stdout",
     "output_type": "stream",
     "text": [
      "validation rmse fold 1 : 1.24292\n"
     ]
    },
    {
     "name": "stderr",
     "output_type": "stream",
     "text": [
      "2it [00:25, 12.91s/it]"
     ]
    },
    {
     "name": "stdout",
     "output_type": "stream",
     "text": [
      "validation rmse fold 2 : 1.10468\n"
     ]
    },
    {
     "name": "stderr",
     "output_type": "stream",
     "text": [
      "3it [00:39, 13.11s/it]"
     ]
    },
    {
     "name": "stdout",
     "output_type": "stream",
     "text": [
      "validation rmse fold 3 : 1.19885\n"
     ]
    },
    {
     "name": "stderr",
     "output_type": "stream",
     "text": [
      "4it [00:53, 13.37s/it]"
     ]
    },
    {
     "name": "stdout",
     "output_type": "stream",
     "text": [
      "validation rmse fold 4 : 1.06888\n"
     ]
    },
    {
     "name": "stderr",
     "output_type": "stream",
     "text": [
      "5it [01:08, 13.80s/it]"
     ]
    },
    {
     "name": "stdout",
     "output_type": "stream",
     "text": [
      "validation rmse fold 5 : 1.2936\n"
     ]
    },
    {
     "name": "stderr",
     "output_type": "stream",
     "text": [
      "\n"
     ]
    }
   ],
   "source": [
    "fibinet_ret = test_deepctr(model)"
   ]
  },
  {
   "cell_type": "markdown",
   "metadata": {
    "colab_type": "text",
    "id": "k2FCZLqMPVwh"
   },
   "source": [
    "### ONN算法"
   ]
  },
  {
   "cell_type": "code",
   "execution_count": null,
   "metadata": {
    "colab": {},
    "colab_type": "code",
    "id": "KMyDvOLSPvub"
   },
   "outputs": [],
   "source": [
    "model = ONN(linear_feature_columns, dnn_feature_columns, dnn_hidden_units=(256, 256, 256), dnn_dropout=0.0, task='regression')#, device=device) "
   ]
  },
  {
   "cell_type": "code",
   "execution_count": 44,
   "metadata": {
    "colab": {
     "base_uri": "https://localhost:8080/",
     "height": 125
    },
    "colab_type": "code",
    "id": "wC1rwuEgPwAh",
    "outputId": "866410eb-552c-4194-b038-9108a28561ed"
   },
   "outputs": [
    {
     "name": "stderr",
     "output_type": "stream",
     "text": [
      "1it [00:15, 15.60s/it]"
     ]
    },
    {
     "name": "stdout",
     "output_type": "stream",
     "text": [
      "validation rmse fold 1 : 1.26742\n"
     ]
    },
    {
     "name": "stderr",
     "output_type": "stream",
     "text": [
      "2it [00:31, 15.71s/it]"
     ]
    },
    {
     "name": "stdout",
     "output_type": "stream",
     "text": [
      "validation rmse fold 2 : 1.11599\n"
     ]
    },
    {
     "name": "stderr",
     "output_type": "stream",
     "text": [
      "3it [00:47, 15.90s/it]"
     ]
    },
    {
     "name": "stdout",
     "output_type": "stream",
     "text": [
      "validation rmse fold 3 : 1.1988\n"
     ]
    },
    {
     "name": "stderr",
     "output_type": "stream",
     "text": [
      "4it [01:04, 16.15s/it]"
     ]
    },
    {
     "name": "stdout",
     "output_type": "stream",
     "text": [
      "validation rmse fold 4 : 1.06147\n"
     ]
    },
    {
     "name": "stderr",
     "output_type": "stream",
     "text": [
      "5it [01:21, 16.45s/it]"
     ]
    },
    {
     "name": "stdout",
     "output_type": "stream",
     "text": [
      "validation rmse fold 5 : 1.30033\n"
     ]
    },
    {
     "name": "stderr",
     "output_type": "stream",
     "text": [
      "\n"
     ]
    }
   ],
   "source": [
    "onn_ret = test_deepctr(model)"
   ]
  },
  {
   "cell_type": "code",
   "execution_count": 45,
   "metadata": {
    "colab": {
     "base_uri": "https://localhost:8080/",
     "height": 313
    },
    "colab_type": "code",
    "id": "LGKo2coFQt9Y",
    "outputId": "d4ed7733-0c36-463f-e08a-722e1055e77f"
   },
   "outputs": [
    {
     "data": {
      "text/plain": [
       "<matplotlib.legend.Legend at 0x7f170bf06eb8>"
      ]
     },
     "execution_count": 45,
     "metadata": {
      "tags": []
     },
     "output_type": "execute_result"
    },
    {
     "data": {
      "image/png": "[encoded data removed]",
      "text/plain": [
       "<Figure size 432x288 with 1 Axes>"
      ]
     },
     "metadata": {
      "tags": []
     },
     "output_type": "display_data"
    }
   ],
   "source": [
    "# DeepFM, xDeepFM, AutoInt, FiBiNET, ONN\n",
    "labels = ['DeepFM', 'xDeepFM', 'AutoInt', 'FiBiNET', 'ONN']\n",
    "value = [deepfm_ret, xdeepfm_ret, autoint_ret, fibinet_ret, onn_ret]\n",
    "\n",
    "\n",
    "plt.title(\"Different Algorithm of deepctr\")\n",
    "\n",
    "plt.plot(np.arange(0, len(value)), value, label='Algo', linewidth=3, color='r', marker='o',\n",
    "         markerfacecolor='blue', markersize=20)\n",
    "plt.xlabel('Algorithm of deepctr')\n",
    "plt.ylabel('Result of RMSE')\n",
    "for idx, (a, b) in enumerate(zip(labels, value)):\n",
    "  plt.text(idx, b, a, ha='center', va='bottom', fontsize=20)\n",
    " \n",
    "plt.legend()"
   ]
  },
  {
   "cell_type": "code",
   "execution_count": null,
   "metadata": {
    "colab": {},
    "colab_type": "code",
    "id": "NRd3KrMGSyxO"
   },
   "outputs": [],
   "source": []
  }
 ],
 "metadata": {
  "colab": {
   "collapsed_sections": [],
   "machine_shape": "hm",
   "name": "movielens-surprise-deepfm.ipynb",
   "provenance": [],
   "toc_visible": true
  },
  "kernelspec": {
   "display_name": "Python 3",
   "language": "python",
   "name": "python3"
  },
  "language_info": {
   "codemirror_mode": {
    "name": "ipython",
    "version": 3
   },
   "file_extension": ".py",
   "mimetype": "text/x-python",
   "name": "python",
   "nbconvert_exporter": "python",
   "pygments_lexer": "ipython3",
   "version": "3.7.4"
  }
 },
 "nbformat": 4,
 "nbformat_minor": 4
}
