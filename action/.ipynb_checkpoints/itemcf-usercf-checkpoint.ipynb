{
 "cells": [
  {
   "cell_type": "code",
   "execution_count": 1,
   "metadata": {},
   "outputs": [],
   "source": [
    "import math"
   ]
  },
  {
   "cell_type": "code",
   "execution_count": null,
   "metadata": {},
   "outputs": [],
   "source": [
    "def item_similarity(train):\n",
    "    # item 和 item 的共同矩阵\n",
    "    C = dict()\n",
    "    # item被多少个不同的user购买\n",
    "    N = dict()\n",
    "    for user, item in train.items():\n",
    "        for i in items.keys():\n",
    "            N.selectdefault(i, 0)\n",
    "            N[i] += 1\n",
    "            C.setdefault(i, {})\n",
    "            for j in items.keys():\n",
    "                if i == j:\n",
    "                    continue\n",
    "                C[i].setdefault(j, 0)\n",
    "                C[i][j] += 1\n",
    "    W = dict()\n",
    "    for i, related_items in C.items():\n",
    "        W.setdefault(i, {})\n",
    "        for j, cij in related_items.items()"
   ]
  }
 ],
 "metadata": {
  "kernelspec": {
   "display_name": "Python 3",
   "language": "python",
   "name": "python3"
  },
  "language_info": {
   "codemirror_mode": {
    "name": "ipython",
    "version": 3
   },
   "file_extension": ".py",
   "mimetype": "text/x-python",
   "name": "python",
   "nbconvert_exporter": "python",
   "pygments_lexer": "ipython3",
   "version": "3.7.4"
  }
 },
 "nbformat": 4,
 "nbformat_minor": 4
}
