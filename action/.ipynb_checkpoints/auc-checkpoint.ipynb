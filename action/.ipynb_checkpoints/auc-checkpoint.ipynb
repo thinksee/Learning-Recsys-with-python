{
 "cells": [
  {
   "cell_type": "code",
   "execution_count": 1,
   "metadata": {},
   "outputs": [],
   "source": [
    "import numpy as np"
   ]
  },
  {
   "cell_type": "code",
   "execution_count": 3,
   "metadata": {},
   "outputs": [],
   "source": [
    "label_all = np.random.randint(0, 2, [10, 1]).tolist()\n",
    "pred_all = np.random.random((10, 1)).tolist()"
   ]
  },
  {
   "cell_type": "code",
   "execution_count": 4,
   "metadata": {},
   "outputs": [
    {
     "data": {
      "text/plain": [
       "([[1], [1], [1], [0], [0], [1], [0], [1], [0], [1]],\n",
       " [[0.15472565831215923],\n",
       "  [0.9149737524511392],\n",
       "  [0.834062529235681],\n",
       "  [0.18755246605965858],\n",
       "  [0.850650671366103],\n",
       "  [0.5102217489362612],\n",
       "  [0.9342490124569843],\n",
       "  [0.0029898556925339603],\n",
       "  [0.04579734231539667],\n",
       "  [0.7060121228025255]])"
      ]
     },
     "execution_count": 4,
     "metadata": {},
     "output_type": "execute_result"
    }
   ],
   "source": [
    "label_all, pred_all"
   ]
  },
  {
   "cell_type": "markdown",
   "metadata": {},
   "source": [
    "**filter()函数用于过滤序列**\n",
    "\n",
    "python2.7返回列表， python3.x返回迭代对象器"
   ]
  },
  {
   "cell_type": "code",
   "execution_count": 5,
   "metadata": {},
   "outputs": [],
   "source": [
    "posNum = len(list(filter(lambda s: s[0] == 1, label_all)))"
   ]
  },
  {
   "cell_type": "markdown",
   "metadata": {},
   "source": [
    "**AUC**\n",
    "\n",
    "$$AUC = \\frac{\\sum_{ins_i \\in positiveclass} rank_{ins_i} - \\frac{M \\times (M + 1)}{2}}{M \\times N}$$\n",
    "其中$rank_{ins_i}$表示第$i$条样本的序号，$M$,$N$分别是正样本的个数和负样本的个数，$\\sum_{ins_i \\in positiveclass}$只把正样本的序号加起来。\n",
    "- 按照概率排序\n",
    "- 统计"
   ]
  },
  {
   "cell_type": "code",
   "execution_count": 6,
   "metadata": {},
   "outputs": [],
   "source": [
    "if posNum > 0:\n",
    "    negNum = len(label_all) - posNum\n",
    "    sortedq = sorted(enumerate(pred_all), key=lambda x: x[1])  # 按照概率排序\n",
    "    \n",
    "    posRankSum = 0\n",
    "    for j in range(len(pred_all)):\n",
    "        if label_all[j][0] == 1:\n",
    "            posRankSum += list(map(lambda x: x[0], sortedq)).index(j) + 1\n",
    "    auc = (posRankSum - posNum * (posNum + 1) / 2) / (posNum * negNum)"
   ]
  },
  {
   "cell_type": "code",
   "execution_count": null,
   "metadata": {},
   "outputs": [],
   "source": []
  }
 ],
 "metadata": {
  "kernelspec": {
   "display_name": "Python 3",
   "language": "python",
   "name": "python3"
  },
  "language_info": {
   "codemirror_mode": {
    "name": "ipython",
    "version": 3
   },
   "file_extension": ".py",
   "mimetype": "text/x-python",
   "name": "python",
   "nbconvert_exporter": "python",
   "pygments_lexer": "ipython3",
   "version": "3.7.4"
  }
 },
 "nbformat": 4,
 "nbformat_minor": 4
}
