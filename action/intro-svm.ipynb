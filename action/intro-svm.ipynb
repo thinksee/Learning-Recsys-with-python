{
 "cells": [
  {
   "cell_type": "markdown",
   "metadata": {},
   "source": [
    "## 1. 线性可分（SVM）\n",
    "\n",
    "给定样本集$D={(x_1, y_1), (x_2, y_2), \\cdots, (x_m, y_m))}$，其中$x$为$1 \\times m$维的向量（有$m$个属性的一条训练数据），目的是寻找一个最优（泛化能力最强）的超平面，将不同类别的样本分开。\n",
    "\n",
    "其中超平面可以使用$w^T + b = 0$，描述，其中$w$为法向量，$b$为位移项。其中$w$和$b$其实就是模型的参数。任意点$x$到超平面$(w,b)$的距离为\n",
    "$$\\gamma = \\frac{|w^T x + b|}{|w|}$$\n",
    "对于2分类问题，若超平面将样本成功分类，则下式成立\n",
    "$$w^Tx_i + b \\geq + 1, y_i = +1$$\n",
    "$$w^Tx_i + b \\geq - 1, y_i = -1$$\n",
    "则两个不同类支持向量到超平面的距离之和为$\\gamma = \\frac{2}{||w||}$，其被称为间隔"
   ]
  },
  {
   "cell_type": "code",
   "execution_count": null,
   "metadata": {},
   "outputs": [],
   "source": []
  }
 ],
 "metadata": {
  "kernelspec": {
   "display_name": "Python 3",
   "language": "python",
   "name": "python3"
  },
  "language_info": {
   "codemirror_mode": {
    "name": "ipython",
    "version": 3
   },
   "file_extension": ".py",
   "mimetype": "text/x-python",
   "name": "python",
   "nbconvert_exporter": "python",
   "pygments_lexer": "ipython3",
   "version": "3.7.4"
  }
 },
 "nbformat": 4,
 "nbformat_minor": 4
}
