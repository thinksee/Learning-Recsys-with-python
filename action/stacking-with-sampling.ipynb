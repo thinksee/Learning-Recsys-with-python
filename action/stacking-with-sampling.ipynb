{
 "cells": [
  {
   "cell_type": "markdown",
   "metadata": {},
   "source": [
    "## Import package\n",
    "- StratifiedKFold for Cross Validation\n",
    "- lightgbm/xgboost/catboost/ExtraTreesClassifier/RandomForestClassifier which is classifier for prediction\n",
    "- StandardScaler which make sample features standard"
   ]
  },
  {
   "cell_type": "code",
   "execution_count": 1,
   "metadata": {
    "_cell_guid": "b1076dfc-b9ad-4769-8c92-a6c4dae69d19",
    "_uuid": "8f2839f25d086af736a60e9eeb907d3b93b6e0e5"
   },
   "outputs": [],
   "source": [
    "# This Python 3 environment comes with many helpful analytics libraries installed\n",
    "# It is defined by the kaggle/python docker image: https://github.com/kaggle/docker-python\n",
    "# For example, here's several helpful packages to load in \n",
    "import os\n",
    "import time\n",
    "import numpy as np\n",
    "import pandas as pd\n",
    "from tqdm import tqdm\n",
    "from math import sqrt\n",
    "import lightgbm as lgb\n",
    "import xgboost as xgb\n",
    "from catboost import CatBoostClassifier\n",
    "from lightgbm import LGBMClassifier\n",
    "\n",
    "import scipy.stats as stats\n",
    "from scipy.stats import skew\n",
    "\n",
    "from sklearn.model_selection import train_test_split\n",
    "from sklearn.feature_selection import SelectFromModel\n",
    "from sklearn.ensemble import ExtraTreesClassifier\n",
    "from sklearn.ensemble import RandomForestClassifier\n",
    "\n",
    "from sklearn.linear_model import LogisticRegression\n",
    "\n",
    "from sklearn.metrics import roc_auc_score, auc, roc_curve, recall_score\n",
    "from sklearn.metrics import mean_squared_error\n",
    "from sklearn.metrics import confusion_matrix\n",
    "\n",
    "from sklearn.preprocessing import StandardScaler\n",
    "from sklearn.preprocessing import MinMaxScaler\n",
    "from sklearn.model_selection import StratifiedKFold\n",
    "from sklearn.model_selection import KFold\n",
    "\n",
    "import matplotlib.pyplot as plt\n",
    "import seaborn as sns\n",
    "import matplotlib.pyplot as plt\n",
    "plt.rcParams['font.sans-serif'] = ['SimHei']  # show chinese\n",
    "plt.rcParams['axes.unicode_minus']=False \n",
    "\n",
    "import itertools\n",
    "\n",
    "import gc"
   ]
  },
  {
   "cell_type": "markdown",
   "metadata": {},
   "source": [
    "### Helper Script\n",
    "- Statistic features attribute distribution of each columns **resumetable()**\n",
    "- Plot Confusion matrix **plot_confusion_matrix()**"
   ]
  },
  {
   "cell_type": "code",
   "execution_count": 2,
   "metadata": {
    "_cell_guid": "79c7e3d0-c299-4dcb-8224-4455121ee9b0",
    "_uuid": "d629ff2d2480ee46fbb7e2d37f6b5fab8052498a"
   },
   "outputs": [],
   "source": [
    "def resumetable(df:pd.DataFrame)-> pd.DataFrame:\n",
    "    print(f\"Dataset Shape: {df.shape}\")\n",
    "    summary = pd.DataFrame(df.dtypes,columns=['dtypes'])\n",
    "    summary = summary.reset_index()\n",
    "    summary['Name'] = summary['index']\n",
    "    summary = summary[['Name','dtypes']]\n",
    "    summary['Missing'] = df.isnull().sum().values    \n",
    "    summary['Uniques'] = df.nunique().values\n",
    "    summary['First Value'] = df.loc[0].values\n",
    "    summary['Second Value'] = df.loc[1].values\n",
    "    summary['Third Value'] = df.loc[2].values\n",
    "\n",
    "    for name in summary['Name'].value_counts().index:\n",
    "        summary.loc[summary['Name'] == name, 'Entropy'] = round(stats.entropy(df[name].value_counts(normalize=True), base=2),2) \n",
    "\n",
    "    return summary"
   ]
  },
  {
   "cell_type": "code",
   "execution_count": 3,
   "metadata": {},
   "outputs": [],
   "source": [
    "# plot confusion matrix\n",
    "def plot_confusion_matrix(cm:np.array, classes:str, normalize=False, title='Confusion matrix', cmap=plt.cm.Blues):\n",
    "    \"\"\"\n",
    "    This function prints and plots the confusion matrix.\n",
    "    Normalization can be applied by setting `normalize=True`.\n",
    "    Input\n",
    "    - cm : 计算出的混淆矩阵的值\n",
    "    - classes : 混淆矩阵中每一行每一列对应的列\n",
    "    - normalize : True:显示百分比, False:显示个数\n",
    "    \"\"\"\n",
    "    if normalize:\n",
    "        cm = cm.astype('float') / cm.sum(axis=1)[:, np.newaxis]\n",
    "        print(\"Normalized confusion matrix\")\n",
    "    else:\n",
    "        print('Confusion matrix, without normalization')\n",
    "    print(cm)\n",
    "    plt.imshow(cm, interpolation='nearest', cmap=cmap)\n",
    "    plt.title(title)\n",
    "    plt.colorbar()\n",
    "    tick_marks = np.arange(len(classes))\n",
    "    plt.xticks(tick_marks, classes, rotation=45)\n",
    "    plt.yticks(tick_marks, classes)\n",
    "    fmt = '.2f' if normalize else 'd'\n",
    "    thresh = cm.max() / 2.\n",
    "    for i, j in itertools.product(range(cm.shape[0]), range(cm.shape[1])):\n",
    "        plt.text(j, i, format(cm[i, j], fmt),\n",
    "                 horizontalalignment=\"center\",\n",
    "                 color=\"white\" if cm[i, j] > thresh else \"black\")\n",
    "    plt.tight_layout()\n",
    "    plt.ylabel('True label')\n",
    "    plt.xlabel('Predicted label')"
   ]
  },
  {
   "cell_type": "code",
   "execution_count": 4,
   "metadata": {},
   "outputs": [],
   "source": [
    "# plot roc\n",
    "def plot_roc_curve(y_pred, y_pred_score):\n",
    "    fpr, tpr, thresholds = roc_curve(y_pred, y_pred_score)\n",
    "    roc_auc = auc(fpr, tpr)\n",
    "    # Plot ROC\n",
    "    plt.title('Receiver Operating Characteristic')\n",
    "    plt.plot(fpr, tpr, 'b',label='AUC = %0.3f'% roc_auc)\n",
    "    plt.legend(loc='lower right')\n",
    "    plt.plot([0,1],[0,1],'r--')\n",
    "    plt.xlim([-0.1,1.0])\n",
    "    plt.ylim([-0.1,1.01])\n",
    "    plt.ylabel('True Positive Rate')\n",
    "    plt.xlabel('False Positive Rate')\n",
    "    plt.show()"
   ]
  },
  {
   "cell_type": "markdown",
   "metadata": {},
   "source": [
    "## Data Pre-processing"
   ]
  },
  {
   "cell_type": "code",
   "execution_count": 5,
   "metadata": {},
   "outputs": [],
   "source": [
    "train = pd.read_csv(r'../input/rs6-attrition-predict/train.csv')\n",
    "test = pd.read_csv(r'../input/rs6-attrition-predict/test.csv')"
   ]
  },
  {
   "cell_type": "code",
   "execution_count": 6,
   "metadata": {
    "_kg_hide-output": true
   },
   "outputs": [
    {
     "name": "stdout",
     "output_type": "stream",
     "text": [
      "Dataset Shape: (1176, 36)\n"
     ]
    },
    {
     "data": {
      "text/html": [
       "<div>\n",
       "<style scoped>\n",
       "    .dataframe tbody tr th:only-of-type {\n",
       "        vertical-align: middle;\n",
       "    }\n",
       "\n",
       "    .dataframe tbody tr th {\n",
       "        vertical-align: top;\n",
       "    }\n",
       "\n",
       "    .dataframe thead th {\n",
       "        text-align: right;\n",
       "    }\n",
       "</style>\n",
       "<table border=\"1\" class=\"dataframe\">\n",
       "  <thead>\n",
       "    <tr style=\"text-align: right;\">\n",
       "      <th></th>\n",
       "      <th>Name</th>\n",
       "      <th>dtypes</th>\n",
       "      <th>Missing</th>\n",
       "      <th>Uniques</th>\n",
       "      <th>First Value</th>\n",
       "      <th>Second Value</th>\n",
       "      <th>Third Value</th>\n",
       "      <th>Entropy</th>\n",
       "    </tr>\n",
       "  </thead>\n",
       "  <tbody>\n",
       "    <tr>\n",
       "      <th>0</th>\n",
       "      <td>user_id</td>\n",
       "      <td>int64</td>\n",
       "      <td>0</td>\n",
       "      <td>1176</td>\n",
       "      <td>1374</td>\n",
       "      <td>1092</td>\n",
       "      <td>768</td>\n",
       "      <td>10.20</td>\n",
       "    </tr>\n",
       "    <tr>\n",
       "      <th>1</th>\n",
       "      <td>Age</td>\n",
       "      <td>int64</td>\n",
       "      <td>0</td>\n",
       "      <td>43</td>\n",
       "      <td>58</td>\n",
       "      <td>45</td>\n",
       "      <td>40</td>\n",
       "      <td>5.13</td>\n",
       "    </tr>\n",
       "    <tr>\n",
       "      <th>2</th>\n",
       "      <td>Attrition</td>\n",
       "      <td>object</td>\n",
       "      <td>0</td>\n",
       "      <td>2</td>\n",
       "      <td>No</td>\n",
       "      <td>No</td>\n",
       "      <td>No</td>\n",
       "      <td>0.63</td>\n",
       "    </tr>\n",
       "    <tr>\n",
       "      <th>3</th>\n",
       "      <td>BusinessTravel</td>\n",
       "      <td>object</td>\n",
       "      <td>0</td>\n",
       "      <td>3</td>\n",
       "      <td>Travel_Rarely</td>\n",
       "      <td>Travel_Rarely</td>\n",
       "      <td>Travel_Rarely</td>\n",
       "      <td>1.15</td>\n",
       "    </tr>\n",
       "    <tr>\n",
       "      <th>4</th>\n",
       "      <td>DailyRate</td>\n",
       "      <td>int64</td>\n",
       "      <td>0</td>\n",
       "      <td>783</td>\n",
       "      <td>605</td>\n",
       "      <td>950</td>\n",
       "      <td>300</td>\n",
       "      <td>9.46</td>\n",
       "    </tr>\n",
       "    <tr>\n",
       "      <th>5</th>\n",
       "      <td>Department</td>\n",
       "      <td>object</td>\n",
       "      <td>0</td>\n",
       "      <td>3</td>\n",
       "      <td>Sales</td>\n",
       "      <td>Research &amp; Development</td>\n",
       "      <td>Sales</td>\n",
       "      <td>1.12</td>\n",
       "    </tr>\n",
       "    <tr>\n",
       "      <th>6</th>\n",
       "      <td>DistanceFromHome</td>\n",
       "      <td>int64</td>\n",
       "      <td>0</td>\n",
       "      <td>29</td>\n",
       "      <td>21</td>\n",
       "      <td>28</td>\n",
       "      <td>26</td>\n",
       "      <td>4.35</td>\n",
       "    </tr>\n",
       "    <tr>\n",
       "      <th>7</th>\n",
       "      <td>Education</td>\n",
       "      <td>int64</td>\n",
       "      <td>0</td>\n",
       "      <td>5</td>\n",
       "      <td>3</td>\n",
       "      <td>3</td>\n",
       "      <td>3</td>\n",
       "      <td>2.00</td>\n",
       "    </tr>\n",
       "    <tr>\n",
       "      <th>8</th>\n",
       "      <td>EducationField</td>\n",
       "      <td>object</td>\n",
       "      <td>0</td>\n",
       "      <td>6</td>\n",
       "      <td>Life Sciences</td>\n",
       "      <td>Technical Degree</td>\n",
       "      <td>Marketing</td>\n",
       "      <td>2.04</td>\n",
       "    </tr>\n",
       "    <tr>\n",
       "      <th>9</th>\n",
       "      <td>EmployeeCount</td>\n",
       "      <td>int64</td>\n",
       "      <td>0</td>\n",
       "      <td>1</td>\n",
       "      <td>1</td>\n",
       "      <td>1</td>\n",
       "      <td>1</td>\n",
       "      <td>0.00</td>\n",
       "    </tr>\n",
       "    <tr>\n",
       "      <th>10</th>\n",
       "      <td>EmployeeNumber</td>\n",
       "      <td>int64</td>\n",
       "      <td>0</td>\n",
       "      <td>1176</td>\n",
       "      <td>1938</td>\n",
       "      <td>1546</td>\n",
       "      <td>1066</td>\n",
       "      <td>10.20</td>\n",
       "    </tr>\n",
       "    <tr>\n",
       "      <th>11</th>\n",
       "      <td>EnvironmentSatisfaction</td>\n",
       "      <td>int64</td>\n",
       "      <td>0</td>\n",
       "      <td>4</td>\n",
       "      <td>4</td>\n",
       "      <td>4</td>\n",
       "      <td>3</td>\n",
       "      <td>1.96</td>\n",
       "    </tr>\n",
       "    <tr>\n",
       "      <th>12</th>\n",
       "      <td>Gender</td>\n",
       "      <td>object</td>\n",
       "      <td>0</td>\n",
       "      <td>2</td>\n",
       "      <td>Female</td>\n",
       "      <td>Male</td>\n",
       "      <td>Male</td>\n",
       "      <td>0.97</td>\n",
       "    </tr>\n",
       "    <tr>\n",
       "      <th>13</th>\n",
       "      <td>HourlyRate</td>\n",
       "      <td>int64</td>\n",
       "      <td>0</td>\n",
       "      <td>71</td>\n",
       "      <td>72</td>\n",
       "      <td>97</td>\n",
       "      <td>74</td>\n",
       "      <td>6.12</td>\n",
       "    </tr>\n",
       "    <tr>\n",
       "      <th>14</th>\n",
       "      <td>JobInvolvement</td>\n",
       "      <td>int64</td>\n",
       "      <td>0</td>\n",
       "      <td>4</td>\n",
       "      <td>3</td>\n",
       "      <td>3</td>\n",
       "      <td>3</td>\n",
       "      <td>1.52</td>\n",
       "    </tr>\n",
       "    <tr>\n",
       "      <th>15</th>\n",
       "      <td>JobLevel</td>\n",
       "      <td>int64</td>\n",
       "      <td>0</td>\n",
       "      <td>5</td>\n",
       "      <td>4</td>\n",
       "      <td>1</td>\n",
       "      <td>2</td>\n",
       "      <td>1.95</td>\n",
       "    </tr>\n",
       "    <tr>\n",
       "      <th>16</th>\n",
       "      <td>JobRole</td>\n",
       "      <td>object</td>\n",
       "      <td>0</td>\n",
       "      <td>9</td>\n",
       "      <td>Manager</td>\n",
       "      <td>Research Scientist</td>\n",
       "      <td>Sales Executive</td>\n",
       "      <td>2.92</td>\n",
       "    </tr>\n",
       "    <tr>\n",
       "      <th>17</th>\n",
       "      <td>JobSatisfaction</td>\n",
       "      <td>int64</td>\n",
       "      <td>0</td>\n",
       "      <td>4</td>\n",
       "      <td>4</td>\n",
       "      <td>4</td>\n",
       "      <td>1</td>\n",
       "      <td>1.96</td>\n",
       "    </tr>\n",
       "    <tr>\n",
       "      <th>18</th>\n",
       "      <td>MaritalStatus</td>\n",
       "      <td>object</td>\n",
       "      <td>0</td>\n",
       "      <td>3</td>\n",
       "      <td>Married</td>\n",
       "      <td>Married</td>\n",
       "      <td>Married</td>\n",
       "      <td>1.53</td>\n",
       "    </tr>\n",
       "    <tr>\n",
       "      <th>19</th>\n",
       "      <td>MonthlyIncome</td>\n",
       "      <td>int64</td>\n",
       "      <td>0</td>\n",
       "      <td>1091</td>\n",
       "      <td>17875</td>\n",
       "      <td>2132</td>\n",
       "      <td>8396</td>\n",
       "      <td>10.05</td>\n",
       "    </tr>\n",
       "    <tr>\n",
       "      <th>20</th>\n",
       "      <td>MonthlyRate</td>\n",
       "      <td>int64</td>\n",
       "      <td>0</td>\n",
       "      <td>1147</td>\n",
       "      <td>11761</td>\n",
       "      <td>4585</td>\n",
       "      <td>22217</td>\n",
       "      <td>10.15</td>\n",
       "    </tr>\n",
       "    <tr>\n",
       "      <th>21</th>\n",
       "      <td>NumCompaniesWorked</td>\n",
       "      <td>int64</td>\n",
       "      <td>0</td>\n",
       "      <td>10</td>\n",
       "      <td>4</td>\n",
       "      <td>4</td>\n",
       "      <td>1</td>\n",
       "      <td>2.87</td>\n",
       "    </tr>\n",
       "    <tr>\n",
       "      <th>22</th>\n",
       "      <td>Over18</td>\n",
       "      <td>object</td>\n",
       "      <td>0</td>\n",
       "      <td>1</td>\n",
       "      <td>Y</td>\n",
       "      <td>Y</td>\n",
       "      <td>Y</td>\n",
       "      <td>0.00</td>\n",
       "    </tr>\n",
       "    <tr>\n",
       "      <th>23</th>\n",
       "      <td>OverTime</td>\n",
       "      <td>object</td>\n",
       "      <td>0</td>\n",
       "      <td>2</td>\n",
       "      <td>Yes</td>\n",
       "      <td>No</td>\n",
       "      <td>No</td>\n",
       "      <td>0.85</td>\n",
       "    </tr>\n",
       "    <tr>\n",
       "      <th>24</th>\n",
       "      <td>PercentSalaryHike</td>\n",
       "      <td>int64</td>\n",
       "      <td>0</td>\n",
       "      <td>15</td>\n",
       "      <td>13</td>\n",
       "      <td>20</td>\n",
       "      <td>14</td>\n",
       "      <td>3.55</td>\n",
       "    </tr>\n",
       "    <tr>\n",
       "      <th>25</th>\n",
       "      <td>PerformanceRating</td>\n",
       "      <td>int64</td>\n",
       "      <td>0</td>\n",
       "      <td>2</td>\n",
       "      <td>3</td>\n",
       "      <td>4</td>\n",
       "      <td>3</td>\n",
       "      <td>0.61</td>\n",
       "    </tr>\n",
       "    <tr>\n",
       "      <th>26</th>\n",
       "      <td>RelationshipSatisfaction</td>\n",
       "      <td>int64</td>\n",
       "      <td>0</td>\n",
       "      <td>4</td>\n",
       "      <td>3</td>\n",
       "      <td>4</td>\n",
       "      <td>2</td>\n",
       "      <td>1.97</td>\n",
       "    </tr>\n",
       "    <tr>\n",
       "      <th>27</th>\n",
       "      <td>StandardHours</td>\n",
       "      <td>int64</td>\n",
       "      <td>0</td>\n",
       "      <td>1</td>\n",
       "      <td>80</td>\n",
       "      <td>80</td>\n",
       "      <td>80</td>\n",
       "      <td>0.00</td>\n",
       "    </tr>\n",
       "    <tr>\n",
       "      <th>28</th>\n",
       "      <td>StockOptionLevel</td>\n",
       "      <td>int64</td>\n",
       "      <td>0</td>\n",
       "      <td>4</td>\n",
       "      <td>1</td>\n",
       "      <td>1</td>\n",
       "      <td>1</td>\n",
       "      <td>1.65</td>\n",
       "    </tr>\n",
       "    <tr>\n",
       "      <th>29</th>\n",
       "      <td>TotalWorkingYears</td>\n",
       "      <td>int64</td>\n",
       "      <td>0</td>\n",
       "      <td>39</td>\n",
       "      <td>29</td>\n",
       "      <td>8</td>\n",
       "      <td>8</td>\n",
       "      <td>4.63</td>\n",
       "    </tr>\n",
       "    <tr>\n",
       "      <th>30</th>\n",
       "      <td>TrainingTimesLastYear</td>\n",
       "      <td>int64</td>\n",
       "      <td>0</td>\n",
       "      <td>7</td>\n",
       "      <td>2</td>\n",
       "      <td>3</td>\n",
       "      <td>3</td>\n",
       "      <td>2.20</td>\n",
       "    </tr>\n",
       "    <tr>\n",
       "      <th>31</th>\n",
       "      <td>WorkLifeBalance</td>\n",
       "      <td>int64</td>\n",
       "      <td>0</td>\n",
       "      <td>4</td>\n",
       "      <td>2</td>\n",
       "      <td>3</td>\n",
       "      <td>2</td>\n",
       "      <td>1.50</td>\n",
       "    </tr>\n",
       "    <tr>\n",
       "      <th>32</th>\n",
       "      <td>YearsAtCompany</td>\n",
       "      <td>int64</td>\n",
       "      <td>0</td>\n",
       "      <td>37</td>\n",
       "      <td>1</td>\n",
       "      <td>5</td>\n",
       "      <td>7</td>\n",
       "      <td>4.13</td>\n",
       "    </tr>\n",
       "    <tr>\n",
       "      <th>33</th>\n",
       "      <td>YearsInCurrentRole</td>\n",
       "      <td>int64</td>\n",
       "      <td>0</td>\n",
       "      <td>19</td>\n",
       "      <td>0</td>\n",
       "      <td>4</td>\n",
       "      <td>7</td>\n",
       "      <td>3.31</td>\n",
       "    </tr>\n",
       "    <tr>\n",
       "      <th>34</th>\n",
       "      <td>YearsSinceLastPromotion</td>\n",
       "      <td>int64</td>\n",
       "      <td>0</td>\n",
       "      <td>16</td>\n",
       "      <td>0</td>\n",
       "      <td>0</td>\n",
       "      <td>7</td>\n",
       "      <td>2.69</td>\n",
       "    </tr>\n",
       "    <tr>\n",
       "      <th>35</th>\n",
       "      <td>YearsWithCurrManager</td>\n",
       "      <td>int64</td>\n",
       "      <td>0</td>\n",
       "      <td>18</td>\n",
       "      <td>0</td>\n",
       "      <td>3</td>\n",
       "      <td>5</td>\n",
       "      <td>3.29</td>\n",
       "    </tr>\n",
       "  </tbody>\n",
       "</table>\n",
       "</div>"
      ],
      "text/plain": [
       "                        Name  dtypes  Missing  Uniques    First Value  \\\n",
       "0                    user_id   int64        0     1176           1374   \n",
       "1                        Age   int64        0       43             58   \n",
       "2                  Attrition  object        0        2             No   \n",
       "3             BusinessTravel  object        0        3  Travel_Rarely   \n",
       "4                  DailyRate   int64        0      783            605   \n",
       "5                 Department  object        0        3          Sales   \n",
       "6           DistanceFromHome   int64        0       29             21   \n",
       "7                  Education   int64        0        5              3   \n",
       "8             EducationField  object        0        6  Life Sciences   \n",
       "9              EmployeeCount   int64        0        1              1   \n",
       "10            EmployeeNumber   int64        0     1176           1938   \n",
       "11   EnvironmentSatisfaction   int64        0        4              4   \n",
       "12                    Gender  object        0        2         Female   \n",
       "13                HourlyRate   int64        0       71             72   \n",
       "14            JobInvolvement   int64        0        4              3   \n",
       "15                  JobLevel   int64        0        5              4   \n",
       "16                   JobRole  object        0        9        Manager   \n",
       "17           JobSatisfaction   int64        0        4              4   \n",
       "18             MaritalStatus  object        0        3        Married   \n",
       "19             MonthlyIncome   int64        0     1091          17875   \n",
       "20               MonthlyRate   int64        0     1147          11761   \n",
       "21        NumCompaniesWorked   int64        0       10              4   \n",
       "22                    Over18  object        0        1              Y   \n",
       "23                  OverTime  object        0        2            Yes   \n",
       "24         PercentSalaryHike   int64        0       15             13   \n",
       "25         PerformanceRating   int64        0        2              3   \n",
       "26  RelationshipSatisfaction   int64        0        4              3   \n",
       "27             StandardHours   int64        0        1             80   \n",
       "28          StockOptionLevel   int64        0        4              1   \n",
       "29         TotalWorkingYears   int64        0       39             29   \n",
       "30     TrainingTimesLastYear   int64        0        7              2   \n",
       "31           WorkLifeBalance   int64        0        4              2   \n",
       "32            YearsAtCompany   int64        0       37              1   \n",
       "33        YearsInCurrentRole   int64        0       19              0   \n",
       "34   YearsSinceLastPromotion   int64        0       16              0   \n",
       "35      YearsWithCurrManager   int64        0       18              0   \n",
       "\n",
       "              Second Value      Third Value  Entropy  \n",
       "0                     1092              768    10.20  \n",
       "1                       45               40     5.13  \n",
       "2                       No               No     0.63  \n",
       "3            Travel_Rarely    Travel_Rarely     1.15  \n",
       "4                      950              300     9.46  \n",
       "5   Research & Development            Sales     1.12  \n",
       "6                       28               26     4.35  \n",
       "7                        3                3     2.00  \n",
       "8         Technical Degree        Marketing     2.04  \n",
       "9                        1                1     0.00  \n",
       "10                    1546             1066    10.20  \n",
       "11                       4                3     1.96  \n",
       "12                    Male             Male     0.97  \n",
       "13                      97               74     6.12  \n",
       "14                       3                3     1.52  \n",
       "15                       1                2     1.95  \n",
       "16      Research Scientist  Sales Executive     2.92  \n",
       "17                       4                1     1.96  \n",
       "18                 Married          Married     1.53  \n",
       "19                    2132             8396    10.05  \n",
       "20                    4585            22217    10.15  \n",
       "21                       4                1     2.87  \n",
       "22                       Y                Y     0.00  \n",
       "23                      No               No     0.85  \n",
       "24                      20               14     3.55  \n",
       "25                       4                3     0.61  \n",
       "26                       4                2     1.97  \n",
       "27                      80               80     0.00  \n",
       "28                       1                1     1.65  \n",
       "29                       8                8     4.63  \n",
       "30                       3                3     2.20  \n",
       "31                       3                2     1.50  \n",
       "32                       5                7     4.13  \n",
       "33                       4                7     3.31  \n",
       "34                       0                7     2.69  \n",
       "35                       3                5     3.29  "
      ]
     },
     "execution_count": 6,
     "metadata": {},
     "output_type": "execute_result"
    }
   ],
   "source": [
    "resumetable(train)"
   ]
  },
  {
   "cell_type": "code",
   "execution_count": 7,
   "metadata": {},
   "outputs": [
    {
     "name": "stdout",
     "output_type": "stream",
     "text": [
      "Dataset Shape: (294, 35)\n"
     ]
    },
    {
     "data": {
      "text/html": [
       "<div>\n",
       "<style scoped>\n",
       "    .dataframe tbody tr th:only-of-type {\n",
       "        vertical-align: middle;\n",
       "    }\n",
       "\n",
       "    .dataframe tbody tr th {\n",
       "        vertical-align: top;\n",
       "    }\n",
       "\n",
       "    .dataframe thead th {\n",
       "        text-align: right;\n",
       "    }\n",
       "</style>\n",
       "<table border=\"1\" class=\"dataframe\">\n",
       "  <thead>\n",
       "    <tr style=\"text-align: right;\">\n",
       "      <th></th>\n",
       "      <th>Name</th>\n",
       "      <th>dtypes</th>\n",
       "      <th>Missing</th>\n",
       "      <th>Uniques</th>\n",
       "      <th>First Value</th>\n",
       "      <th>Second Value</th>\n",
       "      <th>Third Value</th>\n",
       "      <th>Entropy</th>\n",
       "    </tr>\n",
       "  </thead>\n",
       "  <tbody>\n",
       "    <tr>\n",
       "      <th>0</th>\n",
       "      <td>user_id</td>\n",
       "      <td>int64</td>\n",
       "      <td>0</td>\n",
       "      <td>294</td>\n",
       "      <td>442</td>\n",
       "      <td>1091</td>\n",
       "      <td>981</td>\n",
       "      <td>8.20</td>\n",
       "    </tr>\n",
       "    <tr>\n",
       "      <th>1</th>\n",
       "      <td>Age</td>\n",
       "      <td>int64</td>\n",
       "      <td>0</td>\n",
       "      <td>43</td>\n",
       "      <td>36</td>\n",
       "      <td>33</td>\n",
       "      <td>35</td>\n",
       "      <td>5.10</td>\n",
       "    </tr>\n",
       "    <tr>\n",
       "      <th>2</th>\n",
       "      <td>BusinessTravel</td>\n",
       "      <td>object</td>\n",
       "      <td>0</td>\n",
       "      <td>3</td>\n",
       "      <td>Non-Travel</td>\n",
       "      <td>Travel_Rarely</td>\n",
       "      <td>Travel_Frequently</td>\n",
       "      <td>1.09</td>\n",
       "    </tr>\n",
       "    <tr>\n",
       "      <th>3</th>\n",
       "      <td>DailyRate</td>\n",
       "      <td>int64</td>\n",
       "      <td>0</td>\n",
       "      <td>267</td>\n",
       "      <td>635</td>\n",
       "      <td>575</td>\n",
       "      <td>662</td>\n",
       "      <td>8.01</td>\n",
       "    </tr>\n",
       "    <tr>\n",
       "      <th>4</th>\n",
       "      <td>Department</td>\n",
       "      <td>object</td>\n",
       "      <td>0</td>\n",
       "      <td>3</td>\n",
       "      <td>Sales</td>\n",
       "      <td>Research &amp; Development</td>\n",
       "      <td>Sales</td>\n",
       "      <td>1.10</td>\n",
       "    </tr>\n",
       "    <tr>\n",
       "      <th>5</th>\n",
       "      <td>DistanceFromHome</td>\n",
       "      <td>int64</td>\n",
       "      <td>0</td>\n",
       "      <td>29</td>\n",
       "      <td>10</td>\n",
       "      <td>25</td>\n",
       "      <td>18</td>\n",
       "      <td>4.32</td>\n",
       "    </tr>\n",
       "    <tr>\n",
       "      <th>6</th>\n",
       "      <td>Education</td>\n",
       "      <td>int64</td>\n",
       "      <td>0</td>\n",
       "      <td>5</td>\n",
       "      <td>4</td>\n",
       "      <td>3</td>\n",
       "      <td>4</td>\n",
       "      <td>2.07</td>\n",
       "    </tr>\n",
       "    <tr>\n",
       "      <th>7</th>\n",
       "      <td>EducationField</td>\n",
       "      <td>object</td>\n",
       "      <td>0</td>\n",
       "      <td>6</td>\n",
       "      <td>Medical</td>\n",
       "      <td>Life Sciences</td>\n",
       "      <td>Marketing</td>\n",
       "      <td>2.09</td>\n",
       "    </tr>\n",
       "    <tr>\n",
       "      <th>8</th>\n",
       "      <td>EmployeeCount</td>\n",
       "      <td>int64</td>\n",
       "      <td>0</td>\n",
       "      <td>1</td>\n",
       "      <td>1</td>\n",
       "      <td>1</td>\n",
       "      <td>1</td>\n",
       "      <td>0.00</td>\n",
       "    </tr>\n",
       "    <tr>\n",
       "      <th>9</th>\n",
       "      <td>EmployeeNumber</td>\n",
       "      <td>int64</td>\n",
       "      <td>0</td>\n",
       "      <td>294</td>\n",
       "      <td>592</td>\n",
       "      <td>1545</td>\n",
       "      <td>1380</td>\n",
       "      <td>8.20</td>\n",
       "    </tr>\n",
       "    <tr>\n",
       "      <th>10</th>\n",
       "      <td>EnvironmentSatisfaction</td>\n",
       "      <td>int64</td>\n",
       "      <td>0</td>\n",
       "      <td>4</td>\n",
       "      <td>2</td>\n",
       "      <td>4</td>\n",
       "      <td>4</td>\n",
       "      <td>1.98</td>\n",
       "    </tr>\n",
       "    <tr>\n",
       "      <th>11</th>\n",
       "      <td>Gender</td>\n",
       "      <td>object</td>\n",
       "      <td>0</td>\n",
       "      <td>2</td>\n",
       "      <td>Male</td>\n",
       "      <td>Male</td>\n",
       "      <td>Female</td>\n",
       "      <td>0.98</td>\n",
       "    </tr>\n",
       "    <tr>\n",
       "      <th>12</th>\n",
       "      <td>HourlyRate</td>\n",
       "      <td>int64</td>\n",
       "      <td>0</td>\n",
       "      <td>70</td>\n",
       "      <td>32</td>\n",
       "      <td>44</td>\n",
       "      <td>67</td>\n",
       "      <td>5.98</td>\n",
       "    </tr>\n",
       "    <tr>\n",
       "      <th>13</th>\n",
       "      <td>JobInvolvement</td>\n",
       "      <td>int64</td>\n",
       "      <td>0</td>\n",
       "      <td>4</td>\n",
       "      <td>3</td>\n",
       "      <td>2</td>\n",
       "      <td>3</td>\n",
       "      <td>1.47</td>\n",
       "    </tr>\n",
       "    <tr>\n",
       "      <th>14</th>\n",
       "      <td>JobLevel</td>\n",
       "      <td>int64</td>\n",
       "      <td>0</td>\n",
       "      <td>5</td>\n",
       "      <td>3</td>\n",
       "      <td>2</td>\n",
       "      <td>2</td>\n",
       "      <td>1.95</td>\n",
       "    </tr>\n",
       "    <tr>\n",
       "      <th>15</th>\n",
       "      <td>JobRole</td>\n",
       "      <td>object</td>\n",
       "      <td>0</td>\n",
       "      <td>9</td>\n",
       "      <td>Sales Executive</td>\n",
       "      <td>Manufacturing Director</td>\n",
       "      <td>Sales Executive</td>\n",
       "      <td>2.94</td>\n",
       "    </tr>\n",
       "    <tr>\n",
       "      <th>16</th>\n",
       "      <td>JobSatisfaction</td>\n",
       "      <td>int64</td>\n",
       "      <td>0</td>\n",
       "      <td>4</td>\n",
       "      <td>4</td>\n",
       "      <td>2</td>\n",
       "      <td>3</td>\n",
       "      <td>1.96</td>\n",
       "    </tr>\n",
       "    <tr>\n",
       "      <th>17</th>\n",
       "      <td>MaritalStatus</td>\n",
       "      <td>object</td>\n",
       "      <td>0</td>\n",
       "      <td>3</td>\n",
       "      <td>Single</td>\n",
       "      <td>Single</td>\n",
       "      <td>Married</td>\n",
       "      <td>1.48</td>\n",
       "    </tr>\n",
       "    <tr>\n",
       "      <th>18</th>\n",
       "      <td>MonthlyIncome</td>\n",
       "      <td>int64</td>\n",
       "      <td>0</td>\n",
       "      <td>286</td>\n",
       "      <td>9980</td>\n",
       "      <td>4320</td>\n",
       "      <td>4614</td>\n",
       "      <td>8.15</td>\n",
       "    </tr>\n",
       "    <tr>\n",
       "      <th>19</th>\n",
       "      <td>MonthlyRate</td>\n",
       "      <td>int64</td>\n",
       "      <td>0</td>\n",
       "      <td>292</td>\n",
       "      <td>15318</td>\n",
       "      <td>24152</td>\n",
       "      <td>23288</td>\n",
       "      <td>8.19</td>\n",
       "    </tr>\n",
       "    <tr>\n",
       "      <th>20</th>\n",
       "      <td>NumCompaniesWorked</td>\n",
       "      <td>int64</td>\n",
       "      <td>0</td>\n",
       "      <td>10</td>\n",
       "      <td>1</td>\n",
       "      <td>1</td>\n",
       "      <td>0</td>\n",
       "      <td>2.85</td>\n",
       "    </tr>\n",
       "    <tr>\n",
       "      <th>21</th>\n",
       "      <td>Over18</td>\n",
       "      <td>object</td>\n",
       "      <td>0</td>\n",
       "      <td>1</td>\n",
       "      <td>Y</td>\n",
       "      <td>Y</td>\n",
       "      <td>Y</td>\n",
       "      <td>0.00</td>\n",
       "    </tr>\n",
       "    <tr>\n",
       "      <th>22</th>\n",
       "      <td>OverTime</td>\n",
       "      <td>object</td>\n",
       "      <td>0</td>\n",
       "      <td>2</td>\n",
       "      <td>No</td>\n",
       "      <td>No</td>\n",
       "      <td>Yes</td>\n",
       "      <td>0.90</td>\n",
       "    </tr>\n",
       "    <tr>\n",
       "      <th>23</th>\n",
       "      <td>PercentSalaryHike</td>\n",
       "      <td>int64</td>\n",
       "      <td>0</td>\n",
       "      <td>15</td>\n",
       "      <td>14</td>\n",
       "      <td>13</td>\n",
       "      <td>18</td>\n",
       "      <td>3.58</td>\n",
       "    </tr>\n",
       "    <tr>\n",
       "      <th>24</th>\n",
       "      <td>PerformanceRating</td>\n",
       "      <td>int64</td>\n",
       "      <td>0</td>\n",
       "      <td>2</td>\n",
       "      <td>3</td>\n",
       "      <td>3</td>\n",
       "      <td>3</td>\n",
       "      <td>0.65</td>\n",
       "    </tr>\n",
       "    <tr>\n",
       "      <th>25</th>\n",
       "      <td>RelationshipSatisfaction</td>\n",
       "      <td>int64</td>\n",
       "      <td>0</td>\n",
       "      <td>4</td>\n",
       "      <td>4</td>\n",
       "      <td>4</td>\n",
       "      <td>3</td>\n",
       "      <td>1.96</td>\n",
       "    </tr>\n",
       "    <tr>\n",
       "      <th>26</th>\n",
       "      <td>StandardHours</td>\n",
       "      <td>int64</td>\n",
       "      <td>0</td>\n",
       "      <td>1</td>\n",
       "      <td>80</td>\n",
       "      <td>80</td>\n",
       "      <td>80</td>\n",
       "      <td>0.00</td>\n",
       "    </tr>\n",
       "    <tr>\n",
       "      <th>27</th>\n",
       "      <td>StockOptionLevel</td>\n",
       "      <td>int64</td>\n",
       "      <td>0</td>\n",
       "      <td>4</td>\n",
       "      <td>0</td>\n",
       "      <td>0</td>\n",
       "      <td>1</td>\n",
       "      <td>1.56</td>\n",
       "    </tr>\n",
       "    <tr>\n",
       "      <th>28</th>\n",
       "      <td>TotalWorkingYears</td>\n",
       "      <td>int64</td>\n",
       "      <td>0</td>\n",
       "      <td>36</td>\n",
       "      <td>10</td>\n",
       "      <td>5</td>\n",
       "      <td>5</td>\n",
       "      <td>4.56</td>\n",
       "    </tr>\n",
       "    <tr>\n",
       "      <th>29</th>\n",
       "      <td>TrainingTimesLastYear</td>\n",
       "      <td>int64</td>\n",
       "      <td>0</td>\n",
       "      <td>7</td>\n",
       "      <td>3</td>\n",
       "      <td>2</td>\n",
       "      <td>0</td>\n",
       "      <td>2.36</td>\n",
       "    </tr>\n",
       "    <tr>\n",
       "      <th>30</th>\n",
       "      <td>WorkLifeBalance</td>\n",
       "      <td>int64</td>\n",
       "      <td>0</td>\n",
       "      <td>4</td>\n",
       "      <td>2</td>\n",
       "      <td>3</td>\n",
       "      <td>2</td>\n",
       "      <td>1.45</td>\n",
       "    </tr>\n",
       "    <tr>\n",
       "      <th>31</th>\n",
       "      <td>YearsAtCompany</td>\n",
       "      <td>int64</td>\n",
       "      <td>0</td>\n",
       "      <td>30</td>\n",
       "      <td>10</td>\n",
       "      <td>5</td>\n",
       "      <td>4</td>\n",
       "      <td>4.07</td>\n",
       "    </tr>\n",
       "    <tr>\n",
       "      <th>32</th>\n",
       "      <td>YearsInCurrentRole</td>\n",
       "      <td>int64</td>\n",
       "      <td>0</td>\n",
       "      <td>18</td>\n",
       "      <td>3</td>\n",
       "      <td>3</td>\n",
       "      <td>2</td>\n",
       "      <td>3.28</td>\n",
       "    </tr>\n",
       "    <tr>\n",
       "      <th>33</th>\n",
       "      <td>YearsSinceLastPromotion</td>\n",
       "      <td>int64</td>\n",
       "      <td>0</td>\n",
       "      <td>16</td>\n",
       "      <td>9</td>\n",
       "      <td>0</td>\n",
       "      <td>3</td>\n",
       "      <td>2.76</td>\n",
       "    </tr>\n",
       "    <tr>\n",
       "      <th>34</th>\n",
       "      <td>YearsWithCurrManager</td>\n",
       "      <td>int64</td>\n",
       "      <td>0</td>\n",
       "      <td>17</td>\n",
       "      <td>7</td>\n",
       "      <td>2</td>\n",
       "      <td>2</td>\n",
       "      <td>3.24</td>\n",
       "    </tr>\n",
       "  </tbody>\n",
       "</table>\n",
       "</div>"
      ],
      "text/plain": [
       "                        Name  dtypes  Missing  Uniques      First Value  \\\n",
       "0                    user_id   int64        0      294              442   \n",
       "1                        Age   int64        0       43               36   \n",
       "2             BusinessTravel  object        0        3       Non-Travel   \n",
       "3                  DailyRate   int64        0      267              635   \n",
       "4                 Department  object        0        3            Sales   \n",
       "5           DistanceFromHome   int64        0       29               10   \n",
       "6                  Education   int64        0        5                4   \n",
       "7             EducationField  object        0        6          Medical   \n",
       "8              EmployeeCount   int64        0        1                1   \n",
       "9             EmployeeNumber   int64        0      294              592   \n",
       "10   EnvironmentSatisfaction   int64        0        4                2   \n",
       "11                    Gender  object        0        2             Male   \n",
       "12                HourlyRate   int64        0       70               32   \n",
       "13            JobInvolvement   int64        0        4                3   \n",
       "14                  JobLevel   int64        0        5                3   \n",
       "15                   JobRole  object        0        9  Sales Executive   \n",
       "16           JobSatisfaction   int64        0        4                4   \n",
       "17             MaritalStatus  object        0        3           Single   \n",
       "18             MonthlyIncome   int64        0      286             9980   \n",
       "19               MonthlyRate   int64        0      292            15318   \n",
       "20        NumCompaniesWorked   int64        0       10                1   \n",
       "21                    Over18  object        0        1                Y   \n",
       "22                  OverTime  object        0        2               No   \n",
       "23         PercentSalaryHike   int64        0       15               14   \n",
       "24         PerformanceRating   int64        0        2                3   \n",
       "25  RelationshipSatisfaction   int64        0        4                4   \n",
       "26             StandardHours   int64        0        1               80   \n",
       "27          StockOptionLevel   int64        0        4                0   \n",
       "28         TotalWorkingYears   int64        0       36               10   \n",
       "29     TrainingTimesLastYear   int64        0        7                3   \n",
       "30           WorkLifeBalance   int64        0        4                2   \n",
       "31            YearsAtCompany   int64        0       30               10   \n",
       "32        YearsInCurrentRole   int64        0       18                3   \n",
       "33   YearsSinceLastPromotion   int64        0       16                9   \n",
       "34      YearsWithCurrManager   int64        0       17                7   \n",
       "\n",
       "              Second Value        Third Value  Entropy  \n",
       "0                     1091                981     8.20  \n",
       "1                       33                 35     5.10  \n",
       "2            Travel_Rarely  Travel_Frequently     1.09  \n",
       "3                      575                662     8.01  \n",
       "4   Research & Development              Sales     1.10  \n",
       "5                       25                 18     4.32  \n",
       "6                        3                  4     2.07  \n",
       "7            Life Sciences          Marketing     2.09  \n",
       "8                        1                  1     0.00  \n",
       "9                     1545               1380     8.20  \n",
       "10                       4                  4     1.98  \n",
       "11                    Male             Female     0.98  \n",
       "12                      44                 67     5.98  \n",
       "13                       2                  3     1.47  \n",
       "14                       2                  2     1.95  \n",
       "15  Manufacturing Director    Sales Executive     2.94  \n",
       "16                       2                  3     1.96  \n",
       "17                  Single            Married     1.48  \n",
       "18                    4320               4614     8.15  \n",
       "19                   24152              23288     8.19  \n",
       "20                       1                  0     2.85  \n",
       "21                       Y                  Y     0.00  \n",
       "22                      No                Yes     0.90  \n",
       "23                      13                 18     3.58  \n",
       "24                       3                  3     0.65  \n",
       "25                       4                  3     1.96  \n",
       "26                      80                 80     0.00  \n",
       "27                       0                  1     1.56  \n",
       "28                       5                  5     4.56  \n",
       "29                       2                  0     2.36  \n",
       "30                       3                  2     1.45  \n",
       "31                       5                  4     4.07  \n",
       "32                       3                  2     3.28  \n",
       "33                       0                  3     2.76  \n",
       "34                       2                  2     3.24  "
      ]
     },
     "execution_count": 7,
     "metadata": {},
     "output_type": "execute_result"
    }
   ],
   "source": [
    "resumetable(test)"
   ]
  },
  {
   "cell_type": "code",
   "execution_count": 8,
   "metadata": {},
   "outputs": [
    {
     "data": {
      "text/plain": [
       "Attrition\n",
       "No     988\n",
       "Yes    188\n",
       "Name: user_id, dtype: int64"
      ]
     },
     "execution_count": 8,
     "metadata": {},
     "output_type": "execute_result"
    }
   ],
   "source": [
    "train.groupby('Attrition').count()['user_id']  # Uneven sample distribution"
   ]
  },
  {
   "cell_type": "code",
   "execution_count": 9,
   "metadata": {},
   "outputs": [],
   "source": [
    "object_features = [column for column in train if train[column].dtype == 'object']  # get the non-value features"
   ]
  },
  {
   "cell_type": "code",
   "execution_count": 10,
   "metadata": {},
   "outputs": [
    {
     "data": {
      "text/plain": [
       "['Attrition',\n",
       " 'BusinessTravel',\n",
       " 'Department',\n",
       " 'EducationField',\n",
       " 'Gender',\n",
       " 'JobRole',\n",
       " 'MaritalStatus',\n",
       " 'Over18',\n",
       " 'OverTime']"
      ]
     },
     "execution_count": 10,
     "metadata": {},
     "output_type": "execute_result"
    }
   ],
   "source": [
    "object_features"
   ]
  },
  {
   "cell_type": "code",
   "execution_count": 11,
   "metadata": {},
   "outputs": [
    {
     "data": {
      "text/html": [
       "<div>\n",
       "<style scoped>\n",
       "    .dataframe tbody tr th:only-of-type {\n",
       "        vertical-align: middle;\n",
       "    }\n",
       "\n",
       "    .dataframe tbody tr th {\n",
       "        vertical-align: top;\n",
       "    }\n",
       "\n",
       "    .dataframe thead th {\n",
       "        text-align: right;\n",
       "    }\n",
       "</style>\n",
       "<table border=\"1\" class=\"dataframe\">\n",
       "  <thead>\n",
       "    <tr style=\"text-align: right;\">\n",
       "      <th></th>\n",
       "      <th>user_id</th>\n",
       "      <th>Age</th>\n",
       "      <th>Attrition</th>\n",
       "      <th>BusinessTravel</th>\n",
       "      <th>DailyRate</th>\n",
       "      <th>Department</th>\n",
       "      <th>DistanceFromHome</th>\n",
       "      <th>Education</th>\n",
       "      <th>EducationField</th>\n",
       "      <th>EmployeeCount</th>\n",
       "      <th>...</th>\n",
       "      <th>RelationshipSatisfaction</th>\n",
       "      <th>StandardHours</th>\n",
       "      <th>StockOptionLevel</th>\n",
       "      <th>TotalWorkingYears</th>\n",
       "      <th>TrainingTimesLastYear</th>\n",
       "      <th>WorkLifeBalance</th>\n",
       "      <th>YearsAtCompany</th>\n",
       "      <th>YearsInCurrentRole</th>\n",
       "      <th>YearsSinceLastPromotion</th>\n",
       "      <th>YearsWithCurrManager</th>\n",
       "    </tr>\n",
       "  </thead>\n",
       "  <tbody>\n",
       "  </tbody>\n",
       "</table>\n",
       "<p>0 rows × 36 columns</p>\n",
       "</div>"
      ],
      "text/plain": [
       "Empty DataFrame\n",
       "Columns: [user_id, Age, Attrition, BusinessTravel, DailyRate, Department, DistanceFromHome, Education, EducationField, EmployeeCount, EmployeeNumber, EnvironmentSatisfaction, Gender, HourlyRate, JobInvolvement, JobLevel, JobRole, JobSatisfaction, MaritalStatus, MonthlyIncome, MonthlyRate, NumCompaniesWorked, Over18, OverTime, PercentSalaryHike, PerformanceRating, RelationshipSatisfaction, StandardHours, StockOptionLevel, TotalWorkingYears, TrainingTimesLastYear, WorkLifeBalance, YearsAtCompany, YearsInCurrentRole, YearsSinceLastPromotion, YearsWithCurrManager]\n",
       "Index: []\n",
       "\n",
       "[0 rows x 36 columns]"
      ]
     },
     "execution_count": 11,
     "metadata": {},
     "output_type": "execute_result"
    }
   ],
   "source": [
    "train[train['Over18'] == 'N']"
   ]
  },
  {
   "cell_type": "code",
   "execution_count": 12,
   "metadata": {},
   "outputs": [
    {
     "data": {
      "text/plain": [
       "Attrition\n",
       "No     988\n",
       "Yes    188\n",
       "Name: Over18, dtype: int64"
      ]
     },
     "execution_count": 12,
     "metadata": {},
     "output_type": "execute_result"
    }
   ],
   "source": [
    "train.groupby(['Attrition'])['Over18'].count()"
   ]
  },
  {
   "cell_type": "markdown",
   "metadata": {},
   "source": [
    "### Visualization Features"
   ]
  },
  {
   "cell_type": "code",
   "execution_count": 13,
   "metadata": {},
   "outputs": [
    {
     "name": "stderr",
     "output_type": "stream",
     "text": [
      "/opt/conda/lib/python3.6/site-packages/matplotlib/font_manager.py:1241: UserWarning: findfont: Font family ['sans-serif'] not found. Falling back to DejaVu Sans.\n",
      "  (prop.get_family(), self.defaultFamily[fontext]))\n"
     ]
    },
    {
     "data": {
      "image/png": "[encoded data removed]",
      "text/plain": [
       "<Figure size 1440x576 with 8 Axes>"
      ]
     },
     "metadata": {
      "needs_background": "light"
     },
     "output_type": "display_data"
    }
   ],
   "source": [
    "f, ax = plt.subplots(2, 4, figsize=(20, 8))\n",
    "plt.xticks(rotation=60) \n",
    "tick_spacing = 3    # 设置密度，比如横坐标9个，设置这个为3,到时候横坐标上就显示 9/3=3个横坐标，\n",
    "sns.countplot(x='BusinessTravel', hue='Attrition', data=train, ax=ax[0,0])\n",
    "sns.countplot(x='Department', hue='Attrition', data=train, ax=ax[0,1])\n",
    "sns.countplot(x='EducationField', hue='Attrition', data=train, ax=ax[0,2])\n",
    "sns.countplot(x='Gender', hue='Attrition', data=train, ax=ax[0,3])\n",
    "sns.countplot(x='JobRole', hue='Attrition', data=train, ax=ax[1,0])\n",
    "sns.countplot(x='MaritalStatus', hue='Attrition', data=train, ax=ax[1,1])\n",
    "sns.countplot(x='Over18', hue='Attrition', data=train, ax=ax[1,2])\n",
    "sns.countplot(x='OverTime', hue='Attrition', data=train, ax=ax[1,3])\n",
    "\n",
    "plt.subplots_adjust(wspace =0.2, hspace =0.5)#调整子图间距\n",
    "ax[0,0].set_title('BusinessTravel Feature Analytics')\n",
    "ax[0,1].set_title('Department Feature Analytics')\n",
    "ax[0,2].set_title('EducationField Feature Analytics')\n",
    "ax[0,3].set_title('Gender Feature Analytics')\n",
    "ax[1,0].set_title('JobRole Feature Analytics')\n",
    "ax[1,1].set_title('MaritalStatus Feature Analytics')\n",
    "ax[1,2].set_title('Over18 Feature Analytics')\n",
    "ax[1,3].set_title('OverTime Feature Analytics')\n",
    "f.suptitle('Object Feature Visualize', size=20, y=1.1)\n",
    "f.tight_layout()#调整整体空白\n",
    "# todo 标签旋转"
   ]
  },
  {
   "cell_type": "markdown",
   "metadata": {},
   "source": [
    "### Feature Dealing\n",
    "- String label to Value label only"
   ]
  },
  {
   "cell_type": "code",
   "execution_count": 14,
   "metadata": {
    "_cell_guid": "",
    "_uuid": ""
   },
   "outputs": [],
   "source": [
    "def extract_features(df, is_train=False):\n",
    "    # target\n",
    "    if is_train:\n",
    "        attrition_dict = {'No':0,'Yes':1}\n",
    "        df['Attrition'] = df['Attrition'].map(lambda x: attrition_dict[x])\n",
    "    # BusinessTravel\n",
    "    businesstravel_dict = {'Non-Travel':0, 'Travel_Rarely':1, 'Travel_Frequently':2}\n",
    "    df['BusinessTravel'] = df['BusinessTravel'].map(lambda x: businesstravel_dict[x])\n",
    "    # Department\n",
    "    department_dict = {'Sales':0, 'Research & Development':1, 'Human Resources':2}\n",
    "    df['Department'] = df['Department'].map(lambda x: department_dict[x])\n",
    "    # EducationField\n",
    "    educationfield_dict = {'Life Sciences':0, 'Medical':1, 'Marketing':2, 'Technical Degree':3, 'Human Resources':4, 'Other':5}\n",
    "    df['EducationField'] = df['EducationField'].map(lambda x: educationfield_dict[x])\n",
    "    # Gender\n",
    "    gender_dict = {'Male':0, 'Female': 1}\n",
    "    df['Gender'] = df['Gender'].map(lambda x: gender_dict[x])\n",
    "    # JobRole\n",
    "    jobrole_dict = {'Sales Executive':0, \n",
    "                    'Research Scientist':1, \n",
    "                    'Laboratory Technician':2, \n",
    "                    'Manufacturing Director':3, \n",
    "                    'Healthcare Representative':4,\n",
    "                    'Manager':5, \n",
    "                    'Sales Representative':6,\n",
    "                    'Research Director':7,\n",
    "                    'Human Resources':8\n",
    "                   }\n",
    "    df['JobRole'] = df['JobRole'].map(lambda x: jobrole_dict[x])\n",
    "    # MaritalStatus\n",
    "    maritalstatus_dict = {'Single':0, 'Married':1, 'Divorced':2}\n",
    "    df['MaritalStatus'] = df['MaritalStatus'].map(lambda x: maritalstatus_dict[x])\n",
    "    # Over18\n",
    "    df = df.drop(['Over18'], axis=1)\n",
    "    # OverTime\n",
    "    overtime_dict = {'Yes':0, 'No':1}\n",
    "    df['OverTime'] = df['OverTime'].map(lambda x: overtime_dict[x])\n",
    "    return df"
   ]
  },
  {
   "cell_type": "code",
   "execution_count": 15,
   "metadata": {},
   "outputs": [],
   "source": [
    "train_ex = extract_features(train, True)\n",
    "test_ex = extract_features(test, False)"
   ]
  },
  {
   "cell_type": "markdown",
   "metadata": {},
   "source": [
    "## Single Model\n",
    "- use the xgboost model as the baseline model\n",
    "- try to use svm linear kernel"
   ]
  },
  {
   "cell_type": "markdown",
   "metadata": {},
   "source": [
    "### xgboost"
   ]
  },
  {
   "cell_type": "markdown",
   "metadata": {},
   "source": [
    "#### Define model input and target"
   ]
  },
  {
   "cell_type": "code",
   "execution_count": 16,
   "metadata": {},
   "outputs": [],
   "source": [
    "target = 'Attrition'  # model target (y)\n",
    "features = [x for x in train_ex.columns if x not in ['Attrition', 'uesr_id', 'user_id']]  # delete invaild features / model input"
   ]
  },
  {
   "cell_type": "code",
   "execution_count": 17,
   "metadata": {},
   "outputs": [],
   "source": [
    "train_x = train_ex[features]\n",
    "train_y = train_ex[target]"
   ]
  },
  {
   "cell_type": "markdown",
   "metadata": {},
   "source": [
    "#### Split train and test set\n",
    "- The ratio of train set to test set maybe change the final score"
   ]
  },
  {
   "cell_type": "code",
   "execution_count": 18,
   "metadata": {},
   "outputs": [],
   "source": [
    "X_train, X_test, y_train, y_test = train_test_split(train_x, train_y, test_size=0.40, random_state=1729)  # split train and test"
   ]
  },
  {
   "cell_type": "markdown",
   "metadata": {},
   "source": [
    "#### Importance Feature Selector\n",
    "- Don't need to select some importance features from raw featrues, because before selecting the score is $0.85$, and after selecting the score is $0.77$."
   ]
  },
  {
   "cell_type": "code",
   "execution_count": 19,
   "metadata": {},
   "outputs": [],
   "source": [
    "# clf = ExtraTreesClassifier(random_state=2020)\n",
    "# selector = clf.fit(X_train, y_train)"
   ]
  },
  {
   "cell_type": "code",
   "execution_count": 20,
   "metadata": {},
   "outputs": [],
   "source": [
    "# fs = SelectFromModel(selector, prefit=True)  # select feature from model\n",
    "\n",
    "# X_train = fs.transform(X_train)\n",
    "# X_test = fs.transform(X_test)\n",
    "# test = fs.transform(test_ex[features])"
   ]
  },
  {
   "cell_type": "markdown",
   "metadata": {},
   "source": [
    "#### Standardization Data\n",
    "- When using the Tree structrue to class the data, Standardization and Normalization operation is unnecessary. you can see https://zhuanlan.zhihu.com/p/64362722"
   ]
  },
  {
   "cell_type": "code",
   "execution_count": 21,
   "metadata": {},
   "outputs": [],
   "source": [
    "# ## standard data\n",
    "# X_train = StandardScaler().fit_transform(X_train)\n",
    "# X_test = StandardScaler().fit_transform(X_test)\n",
    "# test = StandardScaler().fit_transform(test)"
   ]
  },
  {
   "cell_type": "markdown",
   "metadata": {},
   "source": [
    "#### Define and Train Model"
   ]
  },
  {
   "cell_type": "code",
   "execution_count": 22,
   "metadata": {},
   "outputs": [
    {
     "name": "stdout",
     "output_type": "stream",
     "text": [
      "Roc AUC:  0.7876472364844458\n"
     ]
    }
   ],
   "source": [
    "m2_xgb = xgb.XGBClassifier(n_estimators=1200, max_depth=9, seed=2020)\n",
    "m2_xgb.fit(X_train, y_train, eval_metric=\"auc\", verbose=False, eval_set=[(X_test, y_test)])\n",
    "#  https://scikit-learn.org/stable/modules/generated/sklearn.metrics.roc_auc_score.html#sklearn.metrics.roc_auc_score\n",
    "y_pre = m2_xgb.predict(X_test)\n",
    "# calculate the auc score\n",
    "print(\"Roc AUC: \", roc_auc_score(y_test, m2_xgb.predict_proba(X_test)[:,1], average='macro'))\n",
    "# Roc AUC:  0.7726366656599214 - test_size=0.40  not-select importance feature\n",
    "# Roc AUC:  0.770009060706735  - test_size=0.40  select importance feature\n",
    "# Roc AUC:  0.7684385382059802 - test_size=0.40 not-select importance feature but standard data, so not need standard"
   ]
  },
  {
   "cell_type": "markdown",
   "metadata": {},
   "source": [
    "#### Result Analysis"
   ]
  },
  {
   "cell_type": "code",
   "execution_count": 23,
   "metadata": {},
   "outputs": [
    {
     "name": "stdout",
     "output_type": "stream",
     "text": [
      "Confusion matrix, without normalization\n",
      "[[374  11]\n",
      " [ 64  22]]\n"
     ]
    },
    {
     "data": {
      "image/png": "[encoded data removed]",
      "text/plain": [
       "<Figure size 432x288 with 2 Axes>"
      ]
     },
     "metadata": {
      "needs_background": "light"
     },
     "output_type": "display_data"
    }
   ],
   "source": [
    "plot_confusion_matrix(confusion_matrix(y_test, y_pre), classes=['No', 'Yes'])"
   ]
  },
  {
   "cell_type": "markdown",
   "metadata": {},
   "source": [
    "#### Some Conclusion\n",
    "- The probability of predicting Yes to No is too high\n",
    "- Further mining features - Feature engineering"
   ]
  },
  {
   "cell_type": "code",
   "execution_count": 24,
   "metadata": {},
   "outputs": [
    {
     "data": {
      "image/png": "[encoded data removed]",
      "text/plain": [
       "<Figure size 432x288 with 1 Axes>"
      ]
     },
     "metadata": {
      "needs_background": "light"
     },
     "output_type": "display_data"
    }
   ],
   "source": [
    "plot_roc_curve(y_test, m2_xgb.predict_proba(X_test)[:,1])"
   ]
  },
  {
   "cell_type": "markdown",
   "metadata": {},
   "source": [
    "#### Predict the Testset"
   ]
  },
  {
   "cell_type": "code",
   "execution_count": 25,
   "metadata": {},
   "outputs": [],
   "source": [
    "probs = m2_xgb.predict_proba(test_ex[features])   # feature don't need standard or normalization"
   ]
  },
  {
   "cell_type": "code",
   "execution_count": 26,
   "metadata": {},
   "outputs": [],
   "source": [
    "test_id = test_ex.user_id"
   ]
  },
  {
   "cell_type": "code",
   "execution_count": 27,
   "metadata": {},
   "outputs": [],
   "source": [
    "submission = pd.DataFrame({\"user_id\":test_id, \"Attrition\": probs[:,1]})"
   ]
  },
  {
   "cell_type": "code",
   "execution_count": 28,
   "metadata": {},
   "outputs": [
    {
     "data": {
      "text/html": [
       "<div>\n",
       "<style scoped>\n",
       "    .dataframe tbody tr th:only-of-type {\n",
       "        vertical-align: middle;\n",
       "    }\n",
       "\n",
       "    .dataframe tbody tr th {\n",
       "        vertical-align: top;\n",
       "    }\n",
       "\n",
       "    .dataframe thead th {\n",
       "        text-align: right;\n",
       "    }\n",
       "</style>\n",
       "<table border=\"1\" class=\"dataframe\">\n",
       "  <thead>\n",
       "    <tr style=\"text-align: right;\">\n",
       "      <th></th>\n",
       "      <th>user_id</th>\n",
       "      <th>Attrition</th>\n",
       "    </tr>\n",
       "  </thead>\n",
       "  <tbody>\n",
       "    <tr>\n",
       "      <th>0</th>\n",
       "      <td>442</td>\n",
       "      <td>0.053475</td>\n",
       "    </tr>\n",
       "    <tr>\n",
       "      <th>1</th>\n",
       "      <td>1091</td>\n",
       "      <td>0.000256</td>\n",
       "    </tr>\n",
       "    <tr>\n",
       "      <th>2</th>\n",
       "      <td>981</td>\n",
       "      <td>0.004027</td>\n",
       "    </tr>\n",
       "    <tr>\n",
       "      <th>3</th>\n",
       "      <td>785</td>\n",
       "      <td>0.035001</td>\n",
       "    </tr>\n",
       "    <tr>\n",
       "      <th>4</th>\n",
       "      <td>1332</td>\n",
       "      <td>0.997389</td>\n",
       "    </tr>\n",
       "  </tbody>\n",
       "</table>\n",
       "</div>"
      ],
      "text/plain": [
       "   user_id  Attrition\n",
       "0      442   0.053475\n",
       "1     1091   0.000256\n",
       "2      981   0.004027\n",
       "3      785   0.035001\n",
       "4     1332   0.997389"
      ]
     },
     "execution_count": 28,
     "metadata": {},
     "output_type": "execute_result"
    }
   ],
   "source": [
    "submission.head()"
   ]
  },
  {
   "cell_type": "markdown",
   "metadata": {},
   "source": [
    "#### Result save to file"
   ]
  },
  {
   "cell_type": "code",
   "execution_count": 29,
   "metadata": {},
   "outputs": [],
   "source": [
    "submission.to_csv(f'result-{int(time.time())}.csv', index=False)"
   ]
  },
  {
   "cell_type": "code",
   "execution_count": 30,
   "metadata": {},
   "outputs": [],
   "source": [
    "gc.enable()  # start gc"
   ]
  },
  {
   "cell_type": "code",
   "execution_count": 31,
   "metadata": {},
   "outputs": [],
   "source": [
    "# # these code don't need run\n",
    "# scaler = MinMaxScaler()\n",
    "# x_train = scaler.fit_transform(x_train)\n",
    "# x_test = scaler.fit_transform(x_test)"
   ]
  },
  {
   "cell_type": "markdown",
   "metadata": {},
   "source": [
    "### SVM"
   ]
  },
  {
   "cell_type": "code",
   "execution_count": 32,
   "metadata": {},
   "outputs": [],
   "source": [
    "# https://scikit-learn.org/stable/auto_examples/model_selection/plot_roc.html\n",
    "from sklearn.preprocessing import label_binarize\n",
    "from sklearn.multiclass import OneVsRestClassifier\n",
    "from sklearn import svm"
   ]
  },
  {
   "cell_type": "code",
   "execution_count": 33,
   "metadata": {},
   "outputs": [],
   "source": [
    "random_state = np.random.RandomState(2020)\n",
    "classifier = OneVsRestClassifier(svm.SVC(kernel='linear', probability=True, random_state=random_state))"
   ]
  },
  {
   "cell_type": "code",
   "execution_count": 34,
   "metadata": {},
   "outputs": [],
   "source": [
    "# X_train, X_test, y_train, y_test\n",
    "y_score = classifier.fit(X_train, y_train).decision_function(X_test)"
   ]
  },
  {
   "cell_type": "code",
   "execution_count": 35,
   "metadata": {},
   "outputs": [
    {
     "ename": "SyntaxError",
     "evalue": "invalid syntax (<ipython-input-35-59261485166e>, line 1)",
     "output_type": "error",
     "traceback": [
      "\u001b[0;36m  File \u001b[0;32m\"<ipython-input-35-59261485166e>\"\u001b[0;36m, line \u001b[0;32m1\u001b[0m\n\u001b[0;31m    plt_roc_curve(y_test, y_score)_roc_curve(y_test, y_score)\u001b[0m\n\u001b[0m                                           ^\u001b[0m\n\u001b[0;31mSyntaxError\u001b[0m\u001b[0;31m:\u001b[0m invalid syntax\n"
     ]
    }
   ],
   "source": [
    "plt_roc_curve(y_test, y_score)_roc_curve(y_test, y_score)"
   ]
  },
  {
   "cell_type": "markdown",
   "metadata": {},
   "source": [
    "## Multi-Model"
   ]
  },
  {
   "cell_type": "code",
   "execution_count": 36,
   "metadata": {},
   "outputs": [],
   "source": [
    "NFOLDS = 5   # the variable for cross-validation folds\n",
    "SEED = 2020"
   ]
  },
  {
   "cell_type": "code",
   "execution_count": 37,
   "metadata": {},
   "outputs": [],
   "source": [
    "kf = KFold(n_splits =NFOLDS, shuffle=True, random_state=SEED)\n",
    "kf = StratifiedKFold(n_splits=NFOLDS, random_state=SEED)\n",
    "## the difference between *KFold* and *StratifiedKFold*, you can see https://scikit-learn.org/stable/modules/generated/sklearn.model_selection.StratifiedKFold.html "
   ]
  },
  {
   "cell_type": "code",
   "execution_count": 38,
   "metadata": {},
   "outputs": [],
   "source": [
    "class SklearnWrapper(object):\n",
    "    def __init__(self, clf, seed=0, params=None):\n",
    "        params['random_state'] = seed\n",
    "        self.clf = clf(**params)\n",
    "\n",
    "    def train(self, x_train, y_train):\n",
    "        self.clf.fit(x_train, y_train)\n",
    "\n",
    "    def predict(self, x):\n",
    "        return self.clf.predict_proba(x)[:,1]\n",
    "\n",
    "class CatboostWrapper(object):\n",
    "    def __init__(self, clf, seed=0, params=None):\n",
    "        params['random_seed'] = seed\n",
    "        self.clf = clf(**params)\n",
    "\n",
    "    def train(self, x_train, y_train):\n",
    "        self.clf.fit(x_train, y_train)\n",
    "\n",
    "    def predict(self, x):\n",
    "        return self.clf.predict_proba(x)[:,1]\n",
    "        \n",
    "class LightGBMWrapper(object):\n",
    "    def __init__(self, clf, seed=0, params=None):\n",
    "        params['feature_fraction_seed'] = seed\n",
    "        params['bagging_seed'] = seed\n",
    "        self.clf = clf(**params)\n",
    "\n",
    "    def train(self, x_train, y_train):\n",
    "        self.clf.fit(x_train, y_train)\n",
    "\n",
    "    def predict(self, x):\n",
    "        return self.clf.predict_proba(x)[:,1]\n",
    "\n",
    "\n",
    "class XgbWrapper(object):\n",
    "    def __init__(self, seed=0, params=None):\n",
    "        self.param = params\n",
    "        self.param['seed'] = seed\n",
    "        self.nrounds = params.pop('nrounds', 250)\n",
    "\n",
    "    def train(self, x_train, y_train):\n",
    "#         print(x_train, y_train.value_counts())\n",
    "        dtrain = xgb.DMatrix(x_train, label=y_train)\n",
    "        self.gbdt = xgb.train(self.param, dtrain, self.nrounds)\n",
    "\n",
    "    def predict(self, x):\n",
    "        return self.gbdt.predict(xgb.DMatrix(x)) # return proba https://stackoverflow.com/questions/58698313/reading-back-a-saved-lgbmclassifier-model"
   ]
  },
  {
   "cell_type": "markdown",
   "metadata": {},
   "source": [
    "### Each Step of Cross Validation"
   ]
  },
  {
   "cell_type": "code",
   "execution_count": 39,
   "metadata": {},
   "outputs": [],
   "source": [
    "def get_oof(clf, ntrain, ntest, x_train, y_train):  # out of fold, which means each step use the k-fold way to cross validate the dataset. \n",
    "    oof_train = np.zeros((ntrain,))\n",
    "    oof_test = np.zeros((ntest,))\n",
    "    oof_test_skf = np.empty((NFOLDS, ntest))\n",
    "\n",
    "#     for i, (train_index, test_index) in enumerate(kf.split(x_train)):\n",
    "    for i, (train_index, test_index) in enumerate(kf.split(x_train, y_train)):\n",
    "        if isinstance(x_train, np.ndarray):\n",
    "            x_tr = x_train[train_index]\n",
    "            y_tr = y_train[train_index]\n",
    "            x_te = x_train[test_index]\n",
    "        else:\n",
    "            x_tr = x_train.iloc[train_index]\n",
    "            y_tr = y_train.iloc[train_index]\n",
    "            x_te = x_train.iloc[test_index]\n",
    "\n",
    "        clf.train(x_tr, y_tr)\n",
    "\n",
    "        oof_train[test_index] = clf.predict(x_te)\n",
    "        oof_test_skf[i, :] = clf.predict(x_test)\n",
    "\n",
    "    oof_test[:] = oof_test_skf.mean(axis=0)\n",
    "    return oof_train.reshape(-1, 1), oof_test.reshape(-1, 1)"
   ]
  },
  {
   "cell_type": "markdown",
   "metadata": {},
   "source": [
    "### Algorithm Parameters"
   ]
  },
  {
   "cell_type": "code",
   "execution_count": 40,
   "metadata": {},
   "outputs": [],
   "source": [
    "et_params = {\n",
    "    'n_jobs': 16,\n",
    "    'n_estimators': 600,\n",
    "    'max_features': 0.5,\n",
    "    'max_depth': 12,\n",
    "    'min_samples_leaf': 2,\n",
    "#     'silent': 1,\n",
    "}\n",
    "\n",
    "rf_params = {\n",
    "    'n_jobs': 16,\n",
    "    'n_estimators': 600,\n",
    "    'max_features': 0.2,\n",
    "    'max_depth': 12,\n",
    "    'min_samples_leaf': 2,\n",
    "#     'silent': 1,\n",
    "}\n",
    "\n",
    "xgb_params = {\n",
    "    'booster':'gbtree',\n",
    "    'seed': 2020,\n",
    "    'colsample_bytree': 0.7,\n",
    "    'silent': 1,\n",
    "    'subsample': 0.75,\n",
    "    'learning_rate': 0.075,\n",
    "    'objective': 'binary:logistic',\n",
    "    'max_depth': 7,\n",
    "    'num_parallel_tree': 1,\n",
    "    'min_child_weight': 1,\n",
    "    'nrounds': 200\n",
    "}\n",
    "\n",
    "catboost_params = {\n",
    "    'iterations': 600,\n",
    "    'learning_rate': 0.5,\n",
    "    'depth': 10,\n",
    "    'l2_leaf_reg': 40,\n",
    "    'bootstrap_type': 'Bernoulli',\n",
    "    'subsample': 0.7,\n",
    "    'scale_pos_weight': 5,\n",
    "    'eval_metric': 'AUC',\n",
    "    'od_type': 'Iter',\n",
    "    'allow_writing_files': False,\n",
    "    'silent': True,\n",
    "}\n",
    "\n",
    "lightgbm_params = {\n",
    "    'n_estimators':600,\n",
    "    'learning_rate':0.1,\n",
    "    'num_leaves':123,\n",
    "    'colsample_bytree':0.8,\n",
    "    'subsample':0.9,\n",
    "    'max_depth':15,\n",
    "    'reg_alpha':0.2,\n",
    "    'reg_lambda':0.4,\n",
    "    'min_split_gain':0.01,\n",
    "    'min_child_weight':2,\n",
    "    'silent': 1,\n",
    "}"
   ]
  },
  {
   "cell_type": "markdown",
   "metadata": {},
   "source": [
    "### Define Multi-Model"
   ]
  },
  {
   "cell_type": "code",
   "execution_count": 41,
   "metadata": {},
   "outputs": [],
   "source": [
    "xg = XgbWrapper(seed=SEED, params=xgb_params)\n",
    "et = SklearnWrapper(clf=ExtraTreesClassifier, seed=SEED, params=et_params)\n",
    "rf = SklearnWrapper(clf=RandomForestClassifier, seed=SEED, params=rf_params)\n",
    "cb = CatboostWrapper(clf=CatBoostClassifier, seed = SEED, params=catboost_params)\n",
    "lg = LightGBMWrapper(clf=LGBMClassifier, seed = SEED, params = lightgbm_params)"
   ]
  },
  {
   "cell_type": "markdown",
   "metadata": {},
   "source": [
    "### Result"
   ]
  },
  {
   "cell_type": "code",
   "execution_count": 42,
   "metadata": {},
   "outputs": [],
   "source": [
    "x_train_multi = train_ex[features]\n",
    "y_train_multi = train_ex[target]\n",
    "x_test = test_ex[features]\n",
    "ntrain_multi = x_train_multi.shape[0]\n",
    "ntest = x_test.shape[0]"
   ]
  },
  {
   "cell_type": "code",
   "execution_count": 43,
   "metadata": {},
   "outputs": [
    {
     "name": "stderr",
     "output_type": "stream",
     "text": [
      "/opt/conda/lib/python3.6/site-packages/xgboost/core.py:587: FutureWarning: Series.base is deprecated and will be removed in a future version\n",
      "  if getattr(data, 'base', None) is not None and \\\n"
     ]
    }
   ],
   "source": [
    "# clf, ntrain, ntest, x_train, y_train\n",
    "xg_oof_train, xg_oof_test = get_oof(xg, ntrain_multi, ntest, x_train_multi, y_train_multi)\n",
    "et_oof_train, et_oof_test = get_oof(et, ntrain_multi, ntest, x_train_multi, y_train_multi)\n",
    "rf_oof_train, rf_oof_test = get_oof(rf, ntrain_multi, ntest, x_train_multi, y_train_multi)\n",
    "cb_oof_train, cb_oof_test = get_oof(cb, ntrain_multi, ntest, x_train_multi, y_train_multi)"
   ]
  },
  {
   "cell_type": "code",
   "execution_count": 44,
   "metadata": {},
   "outputs": [
    {
     "name": "stdout",
     "output_type": "stream",
     "text": [
      "XG-CV: 0.8074984925488845\n",
      "ET-CV: 0.803476828322853\n",
      "RF-CV: 0.8011510466017745\n",
      "CB-CV: 0.8032668619174778\n"
     ]
    }
   ],
   "source": [
    "print(\"XG-CV: {}\".format(roc_auc_score(y_train_multi, xg_oof_train)))\n",
    "print(\"ET-CV: {}\".format(roc_auc_score(y_train_multi, et_oof_train)))\n",
    "print(\"RF-CV: {}\".format(roc_auc_score(y_train_multi, rf_oof_train)))\n",
    "print(\"CB-CV: {}\".format(roc_auc_score(y_train_multi, cb_oof_train)))\n",
    "# Fisrt Time\n",
    "# XG-CV: 0.8016840382461883\n",
    "# ET-CV: 0.810093461969162\n",
    "# RF-CV: 0.8077299939701955\n",
    "# CB-CV: 0.7908357739684727"
   ]
  },
  {
   "cell_type": "markdown",
   "metadata": {},
   "source": [
    "### Cross Validation(CV) Conclusion\n",
    "- Catboost algorithm is some week. so not emumate the model for predict"
   ]
  },
  {
   "cell_type": "markdown",
   "metadata": {},
   "source": [
    "### Concat the result"
   ]
  },
  {
   "cell_type": "code",
   "execution_count": 45,
   "metadata": {},
   "outputs": [
    {
     "name": "stdout",
     "output_type": "stream",
     "text": [
      "(1176, 3),(294, 3)\n"
     ]
    }
   ],
   "source": [
    "x_train_fin = np.concatenate((xg_oof_train, et_oof_train, rf_oof_train), axis=1)\n",
    "x_test_fin = np.concatenate((xg_oof_test, et_oof_test, rf_oof_test), axis=1)\n",
    "\n",
    "print(\"{},{}\".format(x_train_fin.shape, x_test_fin.shape))"
   ]
  },
  {
   "cell_type": "markdown",
   "metadata": {},
   "source": [
    "### LogisticRegression Model predict the results"
   ]
  },
  {
   "cell_type": "code",
   "execution_count": 46,
   "metadata": {},
   "outputs": [
    {
     "name": "stderr",
     "output_type": "stream",
     "text": [
      "/opt/conda/lib/python3.6/site-packages/sklearn/linear_model/logistic.py:432: FutureWarning: Default solver will be changed to 'lbfgs' in 0.22. Specify a solver to silence this warning.\n",
      "  FutureWarning)\n"
     ]
    }
   ],
   "source": [
    "logistic_regression = LogisticRegression()\n",
    "logistic_regression.fit(x_train_fin, y_train_multi)\n",
    "result = pd.DataFrame()\n",
    "result['user_id'] = test_ex['user_id']\n",
    "result['Attrition'] = logistic_regression.predict_proba(x_test_fin)[:,1]"
   ]
  },
  {
   "cell_type": "code",
   "execution_count": 47,
   "metadata": {},
   "outputs": [],
   "source": [
    "result[['user_id', 'Attrition']].to_csv(f'result-{int(time.time())}.csv', index=False, float_format='%.8f')"
   ]
  },
  {
   "cell_type": "markdown",
   "metadata": {},
   "source": [
    "## Imbalance Data\n",
    "- Resamping: Undersampling and Oversampling"
   ]
  },
  {
   "cell_type": "code",
   "execution_count": 48,
   "metadata": {},
   "outputs": [],
   "source": [
    "count_class_0, count_class_1 = train_ex.Attrition.value_counts()\n",
    "df_class_0, df_class_1 = train_ex[train_ex[target] == 0], train_ex[train_ex[target] == 1]"
   ]
  },
  {
   "cell_type": "code",
   "execution_count": 49,
   "metadata": {},
   "outputs": [
    {
     "data": {
      "text/html": [
       "<div>\n",
       "<style scoped>\n",
       "    .dataframe tbody tr th:only-of-type {\n",
       "        vertical-align: middle;\n",
       "    }\n",
       "\n",
       "    .dataframe tbody tr th {\n",
       "        vertical-align: top;\n",
       "    }\n",
       "\n",
       "    .dataframe thead th {\n",
       "        text-align: right;\n",
       "    }\n",
       "</style>\n",
       "<table border=\"1\" class=\"dataframe\">\n",
       "  <thead>\n",
       "    <tr style=\"text-align: right;\">\n",
       "      <th></th>\n",
       "      <th>user_id</th>\n",
       "      <th>Age</th>\n",
       "      <th>Attrition</th>\n",
       "      <th>BusinessTravel</th>\n",
       "      <th>DailyRate</th>\n",
       "      <th>Department</th>\n",
       "      <th>DistanceFromHome</th>\n",
       "      <th>Education</th>\n",
       "      <th>EducationField</th>\n",
       "      <th>EmployeeCount</th>\n",
       "      <th>...</th>\n",
       "      <th>RelationshipSatisfaction</th>\n",
       "      <th>StandardHours</th>\n",
       "      <th>StockOptionLevel</th>\n",
       "      <th>TotalWorkingYears</th>\n",
       "      <th>TrainingTimesLastYear</th>\n",
       "      <th>WorkLifeBalance</th>\n",
       "      <th>YearsAtCompany</th>\n",
       "      <th>YearsInCurrentRole</th>\n",
       "      <th>YearsSinceLastPromotion</th>\n",
       "      <th>YearsWithCurrManager</th>\n",
       "    </tr>\n",
       "  </thead>\n",
       "  <tbody>\n",
       "    <tr>\n",
       "      <th>1033</th>\n",
       "      <td>286</td>\n",
       "      <td>44</td>\n",
       "      <td>1</td>\n",
       "      <td>2</td>\n",
       "      <td>920</td>\n",
       "      <td>1</td>\n",
       "      <td>24</td>\n",
       "      <td>3</td>\n",
       "      <td>0</td>\n",
       "      <td>1</td>\n",
       "      <td>...</td>\n",
       "      <td>4</td>\n",
       "      <td>80</td>\n",
       "      <td>1</td>\n",
       "      <td>19</td>\n",
       "      <td>0</td>\n",
       "      <td>1</td>\n",
       "      <td>1</td>\n",
       "      <td>0</td>\n",
       "      <td>0</td>\n",
       "      <td>0</td>\n",
       "    </tr>\n",
       "    <tr>\n",
       "      <th>684</th>\n",
       "      <td>415</td>\n",
       "      <td>34</td>\n",
       "      <td>1</td>\n",
       "      <td>2</td>\n",
       "      <td>296</td>\n",
       "      <td>0</td>\n",
       "      <td>6</td>\n",
       "      <td>2</td>\n",
       "      <td>2</td>\n",
       "      <td>1</td>\n",
       "      <td>...</td>\n",
       "      <td>4</td>\n",
       "      <td>80</td>\n",
       "      <td>1</td>\n",
       "      <td>3</td>\n",
       "      <td>3</td>\n",
       "      <td>2</td>\n",
       "      <td>2</td>\n",
       "      <td>2</td>\n",
       "      <td>1</td>\n",
       "      <td>0</td>\n",
       "    </tr>\n",
       "    <tr>\n",
       "      <th>100</th>\n",
       "      <td>689</td>\n",
       "      <td>20</td>\n",
       "      <td>1</td>\n",
       "      <td>1</td>\n",
       "      <td>129</td>\n",
       "      <td>1</td>\n",
       "      <td>4</td>\n",
       "      <td>3</td>\n",
       "      <td>3</td>\n",
       "      <td>1</td>\n",
       "      <td>...</td>\n",
       "      <td>2</td>\n",
       "      <td>80</td>\n",
       "      <td>0</td>\n",
       "      <td>1</td>\n",
       "      <td>2</td>\n",
       "      <td>3</td>\n",
       "      <td>1</td>\n",
       "      <td>0</td>\n",
       "      <td>0</td>\n",
       "      <td>0</td>\n",
       "    </tr>\n",
       "    <tr>\n",
       "      <th>397</th>\n",
       "      <td>762</td>\n",
       "      <td>26</td>\n",
       "      <td>1</td>\n",
       "      <td>2</td>\n",
       "      <td>342</td>\n",
       "      <td>1</td>\n",
       "      <td>2</td>\n",
       "      <td>3</td>\n",
       "      <td>0</td>\n",
       "      <td>1</td>\n",
       "      <td>...</td>\n",
       "      <td>2</td>\n",
       "      <td>80</td>\n",
       "      <td>1</td>\n",
       "      <td>6</td>\n",
       "      <td>2</td>\n",
       "      <td>3</td>\n",
       "      <td>3</td>\n",
       "      <td>2</td>\n",
       "      <td>1</td>\n",
       "      <td>2</td>\n",
       "    </tr>\n",
       "    <tr>\n",
       "      <th>1001</th>\n",
       "      <td>928</td>\n",
       "      <td>44</td>\n",
       "      <td>1</td>\n",
       "      <td>1</td>\n",
       "      <td>621</td>\n",
       "      <td>1</td>\n",
       "      <td>15</td>\n",
       "      <td>3</td>\n",
       "      <td>1</td>\n",
       "      <td>1</td>\n",
       "      <td>...</td>\n",
       "      <td>4</td>\n",
       "      <td>80</td>\n",
       "      <td>1</td>\n",
       "      <td>10</td>\n",
       "      <td>2</td>\n",
       "      <td>3</td>\n",
       "      <td>10</td>\n",
       "      <td>7</td>\n",
       "      <td>0</td>\n",
       "      <td>5</td>\n",
       "    </tr>\n",
       "  </tbody>\n",
       "</table>\n",
       "<p>5 rows × 35 columns</p>\n",
       "</div>"
      ],
      "text/plain": [
       "      user_id  Age  Attrition  BusinessTravel  DailyRate  Department  \\\n",
       "1033      286   44          1               2        920           1   \n",
       "684       415   34          1               2        296           0   \n",
       "100       689   20          1               1        129           1   \n",
       "397       762   26          1               2        342           1   \n",
       "1001      928   44          1               1        621           1   \n",
       "\n",
       "      DistanceFromHome  Education  EducationField  EmployeeCount  ...  \\\n",
       "1033                24          3               0              1  ...   \n",
       "684                  6          2               2              1  ...   \n",
       "100                  4          3               3              1  ...   \n",
       "397                  2          3               0              1  ...   \n",
       "1001                15          3               1              1  ...   \n",
       "\n",
       "      RelationshipSatisfaction  StandardHours  StockOptionLevel  \\\n",
       "1033                         4             80                 1   \n",
       "684                          4             80                 1   \n",
       "100                          2             80                 0   \n",
       "397                          2             80                 1   \n",
       "1001                         4             80                 1   \n",
       "\n",
       "      TotalWorkingYears  TrainingTimesLastYear  WorkLifeBalance  \\\n",
       "1033                 19                      0                1   \n",
       "684                   3                      3                2   \n",
       "100                   1                      2                3   \n",
       "397                   6                      2                3   \n",
       "1001                 10                      2                3   \n",
       "\n",
       "      YearsAtCompany  YearsInCurrentRole  YearsSinceLastPromotion  \\\n",
       "1033               1                   0                        0   \n",
       "684                2                   2                        1   \n",
       "100                1                   0                        0   \n",
       "397                3                   2                        1   \n",
       "1001              10                   7                        0   \n",
       "\n",
       "      YearsWithCurrManager  \n",
       "1033                     0  \n",
       "684                      0  \n",
       "100                      0  \n",
       "397                      2  \n",
       "1001                     5  \n",
       "\n",
       "[5 rows x 35 columns]"
      ]
     },
     "execution_count": 49,
     "metadata": {},
     "output_type": "execute_result"
    }
   ],
   "source": [
    "df_class_1.sample(5)"
   ]
  },
  {
   "cell_type": "markdown",
   "metadata": {},
   "source": [
    "### Under-Sampling\n",
    "- Random under-sampling"
   ]
  },
  {
   "cell_type": "code",
   "execution_count": 50,
   "metadata": {},
   "outputs": [
    {
     "name": "stdout",
     "output_type": "stream",
     "text": [
      "Random under-sampling:\n",
      "1    188\n",
      "0    188\n",
      "Name: Attrition, dtype: int64\n"
     ]
    },
    {
     "data": {
      "image/png": "[encoded data removed]",
      "text/plain": [
       "<Figure size 432x288 with 1 Axes>"
      ]
     },
     "metadata": {
      "needs_background": "light"
     },
     "output_type": "display_data"
    }
   ],
   "source": [
    "df_class_0_under = df_class_0.sample(count_class_1)\n",
    "df_train_under = pd.concat([df_class_0_under, df_class_1], axis=0)\n",
    "print('Random under-sampling:')\n",
    "print(df_train_under.Attrition.value_counts())\n",
    "\n",
    "df_train_under.Attrition.value_counts().plot(kind='bar', title='Count (target)');"
   ]
  },
  {
   "cell_type": "code",
   "execution_count": 51,
   "metadata": {},
   "outputs": [],
   "source": [
    "x_train_under_sampling = df_train_under[features].copy()\n",
    "y_train_under_sampling = df_train_under[target]\n",
    "ntrain_under_sampling = y_train_under_sampling.shape[0]"
   ]
  },
  {
   "cell_type": "markdown",
   "metadata": {},
   "source": [
    "#### Multi-Model"
   ]
  },
  {
   "cell_type": "code",
   "execution_count": 52,
   "metadata": {
    "collapsed": true
   },
   "outputs": [
    {
     "name": "stderr",
     "output_type": "stream",
     "text": [
      "/opt/conda/lib/python3.6/site-packages/xgboost/core.py:587: FutureWarning: Series.base is deprecated and will be removed in a future version\n",
      "  if getattr(data, 'base', None) is not None and \\\n"
     ]
    }
   ],
   "source": [
    "# clf, ntrain, ntest, x_train, y_train\n",
    "xg_oof_train, xg_oof_test = get_oof(xg, ntrain_under_sampling, ntest, x_train_under_sampling, y_train_under_sampling)\n",
    "et_oof_train, et_oof_test = get_oof(et, ntrain_under_sampling, ntest, x_train_under_sampling, y_train_under_sampling)\n",
    "rf_oof_train, rf_oof_test = get_oof(rf, ntrain_under_sampling, ntest, x_train_under_sampling, y_train_under_sampling)\n",
    "cb_oof_train, cb_oof_test = get_oof(cb, ntrain_under_sampling, ntest, x_train_under_sampling, y_train_under_sampling)"
   ]
  },
  {
   "cell_type": "code",
   "execution_count": 53,
   "metadata": {},
   "outputs": [
    {
     "name": "stdout",
     "output_type": "stream",
     "text": [
      "XG-CV: 0.7513297872340425\n",
      "ET-CV: 0.7715878225441377\n",
      "RF-CV: 0.7705126754187415\n",
      "CB-CV: 0.7337313263920325\n"
     ]
    }
   ],
   "source": [
    "print(\"XG-CV: {}\".format(roc_auc_score(y_train_under_sampling, xg_oof_train)))\n",
    "print(\"ET-CV: {}\".format(roc_auc_score(y_train_under_sampling, et_oof_train)))\n",
    "print(\"RF-CV: {}\".format(roc_auc_score(y_train_under_sampling, rf_oof_train)))\n",
    "print(\"CB-CV: {}\".format(roc_auc_score(y_train_under_sampling, cb_oof_train)))\n",
    "# XG-CV: 0.773228836577637\n",
    "# ET-CV: 0.7693809416025351\n",
    "# RF-CV: 0.7701731552738798\n",
    "# CB-CV: 0.7287799909461297"
   ]
  },
  {
   "cell_type": "markdown",
   "metadata": {},
   "source": [
    "#### Single-model"
   ]
  },
  {
   "cell_type": "code",
   "execution_count": 54,
   "metadata": {},
   "outputs": [],
   "source": [
    "X_train, X_test, y_train, y_test = train_test_split(x_train_under_sampling, y_train_under_sampling, test_size=0.40, random_state=1729)  # split train and test"
   ]
  },
  {
   "cell_type": "code",
   "execution_count": 55,
   "metadata": {},
   "outputs": [
    {
     "name": "stdout",
     "output_type": "stream",
     "text": [
      "Roc AUC:  0.7867957746478872\n"
     ]
    }
   ],
   "source": [
    "m2_xgb = xgb.XGBClassifier(n_estimators=1600, max_depth=8, seed=2020)\n",
    "m2_xgb.fit(X_train, y_train, eval_metric=\"auc\", verbose=False, eval_set=[(X_test, y_test)])\n",
    "#  https://scikit-learn.org/stable/modules/generated/sklearn.metrics.roc_auc_score.html#sklearn.metrics.roc_auc_score\n",
    "y_pre = m2_xgb.predict(X_test)\n",
    "# calculate the auc score\n",
    "print(\"Roc AUC: \", roc_auc_score(y_test, m2_xgb.predict_proba(X_test)[:,1], average='macro'))"
   ]
  },
  {
   "cell_type": "markdown",
   "metadata": {},
   "source": [
    "### Over-Sampling\n",
    "- 0.79561"
   ]
  },
  {
   "cell_type": "code",
   "execution_count": 56,
   "metadata": {},
   "outputs": [
    {
     "name": "stdout",
     "output_type": "stream",
     "text": [
      "Random over-sampling:\n",
      "1    988\n",
      "0    988\n",
      "Name: Attrition, dtype: int64\n"
     ]
    },
    {
     "data": {
      "image/png": "[encoded data removed]",
      "text/plain": [
       "<Figure size 432x288 with 1 Axes>"
      ]
     },
     "metadata": {
      "needs_background": "light"
     },
     "output_type": "display_data"
    }
   ],
   "source": [
    "df_class_1_over = df_class_1.sample(count_class_0, replace=True)\n",
    "df_train_over = pd.concat([df_class_0, df_class_1_over], axis=0)\n",
    "\n",
    "print('Random over-sampling:')\n",
    "print(df_train_over.Attrition.value_counts())\n",
    "\n",
    "df_train_over.Attrition.value_counts().plot(kind='bar', title='Count (target)');"
   ]
  },
  {
   "cell_type": "code",
   "execution_count": 57,
   "metadata": {},
   "outputs": [],
   "source": [
    "x_train_over_samping = df_train_over[features]\n",
    "y_train_over_samping = df_train_over[target]\n",
    "ntrain_over_samping = y_train_over_samping.shape[0]"
   ]
  },
  {
   "cell_type": "code",
   "execution_count": 58,
   "metadata": {},
   "outputs": [],
   "source": [
    "gc.enable()"
   ]
  },
  {
   "cell_type": "code",
   "execution_count": 59,
   "metadata": {
    "collapsed": true
   },
   "outputs": [
    {
     "name": "stderr",
     "output_type": "stream",
     "text": [
      "/opt/conda/lib/python3.6/site-packages/xgboost/core.py:587: FutureWarning: Series.base is deprecated and will be removed in a future version\n",
      "  if getattr(data, 'base', None) is not None and \\\n"
     ]
    }
   ],
   "source": [
    "# clf, ntrain, ntest, x_train, y_train\n",
    "xg_oof_train, xg_oof_test = get_oof(xg, ntrain_over_samping, ntest, x_train_over_samping, y_train_over_samping)\n",
    "et_oof_train, et_oof_test = get_oof(et, ntrain_over_samping, ntest, x_train_over_samping, y_train_over_samping)\n",
    "rf_oof_train, rf_oof_test = get_oof(rf, ntrain_over_samping, ntest, x_train_over_samping, y_train_over_samping)\n",
    "cb_oof_train, cb_oof_test = get_oof(cb, ntrain_over_samping, ntest, x_train_over_samping, y_train_over_samping)"
   ]
  },
  {
   "cell_type": "code",
   "execution_count": 60,
   "metadata": {},
   "outputs": [
    {
     "name": "stdout",
     "output_type": "stream",
     "text": [
      "XG-CV: 0.994181186382337\n",
      "ET-CV: 0.9946247684767822\n",
      "RF-CV: 0.9927490206362997\n",
      "CB-CV: 0.9952609451064597\n"
     ]
    }
   ],
   "source": [
    "print(\"XG-CV: {}\".format(roc_auc_score(y_train_over_samping, xg_oof_train)))\n",
    "print(\"ET-CV: {}\".format(roc_auc_score(y_train_over_samping, et_oof_train)))\n",
    "print(\"RF-CV: {}\".format(roc_auc_score(y_train_over_samping, rf_oof_train)))\n",
    "print(\"CB-CV: {}\".format(roc_auc_score(y_train_over_samping, cb_oof_train)))"
   ]
  },
  {
   "cell_type": "code",
   "execution_count": 61,
   "metadata": {},
   "outputs": [
    {
     "name": "stdout",
     "output_type": "stream",
     "text": [
      "(1976, 4),(294, 4)\n"
     ]
    }
   ],
   "source": [
    "x_train_fin = np.concatenate((xg_oof_train, et_oof_train, rf_oof_train, cb_oof_train), axis=1)\n",
    "x_test_fin = np.concatenate((xg_oof_test, et_oof_test, rf_oof_test, cb_oof_test), axis=1)\n",
    "\n",
    "print(\"{},{}\".format(x_train_fin.shape, x_test_fin.shape))"
   ]
  },
  {
   "cell_type": "code",
   "execution_count": 62,
   "metadata": {},
   "outputs": [
    {
     "name": "stderr",
     "output_type": "stream",
     "text": [
      "/opt/conda/lib/python3.6/site-packages/sklearn/linear_model/logistic.py:432: FutureWarning: Default solver will be changed to 'lbfgs' in 0.22. Specify a solver to silence this warning.\n",
      "  FutureWarning)\n"
     ]
    }
   ],
   "source": [
    "logistic_regression = LogisticRegression()\n",
    "logistic_regression.fit(x_train_fin, y_train_over_samping)\n",
    "result = pd.DataFrame()\n",
    "result['user_id'] = test_ex['user_id']\n",
    "result['Attrition'] = logistic_regression.predict_proba(x_test_fin)[:,1]"
   ]
  },
  {
   "cell_type": "code",
   "execution_count": 63,
   "metadata": {},
   "outputs": [],
   "source": [
    "result[['user_id', 'Attrition']].to_csv(f'result-{int(time.time())}.csv', index=False, float_format='%.8f')"
   ]
  },
  {
   "cell_type": "markdown",
   "metadata": {},
   "source": [
    "### SMOTE(Synthetic Minority Oversampling Technique)\n",
    "- Leaderboard:0.82202**"
   ]
  },
  {
   "cell_type": "code",
   "execution_count": 64,
   "metadata": {},
   "outputs": [
    {
     "name": "stderr",
     "output_type": "stream",
     "text": [
      "Using TensorFlow backend.\n"
     ]
    }
   ],
   "source": [
    "from imblearn.over_sampling import SMOTE"
   ]
  },
  {
   "cell_type": "code",
   "execution_count": 65,
   "metadata": {},
   "outputs": [],
   "source": [
    "smote = SMOTE(ratio='minority')\n",
    "X_sm, y_sm = smote.fit_sample(train_ex[features], train_ex[target])"
   ]
  },
  {
   "cell_type": "code",
   "execution_count": 66,
   "metadata": {},
   "outputs": [],
   "source": [
    "x_test = x_test.values"
   ]
  },
  {
   "cell_type": "code",
   "execution_count": 67,
   "metadata": {},
   "outputs": [
    {
     "data": {
      "text/plain": [
       "(294, 33)"
      ]
     },
     "execution_count": 67,
     "metadata": {},
     "output_type": "execute_result"
    }
   ],
   "source": [
    "x_test.shape"
   ]
  },
  {
   "cell_type": "code",
   "execution_count": 68,
   "metadata": {},
   "outputs": [
    {
     "data": {
      "text/plain": [
       "(1976,)"
      ]
     },
     "execution_count": 68,
     "metadata": {},
     "output_type": "execute_result"
    }
   ],
   "source": [
    "y_sm.shape"
   ]
  },
  {
   "cell_type": "code",
   "execution_count": 69,
   "metadata": {
    "collapsed": true
   },
   "outputs": [],
   "source": [
    "# clf, ntrain, ntest, x_train, y_train\n",
    "xg_oof_train, xg_oof_test = get_oof(xg, X_sm.shape[0], ntest, X_sm, y_sm)\n",
    "et_oof_train, et_oof_test = get_oof(et, X_sm.shape[0], ntest, X_sm, y_sm)\n",
    "rf_oof_train, rf_oof_test = get_oof(rf, X_sm.shape[0], ntest, X_sm, y_sm)\n",
    "cb_oof_train, cb_oof_test = get_oof(cb, X_sm.shape[0], ntest, X_sm, y_sm)"
   ]
  },
  {
   "cell_type": "code",
   "execution_count": 70,
   "metadata": {},
   "outputs": [
    {
     "name": "stdout",
     "output_type": "stream",
     "text": [
      "XG-CV: 0.9690670638758215\n",
      "ET-CV: 0.9641425855201692\n",
      "RF-CV: 0.9706672376206789\n",
      "CB-CV: 0.9729076857512826\n"
     ]
    }
   ],
   "source": [
    "print(\"XG-CV: {}\".format(roc_auc_score(y_sm, xg_oof_train)))\n",
    "print(\"ET-CV: {}\".format(roc_auc_score(y_sm, et_oof_train)))\n",
    "print(\"RF-CV: {}\".format(roc_auc_score(y_sm, rf_oof_train)))\n",
    "print(\"CB-CV: {}\".format(roc_auc_score(y_sm, cb_oof_train)))"
   ]
  },
  {
   "cell_type": "code",
   "execution_count": 71,
   "metadata": {},
   "outputs": [
    {
     "name": "stdout",
     "output_type": "stream",
     "text": [
      "(1976, 4),(294, 4)\n"
     ]
    }
   ],
   "source": [
    "x_train_fin = np.concatenate((xg_oof_train, et_oof_train, rf_oof_train, cb_oof_train), axis=1)\n",
    "x_test_fin = np.concatenate((xg_oof_test, et_oof_test, rf_oof_test, cb_oof_test), axis=1)\n",
    "\n",
    "print(\"{},{}\".format(x_train_fin.shape, x_test_fin.shape))"
   ]
  },
  {
   "cell_type": "code",
   "execution_count": 72,
   "metadata": {},
   "outputs": [
    {
     "name": "stderr",
     "output_type": "stream",
     "text": [
      "/opt/conda/lib/python3.6/site-packages/sklearn/linear_model/logistic.py:432: FutureWarning: Default solver will be changed to 'lbfgs' in 0.22. Specify a solver to silence this warning.\n",
      "  FutureWarning)\n"
     ]
    }
   ],
   "source": [
    "logistic_regression = LogisticRegression()\n",
    "logistic_regression.fit(x_train_fin, y_train_over_samping)\n",
    "result = pd.DataFrame()\n",
    "result['user_id'] = test_ex['user_id']\n",
    "result['Attrition'] = logistic_regression.predict_proba(x_test_fin)[:,1]"
   ]
  },
  {
   "cell_type": "code",
   "execution_count": 73,
   "metadata": {},
   "outputs": [],
   "source": [
    "result[['user_id', 'Attrition']].to_csv(f'result-{int(time.time())}.csv', index=False, float_format='%.8f')"
   ]
  },
  {
   "cell_type": "markdown",
   "metadata": {},
   "source": [
    "### Over-sampling followed by under-sampling\n",
    "- we will do a combination of over-sampling and under-sampling, using the **SMOTE** and **Tomek links** techniques:"
   ]
  },
  {
   "cell_type": "code",
   "execution_count": 74,
   "metadata": {},
   "outputs": [],
   "source": [
    "from imblearn.combine import SMOTETomek"
   ]
  },
  {
   "cell_type": "code",
   "execution_count": 75,
   "metadata": {},
   "outputs": [],
   "source": [
    "smt = SMOTETomek(ratio='auto')\n",
    "X_smt, y_smt = smt.fit_sample(train_ex[features], train_ex[target])"
   ]
  },
  {
   "cell_type": "code",
   "execution_count": 76,
   "metadata": {},
   "outputs": [
    {
     "data": {
      "text/plain": [
       "(1884, 33)"
      ]
     },
     "execution_count": 76,
     "metadata": {},
     "output_type": "execute_result"
    }
   ],
   "source": [
    "X_smt.shape"
   ]
  },
  {
   "cell_type": "code",
   "execution_count": 77,
   "metadata": {
    "collapsed": true
   },
   "outputs": [],
   "source": [
    "xg_oof_train, xg_oof_test = get_oof(xg, X_smt.shape[0], ntest, X_smt, y_smt)\n",
    "et_oof_train, et_oof_test = get_oof(et, X_smt.shape[0], ntest, X_smt, y_smt)\n",
    "rf_oof_train, rf_oof_test = get_oof(rf, X_smt.shape[0], ntest, X_smt, y_smt)\n",
    "cb_oof_train, cb_oof_test = get_oof(cb, X_smt.shape[0], ntest, X_smt, y_smt)"
   ]
  },
  {
   "cell_type": "code",
   "execution_count": 78,
   "metadata": {},
   "outputs": [
    {
     "name": "stdout",
     "output_type": "stream",
     "text": [
      "XG-CV: 0.9683523334279958\n",
      "ET-CV: 0.9611264374033655\n",
      "RF-CV: 0.9695615328095348\n",
      "CB-CV: 0.9750756172213433\n"
     ]
    }
   ],
   "source": [
    "print(\"XG-CV: {}\".format(roc_auc_score(y_smt, xg_oof_train)))\n",
    "print(\"ET-CV: {}\".format(roc_auc_score(y_smt, et_oof_train)))\n",
    "print(\"RF-CV: {}\".format(roc_auc_score(y_smt, rf_oof_train)))\n",
    "print(\"CB-CV: {}\".format(roc_auc_score(y_smt, cb_oof_train)))"
   ]
  },
  {
   "cell_type": "code",
   "execution_count": 79,
   "metadata": {},
   "outputs": [
    {
     "name": "stdout",
     "output_type": "stream",
     "text": [
      "(1884, 4),(294, 4)\n"
     ]
    }
   ],
   "source": [
    "x_train_fin = np.concatenate((xg_oof_train, et_oof_train, rf_oof_train, cb_oof_train), axis=1)\n",
    "x_test_fin = np.concatenate((xg_oof_test, et_oof_test, rf_oof_test, cb_oof_test), axis=1)\n",
    "\n",
    "print(\"{},{}\".format(x_train_fin.shape, x_test_fin.shape))"
   ]
  },
  {
   "cell_type": "code",
   "execution_count": 80,
   "metadata": {},
   "outputs": [
    {
     "name": "stderr",
     "output_type": "stream",
     "text": [
      "/opt/conda/lib/python3.6/site-packages/sklearn/linear_model/logistic.py:432: FutureWarning: Default solver will be changed to 'lbfgs' in 0.22. Specify a solver to silence this warning.\n",
      "  FutureWarning)\n"
     ]
    }
   ],
   "source": [
    "logistic_regression = LogisticRegression()\n",
    "logistic_regression.fit(x_train_fin, y_smt)\n",
    "result = pd.DataFrame()\n",
    "result['user_id'] = test_ex['user_id']\n",
    "result['Attrition'] = logistic_regression.predict_proba(x_test_fin)[:,1]"
   ]
  },
  {
   "cell_type": "code",
   "execution_count": 81,
   "metadata": {},
   "outputs": [],
   "source": [
    "result[['user_id', 'Attrition']].to_csv(f'result-{int(time.time())}.csv', index=False, float_format='%.8f')"
   ]
  },
  {
   "cell_type": "markdown",
   "metadata": {},
   "source": [
    "## Focal Loss\n",
    "- [FL for lightgbm](https://github.com/jrzaurin/LightGBM-with-Focal-Loss)\n",
    "- [FL for xgboost](https://github.com/jhwjhw0123/Imbalance-XGBoost)\n",
    "- [Custom Loss Function for xgboost and lightgbm](https://www.zhangqibot.com/post/ml-custom-loss-lgbm-xgb/)\n",
    "- [Custom Loss Function for catboost](https://cloud.tencent.com/developer/article/1513081)"
   ]
  },
  {
   "cell_type": "code",
   "execution_count": null,
   "metadata": {},
   "outputs": [],
   "source": []
  }
 ],
 "metadata": {
  "kernelspec": {
   "display_name": "Python 3",
   "language": "python",
   "name": "python3"
  },
  "language_info": {
   "codemirror_mode": {
    "name": "ipython",
    "version": 3
   },
   "file_extension": ".py",
   "mimetype": "text/x-python",
   "name": "python",
   "nbconvert_exporter": "python",
   "pygments_lexer": "ipython3",
   "version": "3.6.6"
  }
 },
 "nbformat": 4,
 "nbformat_minor": 1
}
