{
 "cells": [
  {
   "cell_type": "code",
   "execution_count": 2,
   "metadata": {
    "uuid": "737bc0e4-de33-4792-9146-187b08ed58ac"
   },
   "outputs": [],
   "source": [
    "# 使用LeNet模型对Mnist手写数字进行识别\n",
    "import tensorflow as tf\n",
    "#print(tf.__version__)\n",
    "from tensorflow.keras import layers\n",
    "from tensorflow.keras.datasets import mnist\n",
    "from tensorflow.keras.layers import Conv2D, MaxPooling2D\n",
    "from tensorflow.keras.layers import Dense, Flatten\n",
    "from tensorflow.keras.models import Sequential\n",
    "import numpy as np\n",
    "# 数据加载\n",
    "#(train_x, train_y), (test_x, test_y) = mnist.load_data() #从网上下载数据集\n",
    "data = np.load('mnist.npz') #从本地读取数据集\n",
    "#print(data.files)\n",
    "train_x, train_y, test_x, test_y  = data['x_train'], data['y_train'], data['x_test'], data['y_test']\n"
   ]
  },
  {
   "cell_type": "code",
   "execution_count": 3,
   "metadata": {
    "uuid": "65a645b1-f9dc-4085-b61c-3c584049b5b6"
   },
   "outputs": [
    {
     "name": "stdout",
     "output_type": "stream",
     "text": [
      "WARNING:tensorflow:From C:\\Anaconda3\\lib\\site-packages\\tensorflow\\python\\ops\\resource_variable_ops.py:435: colocate_with (from tensorflow.python.framework.ops) is deprecated and will be removed in a future version.\n",
      "Instructions for updating:\n",
      "Colocations handled automatically by placer.\n",
      "Train on 60000 samples, validate on 10000 samples\n",
      "WARNING:tensorflow:From C:\\Anaconda3\\lib\\site-packages\\tensorflow\\python\\ops\\math_ops.py:3066: to_int32 (from tensorflow.python.ops.math_ops) is deprecated and will be removed in a future version.\n",
      "Instructions for updating:\n",
      "Use tf.cast instead.\n",
      "Epoch 1/2\n",
      "60000/60000 [==============================] - 23s 377us/sample - loss: 0.3444 - acc: 0.8986 - val_loss: 0.1207 - val_acc: 0.9628\n",
      "Epoch 2/2\n",
      "60000/60000 [==============================] - 22s 372us/sample - loss: 0.0970 - acc: 0.9705 - val_loss: 0.0638 - val_acc: 0.9795\n",
      "10000/10000 [==============================] - 2s 229us/sample - loss: 0.0638 - acc: 0.9795\n",
      "误差:0.0638\n",
      "准确率: 0.9795\n"
     ]
    }
   ],
   "source": [
    "# 输入数据为 mnist 数据集\n",
    "train_x = train_x.reshape(train_x.shape[0], 28, 28, 1)\n",
    "test_x = test_x.reshape(test_x.shape[0], 28, 28, 1)\n",
    "train_x = train_x / 255\n",
    "test_x = test_x / 255\n",
    "train_y = tf.keras.utils.to_categorical(train_y, 10)\n",
    "test_y = tf.keras.utils.to_categorical(test_y, 10)\n",
    "# 创建序贯模型\n",
    "model = Sequential()\n",
    "# 第一层卷积层：6个卷积核，大小为5∗5, relu激活函数\n",
    "model.add(Conv2D(6, kernel_size=(5, 5), activation='relu', input_shape=(28, 28, 1)))\n",
    "# 第二层池化层：最大池化\n",
    "model.add(MaxPooling2D(pool_size=(2, 2)))\n",
    "# 第三层卷积层：16个卷积核，大小为5*5，relu激活函数\n",
    "model.add(Conv2D(16, kernel_size=(5, 5), activation='relu'))\n",
    "# 第二层池化层：最大池化\n",
    "model.add(MaxPooling2D(pool_size=(2, 2)))\n",
    "# 将参数进行扁平化，在LeNet5中称之为卷积层，实际上这一层是一维向量，和全连接层一样\n",
    "model.add(Flatten())\n",
    "model.add(Dense(120, activation='relu'))\n",
    "# 全连接层，输出节点个数为84个\n",
    "model.add(Dense(84, activation='relu'))\n",
    "# 输出层 用softmax 激活函数计算分类概率\n",
    "model.add(Dense(10, activation='softmax'))\n",
    "# 设置损失函数和优化器配置\n",
    "model.compile(loss=tf.keras.metrics.categorical_crossentropy, optimizer=tf.keras.optimizers.Adam(), metrics=['accuracy'])\n",
    "# 传入训练数据进行训练\n",
    "model.fit(train_x, train_y, batch_size=128, epochs=2, verbose=1, validation_data=(test_x, test_y))\n",
    "# 对结果进行评估\n",
    "score = model.evaluate(test_x, test_y)\n",
    "print('误差:%0.4lf' %score[0])\n",
    "print('准确率:', score[1])\n"
   ]
  },
  {
   "cell_type": "code",
   "execution_count": null,
   "metadata": {
    "uuid": "a786c8e9-4fa0-4314-90a8-084e8c57eb79"
   },
   "outputs": [],
   "source": []
  }
 ],
 "metadata": {
  "kernelspec": {
   "display_name": "Python 3",
   "language": "python",
   "name": "python3"
  },
  "language_info": {
   "codemirror_mode": {
    "name": "ipython",
    "version": 3
   },
   "file_extension": ".py",
   "mimetype": "text/x-python",
   "name": "python",
   "nbconvert_exporter": "python",
   "pygments_lexer": "ipython3",
   "version": "3.7.4"
  },
  "toc": {
   "base_numbering": 1,
   "nav_menu": {},
   "number_sections": true,
   "sideBar": true,
   "skip_h1_title": false,
   "title_cell": "Table of Contents",
   "title_sidebar": "Contents",
   "toc_cell": false,
   "toc_position": {},
   "toc_section_display": true,
   "toc_window_display": false
  }
 },
 "nbformat": 4,
 "nbformat_minor": 2
}
