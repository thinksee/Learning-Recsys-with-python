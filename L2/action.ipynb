{
 "cells": [
  {
   "cell_type": "markdown",
   "metadata": {},
   "source": [
    "## Motivation\n",
    "\n",
    "- Implement the algorithm SimpleTagBased, NormTagBased and TagBased-TFIDF with dataset [delicious](./delicious-2k/user_taggedbookmarks-timestamps.dat)\n",
    "- Clean dataset [Titanic](./titanic/train.csv)\n",
    "\n",
    "## Model of TagBased\n",
    "\n",
    "- Score of **SimpleTagBased**\n",
    "$$score(u,i)=\\sum_t user\\_tags[u,t] \\times tag\\_items[t,i]$$\n",
    "where $user\\_tags[u,t]$ is denoted times of user $u$ uses tag $t$, and $tag\\_items[t, i]$ is denoted times of item $i$ tagged by tag $t$.\n",
    "- Score of **NormTagBased**\n",
    "$$score(u,i)=\\sum_t\\frac{user\\_tags[u,t]}{user\\_tags[u]} \\times \\frac{tag\\_items[t,i]}{tag\\_items[t]}$$\n",
    "- Score of **TagBased-TFIDF**\n",
    "$$score(u,i)=\\sum_t \\frac{user\\_tags[u,t]}{log(1+tag\\_users[t])} \\times tag\\_items[t,i]$$\n",
    "\n",
    "## Model of Clean Titanic\n",
    "- \n",
    "- "
   ]
  },
  {
   "cell_type": "code",
   "execution_count": 9,
   "metadata": {},
   "outputs": [],
   "source": [
    "import numpy as np\n",
    "import pandas as pd\n",
    "import random\n",
    "import operator"
   ]
  },
  {
   "cell_type": "markdown",
   "metadata": {},
   "source": [
    "## Delicious-Simple/Norm/TFIDF"
   ]
  },
  {
   "cell_type": "code",
   "execution_count": 10,
   "metadata": {},
   "outputs": [],
   "source": [
    "class TagBased(object):\n",
    "    def __init__(self, filename, tagbased='simple'):\n",
    "        self.filename = filename\n",
    "        self.load_data()\n",
    "        self.random_split_data(0.2)\n",
    "        self.init_state()\n",
    "        self.test_recommend(tagbased)\n",
    "    \n",
    "    def load_data(self):\n",
    "        print('loading data.....')\n",
    "        filename = self.filename\n",
    "        self.records = {}\n",
    "        data = pd.read_csv(filename, delimiter='\\t')\n",
    "        for index, row in data.iterrows():\n",
    "            # user for some book setting tag\n",
    "            uid, bid, tid = row['userID'], row['bookmarkID'], row['tagID']\n",
    "            # graph or tree\n",
    "            self.records.setdefault(uid, {})\n",
    "            self.records[uid].setdefault(bid, [])\n",
    "            self.records[uid][bid].append(tid)\n",
    "        print('Size of Data Set', data.shape[0])\n",
    "        print('Number of person who sets tags', len(self.records))\n",
    "        print('Finish Loading Data')\n",
    "        \n",
    "    def random_split_data(self, ratio, seed=2020):\n",
    "        print('spliting data randomly.....')\n",
    "        random.seed(seed)\n",
    "        # build user-book according to tag\n",
    "        self.train = {}\n",
    "        self.test = {}\n",
    "        for user in self.records.keys():\n",
    "            for book in self.records[user].keys():\n",
    "                if random.random() < ratio:\n",
    "                    self.test.setdefault(user, {})\n",
    "                    self.test[user].setdefault(book, [])\n",
    "                    for tag in self.records[user][book]:\n",
    "                        self.test[user][book].append(tag)\n",
    "                else:\n",
    "                    self.train.setdefault(user, {})\n",
    "                    self.train[user].setdefault(book, [])\n",
    "                    for tag in self.records[user][book]:\n",
    "                        self.train[user][book].append(tag)\n",
    "        print('Size of train ', len(self.train), '\\nSize of test ', len(self.test))\n",
    "        \n",
    "    def init_state(self):\n",
    "        print('initing the mainly variable.......')\n",
    "        records = self.train\n",
    "        self.user_tags = {}\n",
    "        self.tag_books = {}\n",
    "        self.user_books = {}\n",
    "        for user, books in records.items():\n",
    "            for book, tags in books.items():\n",
    "                for tag in tags:\n",
    "                    # The relationship between user and tag\n",
    "                    self._add_value2mat(self.user_tags, user, tag, 1)\n",
    "                    # the relationship between tag and item\n",
    "                    self._add_value2mat(self.tag_books, tag, book, 1)\n",
    "                    # the relationship between user and item\n",
    "                    self._add_value2mat(self.user_books, user, book, 1)\n",
    "        print('user_tags, tag_books, user_books initialize finish.')\n",
    "        print('size of user_tags is {}, size of tag_books is {}, size of user_books is {}.'.format(len(self.user_tags), len(self.tag_books), len(self.user_books)))\n",
    "    \n",
    "    def _add_value2mat(self, dic, key, item, value=1):\n",
    "        # build the number of key-value\n",
    "        if key not in dic:\n",
    "            dic.setdefault(key, {})\n",
    "            dic[key].setdefault(item, value)\n",
    "        else:\n",
    "            if item not in dic[key]:\n",
    "                dic[key][item] = value\n",
    "            else:\n",
    "                dic[key][item] += value\n",
    "        \n",
    "    \n",
    "    def precision_and_recall(self, N, tagbased='simple'):\n",
    "        print('calcing the precision and recall......')\n",
    "        hit = 0\n",
    "        h_recall = 0\n",
    "        h_precision = 0\n",
    "        for user, books in self.test.items():\n",
    "            # if user not in trainset, we can't get some important things\n",
    "            if user not in self.train:\n",
    "                continue\n",
    "            rank = self.recommend(user, N, tagbased)\n",
    "            for book, rui in rank:\n",
    "                if book in books:\n",
    "                    hit += 1\n",
    "            h_recall += len(books)\n",
    "            h_precision += N\n",
    "        return 1. * hit / h_precision, 1. * hit / h_recall\n",
    "    # get Top N\n",
    "    def recommend(self, user, N, tagbased='simple'):\n",
    "        '''tagbased=\"simple\"/\"norm\"/\"tfidf\"\n",
    "        '''\n",
    "#         print('recommending top-N for user.........')\n",
    "        recommend_books = {}\n",
    "        # scored for book, scores for sum (times of user using tag, multipy times of book using the same tag.)\n",
    "        tagged_books= self.user_books[user]\n",
    "        len_user_tags = len(self.user_tags[user])\n",
    "        for tag, wut in self.user_tags[user].items():\n",
    "            len_tag_books = len(self.tag_books[tag])\n",
    "            for book, wti in self.tag_books[tag].items():\n",
    "                if book in tagged_books:\n",
    "                    continue\n",
    "                if tagbased == 'norm':\n",
    "                    wti = 1. * wti / len_tag_books\n",
    "                    wut = 1. * wut / len_user_tags\n",
    "                elif tagbased == 'tdidf':\n",
    "                    wut = 1. * wut / np.log2(1 + len_user_tags)\n",
    "                    \n",
    "                if book not in recommend_books:\n",
    "                    recommend_books[book] = wti * wut\n",
    "                else:\n",
    "                    recommend_books[book] += wti * wut  \n",
    "        return sorted(recommend_books.items(), key=operator.itemgetter(1), reverse=True)[0:N]\n",
    "\n",
    "    def test_recommend(self, tagbased='simple'):\n",
    "        print('result for result evaluation:')\n",
    "        print(\"%3s %10s %10s\" % ('N',\"precision\",'recall'))\n",
    "        for n in [5,10,20,40,60,80,100]:\n",
    "            precision, recall = self.precision_and_recall(n, tagbased)\n",
    "            print(precision, recall)\n",
    "            print(\"%3d %10.3f%% %10.3f%%\" % (n, precision * 100, recall * 100))"
   ]
  },
  {
   "cell_type": "code",
   "execution_count": 11,
   "metadata": {},
   "outputs": [
    {
     "name": "stdout",
     "output_type": "stream",
     "text": [
      "loading data.....\n",
      "Size of Data Set 437593\n",
      "Number of person who sets tags 1867\n",
      "Finish Loading Data\n",
      "spliting data randomly.....\n",
      "Size of train  1864 \n",
      "Size of test  1775\n",
      "initing the mainly variable.......\n",
      "user_tags, tag_books, user_books initialize finish.\n",
      "size of user_tags is 1864, size of tag_books is 36798, size of user_books is 1864.\n",
      "result for result evaluation:\n",
      "  N  precision     recall\n",
      "calcing the precision and recall......\n",
      "0.009932279909706547 0.00421072778601847\n",
      "  5      0.993%      0.421%\n",
      "calcing the precision and recall......\n",
      "0.007392776523702032 0.006268242499641131\n",
      " 10      0.739%      0.627%\n",
      "calcing the precision and recall......\n",
      "0.005135440180586907 0.008708550648356381\n",
      " 20      0.514%      0.871%\n",
      "calcing the precision and recall......\n",
      "0.003781038374717833 0.012823580075601703\n",
      " 40      0.378%      1.282%\n",
      "calcing the precision and recall......\n",
      "0.003094431903686983 0.015742380018182688\n",
      " 60      0.309%      1.574%\n",
      "calcing the precision and recall......\n",
      "0.002765237020316027 0.01875687831953682\n",
      " 80      0.277%      1.876%\n",
      "calcing the precision and recall......\n",
      "0.0024943566591422123 0.021149337288865495\n",
      "100      0.249%      2.115%\n"
     ]
    }
   ],
   "source": [
    "stb = TagBased('./delicious-2k/user_taggedbookmarks-timestamps.dat', 'simple')"
   ]
  },
  {
   "cell_type": "code",
   "execution_count": 12,
   "metadata": {},
   "outputs": [
    {
     "name": "stdout",
     "output_type": "stream",
     "text": [
      "loading data.....\n",
      "Size of Data Set 437593\n",
      "Number of person who sets tags 1867\n",
      "Finish Loading Data\n",
      "spliting data randomly.....\n",
      "Size of train  1864 \n",
      "Size of test  1775\n",
      "initing the mainly variable.......\n",
      "user_tags, tag_books, user_books initialize finish.\n",
      "size of user_tags is 1864, size of tag_books is 36798, size of user_books is 1864.\n",
      "result for result evaluation:\n",
      "  N  precision     recall\n",
      "calcing the precision and recall......\n",
      "0.004063205417607223 0.0017225704579166467\n",
      "  5      0.406%      0.172%\n",
      "calcing the precision and recall......\n",
      "0.003216704288939052 0.0027274032250346907\n",
      " 10      0.322%      0.273%\n",
      "calcing the precision and recall......\n",
      "0.0024830699774266367 0.00421072778601847\n",
      " 20      0.248%      0.421%\n",
      "calcing the precision and recall......\n",
      "0.0020033860045146727 0.0067945834728934396\n",
      " 40      0.200%      0.679%\n",
      "calcing the precision and recall......\n",
      "0.0016835966892400302 0.00856500311019666\n",
      " 60      0.168%      0.857%\n",
      "calcing the precision and recall......\n",
      "0.0015307562076749435 0.010383271926886454\n",
      " 80      0.153%      1.038%\n",
      "calcing the precision and recall......\n",
      "0.0013261851015801355 0.011244557155844777\n",
      "100      0.133%      1.124%\n"
     ]
    }
   ],
   "source": [
    "stb = TagBased('./delicious-2k/user_taggedbookmarks-timestamps.dat', 'norm')"
   ]
  },
  {
   "cell_type": "code",
   "execution_count": 13,
   "metadata": {},
   "outputs": [
    {
     "name": "stdout",
     "output_type": "stream",
     "text": [
      "loading data.....\n",
      "Size of Data Set 437593\n",
      "Number of person who sets tags 1867\n",
      "Finish Loading Data\n",
      "spliting data randomly.....\n",
      "Size of train  1864 \n",
      "Size of test  1775\n",
      "initing the mainly variable.......\n",
      "user_tags, tag_books, user_books initialize finish.\n",
      "size of user_tags is 1864, size of tag_books is 36798, size of user_books is 1864.\n",
      "result for result evaluation:\n",
      "  N  precision     recall\n",
      "calcing the precision and recall......\n",
      "0.009932279909706547 0.00421072778601847\n",
      "  5      0.993%      0.421%\n",
      "calcing the precision and recall......\n",
      "0.007392776523702032 0.006268242499641131\n",
      " 10      0.739%      0.627%\n",
      "calcing the precision and recall......\n",
      "0.005135440180586907 0.008708550648356381\n",
      " 20      0.514%      0.871%\n",
      "calcing the precision and recall......\n",
      "0.003781038374717833 0.012823580075601703\n",
      " 40      0.378%      1.282%\n",
      "calcing the precision and recall......\n",
      "0.003094431903686983 0.015742380018182688\n",
      " 60      0.309%      1.574%\n",
      "calcing the precision and recall......\n",
      "0.002765237020316027 0.01875687831953682\n",
      " 80      0.277%      1.876%\n",
      "calcing the precision and recall......\n",
      "0.0024943566591422123 0.021149337288865495\n",
      "100      0.249%      2.115%\n"
     ]
    }
   ],
   "source": [
    "stb = TagBased('./delicious-2k/user_taggedbookmarks-timestamps.dat', 'tfidf')"
   ]
  },
  {
   "cell_type": "markdown",
   "metadata": {},
   "source": [
    "|       |Simple        |TagBased    |Norm          |TagBased  |TFIDF|TagBased|\n",
    "| :----:|     :----:   |   :----:   |    :----:    |:----:    |   :----:    |:----:    |\n",
    "| N     | Precision    | Recall     |Precision     | Recall   |Precision    | Recall   |\n",
    "| 5     | 0.993%        | 0.421%     |0.406% |0.172% |0.993%       | 0.421% |\n",
    "| 10    | 0.739%        |  0.627%     |0.322%|0.273%   |0.739%       | 0.627% |\n",
    "|20|0.514% |0.871%|0.248%|0.421%|0.514% |0.871%|\n",
    "|40|0.378%|1.282%|0.200%|0.679%|0.378%|1.282%|\n",
    "|60|0.309%|1.574%|0.168% | 0.857%|0.309%|1.574%|\n",
    "|80|0.277%|1.876%|0.153%|1.038%|0.277% |1.876%|\n",
    "|100|0.249%|2.115%|0.133%  | 1.124%|0.249%|2.115%|"
   ]
  },
  {
   "cell_type": "code",
   "execution_count": 29,
   "metadata": {},
   "outputs": [
    {
     "data": {
      "text/plain": [
       "<matplotlib.legend.Legend at 0x17ac46c6888>"
      ]
     },
     "execution_count": 29,
     "metadata": {},
     "output_type": "execute_result"
    },
    {
     "data": {
      "image/png": "[encoded data removed]",
      "text/plain": [
       "<Figure size 432x288 with 1 Axes>"
      ]
     },
     "metadata": {
      "needs_background": "light"
     },
     "output_type": "display_data"
    }
   ],
   "source": [
    "# why not return a variable, SB\n",
    "simple_tb_pre = [0.993, 0.739, 0.514, 0.378, 0.309, 0.277, 0.277]\n",
    "simple_tb_re = [0.421, 0.627, 0.871, 1.282,1.574,1.876, 2.115]\n",
    "norm_tb_pre = [0.406, 0.322, 0.248, 0.200, 0.168, 0.153, 0.133]\n",
    "norm_tb_re = [0.172,0.273,0.421,0.679,0.857,1.038,1.124]\n",
    "tfidf_tb_pre = [0.993,0.739,0.514,0.378,0.309, 0.277, 0.249]\n",
    "tfidf_tb_re = [0.421,0.627, 0.871, 1.282, 1.574, 1.876, 2.115]\n",
    "x = [5, 10, 20, 40, 60, 80, 100]\n",
    "import matplotlib.pyplot as plt\n",
    "plt.plot(x, simple_tb_pre, 'ro-', label='simple-precision')\n",
    "plt.plot(x, simple_tb_re, 'ro-',label='simple-recall')\n",
    "plt.plot(x, norm_tb_pre, 'bs-', label='norm-precision')\n",
    "plt.plot(x, norm_tb_re, 'bs-',label='norm-recall')\n",
    "plt.plot(x, tfidf_tb_pre, 'kx-', label='tfidf-precision')\n",
    "plt.plot(x, tfidf_tb_re, 'kx-',label='tfidf-recall')\n",
    "plt.legend()"
   ]
  },
  {
   "cell_type": "markdown",
   "metadata": {},
   "source": [
    "## Clean Titanic"
   ]
  },
  {
   "cell_type": "markdown",
   "metadata": {},
   "source": [
    "### Import Libraries"
   ]
  },
  {
   "cell_type": "code",
   "execution_count": 1,
   "metadata": {},
   "outputs": [],
   "source": [
    "import pandas as pd\n",
    "import warnings\n",
    "warnings.filterwarnings('ignore')\n",
    "import os"
   ]
  },
  {
   "cell_type": "code",
   "execution_count": 2,
   "metadata": {},
   "outputs": [],
   "source": [
    "train = pd.read_csv('../L2/titanic/train.csv')\n",
    "test = pd.read_csv('../L2/titanic/test.csv')"
   ]
  },
  {
   "cell_type": "code",
   "execution_count": 3,
   "metadata": {},
   "outputs": [
    {
     "data": {
      "application/vnd.jupyter.widget-view+json": {
       "model_id": "bcbb181b68c8475cb7b0abbc2c7471e9",
       "version_major": 2,
       "version_minor": 0
      },
      "text/plain": [
       "Tab(children=(HTML(value='<div id=\"overview-content\" class=\"row variable spacing\">\\n    <div class=\"row\">\\n   …"
      ]
     },
     "metadata": {},
     "output_type": "display_data"
    },
    {
     "data": {
      "text/html": [
       "Report generated with <a href=\"https://github.com/pandas-profiling/pandas-profiling\">pandas-profiling</a>."
      ],
      "text/plain": [
       "<IPython.core.display.HTML object>"
      ]
     },
     "metadata": {},
     "output_type": "display_data"
    },
    {
     "data": {
      "text/plain": []
     },
     "execution_count": 3,
     "metadata": {},
     "output_type": "execute_result"
    }
   ],
   "source": [
    "import pandas_profiling"
   ]
  },
  {
   "cell_type": "markdown",
   "metadata": {},
   "source": [
    "### Trainset"
   ]
  },
  {
   "cell_type": "code",
   "execution_count": null,
   "metadata": {},
   "outputs": [],
   "source": [
    "train.profile_report()"
   ]
  },
  {
   "cell_type": "code",
   "execution_count": null,
   "metadata": {},
   "outputs": [],
   "source": [
    "train.info()"
   ]
  },
  {
   "cell_type": "code",
   "execution_count": null,
   "metadata": {},
   "outputs": [],
   "source": [
    "train.shape"
   ]
  },
  {
   "cell_type": "code",
   "execution_count": null,
   "metadata": {},
   "outputs": [],
   "source": [
    "train.decribe()"
   ]
  },
  {
   "cell_type": "markdown",
   "metadata": {},
   "source": [
    "### Testset"
   ]
  },
  {
   "cell_type": "code",
   "execution_count": 4,
   "metadata": {},
   "outputs": [
    {
     "data": {
      "application/vnd.jupyter.widget-view+json": {
       "model_id": "12fa9ba1b7d14064be3e5d2bae53b73a",
       "version_major": 2,
       "version_minor": 0
      },
      "text/plain": [
       "Tab(children=(HTML(value='<div id=\"overview-content\" class=\"row variable spacing\">\\n    <div class=\"row\">\\n   …"
      ]
     },
     "metadata": {},
     "output_type": "display_data"
    },
    {
     "data": {
      "text/html": [
       "Report generated with <a href=\"https://github.com/pandas-profiling/pandas-profiling\">pandas-profiling</a>."
      ],
      "text/plain": [
       "<IPython.core.display.HTML object>"
      ]
     },
     "metadata": {},
     "output_type": "display_data"
    },
    {
     "data": {
      "text/plain": []
     },
     "execution_count": 4,
     "metadata": {},
     "output_type": "execute_result"
    }
   ],
   "source": [
    "test.profile_report()"
   ]
  },
  {
   "cell_type": "code",
   "execution_count": null,
   "metadata": {},
   "outputs": [],
   "source": [
    "test.info()"
   ]
  },
  {
   "cell_type": "code",
   "execution_count": null,
   "metadata": {},
   "outputs": [],
   "source": [
    "test.shape"
   ]
  },
  {
   "cell_type": "code",
   "execution_count": null,
   "metadata": {},
   "outputs": [],
   "source": [
    "test.decribe()"
   ]
  },
  {
   "cell_type": "code",
   "execution_count": null,
   "metadata": {},
   "outputs": [],
   "source": [
    "test.sample()"
   ]
  },
  {
   "cell_type": "code",
   "execution_count": null,
   "metadata": {},
   "outputs": [],
   "source": []
  },
  {
   "cell_type": "markdown",
   "metadata": {},
   "source": [
    "[1.A Statistical Analysis & ML workflow of Titanic](https://www.kaggle.com/masumrumi/a-statistical-analysis-ml-workflow-of-titanic)"
   ]
  },
  {
   "cell_type": "code",
   "execution_count": null,
   "metadata": {},
   "outputs": [],
   "source": []
  }
 ],
 "metadata": {
  "kernelspec": {
   "display_name": "Python 3",
   "language": "python",
   "name": "python3"
  },
  "language_info": {
   "codemirror_mode": {
    "name": "ipython",
    "version": 3
   },
   "file_extension": ".py",
   "mimetype": "text/x-python",
   "name": "python",
   "nbconvert_exporter": "python",
   "pygments_lexer": "ipython3",
   "version": "3.7.4"
  }
 },
 "nbformat": 4,
 "nbformat_minor": 4
}
